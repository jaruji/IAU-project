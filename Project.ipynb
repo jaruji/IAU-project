{
 "cells": [
  {
   "cell_type": "code",
   "execution_count": 1,
   "metadata": {},
   "outputs": [],
   "source": [
    "import numpy as np\n",
    "import pandas as pd\n",
    "import matplotlib.pyplot as plt # matplotlib = zakladna kniznica na vytvaranie grafov\n",
    "import seaborn as sns \n",
    "import json\n",
    "from scipy import stats as st\n",
    "from scipy.stats import norm as nr\n",
    "from collections import Counter\n",
    "%matplotlib inline \n",
    "sns.set()"
   ]
  },
  {
   "cell_type": "code",
   "execution_count": 2,
   "metadata": {},
   "outputs": [],
   "source": [
    "personal = pd.read_csv(\"data\\personal_train.csv\")"
   ]
  },
  {
   "cell_type": "code",
   "execution_count": 3,
   "metadata": {},
   "outputs": [
    {
     "name": "stdout",
     "output_type": "stream",
     "text": [
      "<class 'pandas.core.frame.DataFrame'>\n",
      "RangeIndex: 3933 entries, 0 to 3932\n",
      "Data columns (total 6 columns):\n",
      "Unnamed: 0       3933 non-null int64\n",
      "name             3933 non-null object\n",
      "address          3933 non-null object\n",
      "age              3933 non-null int64\n",
      "sex              3933 non-null object\n",
      "date_of_birth    3933 non-null object\n",
      "dtypes: int64(2), object(4)\n",
      "memory usage: 184.5+ KB\n"
     ]
    }
   ],
   "source": [
    "personal.info()"
   ]
  },
  {
   "cell_type": "markdown",
   "metadata": {},
   "source": [
    "# Opis a počet atribútov\n",
    "V datasete personal_train máme dokopy 3933 zaznamov, pričom kazdy má 6 atribútov. Jeden z týchto atributov je poradové cislo záznamu. Predpokladáme, že tento atribút reálne využívať pri našom zadaní nebudeme, čiže bude vhodné ho z datasetu odstrániť.\n",
    "* Unnamed: 0 - jedná sa o integer hodnotu reprezentujúcu index zaznamu\n",
    "* name - krstné meno + priezvisko\n",
    "* address - adresa\n",
    "* age - integer hodnota reprezentujúca vek subjektu\n",
    "* sex - pohlavie\n",
    "* date_of_birth - dátum narodenia subjektu\n",
    "\n",
    "Taktiež vidíme, že každý atribút má non-null hodnotu vo všetkých 3933 záznamoch."
   ]
  },
  {
   "cell_type": "code",
   "execution_count": 4,
   "metadata": {},
   "outputs": [
    {
     "data": {
      "text/html": [
       "<div>\n",
       "<style scoped>\n",
       "    .dataframe tbody tr th:only-of-type {\n",
       "        vertical-align: middle;\n",
       "    }\n",
       "\n",
       "    .dataframe tbody tr th {\n",
       "        vertical-align: top;\n",
       "    }\n",
       "\n",
       "    .dataframe thead th {\n",
       "        text-align: right;\n",
       "    }\n",
       "</style>\n",
       "<table border=\"1\" class=\"dataframe\">\n",
       "  <thead>\n",
       "    <tr style=\"text-align: right;\">\n",
       "      <th></th>\n",
       "      <th>Unnamed: 0</th>\n",
       "      <th>age</th>\n",
       "    </tr>\n",
       "  </thead>\n",
       "  <tbody>\n",
       "    <tr>\n",
       "      <td>count</td>\n",
       "      <td>3933.000000</td>\n",
       "      <td>3933.000000</td>\n",
       "    </tr>\n",
       "    <tr>\n",
       "      <td>mean</td>\n",
       "      <td>1966.000000</td>\n",
       "      <td>51.816934</td>\n",
       "    </tr>\n",
       "    <tr>\n",
       "      <td>std</td>\n",
       "      <td>1135.503633</td>\n",
       "      <td>11.814803</td>\n",
       "    </tr>\n",
       "    <tr>\n",
       "      <td>min</td>\n",
       "      <td>0.000000</td>\n",
       "      <td>-1.000000</td>\n",
       "    </tr>\n",
       "    <tr>\n",
       "      <td>25%</td>\n",
       "      <td>983.000000</td>\n",
       "      <td>44.000000</td>\n",
       "    </tr>\n",
       "    <tr>\n",
       "      <td>50%</td>\n",
       "      <td>1966.000000</td>\n",
       "      <td>52.000000</td>\n",
       "    </tr>\n",
       "    <tr>\n",
       "      <td>75%</td>\n",
       "      <td>2949.000000</td>\n",
       "      <td>60.000000</td>\n",
       "    </tr>\n",
       "    <tr>\n",
       "      <td>max</td>\n",
       "      <td>3932.000000</td>\n",
       "      <td>113.000000</td>\n",
       "    </tr>\n",
       "  </tbody>\n",
       "</table>\n",
       "</div>"
      ],
      "text/plain": [
       "        Unnamed: 0          age\n",
       "count  3933.000000  3933.000000\n",
       "mean   1966.000000    51.816934\n",
       "std    1135.503633    11.814803\n",
       "min       0.000000    -1.000000\n",
       "25%     983.000000    44.000000\n",
       "50%    1966.000000    52.000000\n",
       "75%    2949.000000    60.000000\n",
       "max    3932.000000   113.000000"
      ]
     },
     "execution_count": 4,
     "metadata": {},
     "output_type": "execute_result"
    }
   ],
   "source": [
    "personal.describe()"
   ]
  },
  {
   "cell_type": "markdown",
   "metadata": {},
   "source": [
    "# Zaujimavé atribúty\n",
    "Pre naše zadanie zaujimave hodnoty z datasetu personal_train môžu byť vek a pohlavie subjektov. Môžeme zistovať, či existuje nejaká závislosť medzi vekom | pohlavím a výskytom cukrovky. Vek môžeme teoreticky overovať pomocou dátumu narodenia, čiže pri prípadnom výskyte nekorektných vekov (záporne cisla alebo priveľké čísla) ich možno dokážeme opraviť pomocou dátumu narodenia. V situácii, že sa vek a dátum narodenia líšia však nedokážeme určiť, ktorý z týchto atribútov je korektný. Vtedy bude asi potrebné prispôsobiť jeden druhému náhodne, resp. si určíme, že v prípade rozdielu medzi vekom a dátumom narodenia budeme brať za korektný vždy dátum narodenia. Atribúty name a address nam slúžia na spojenie s druhým datasetom (other_train.csv), keďže tieto datasety majú spoločné práve tieto 2 atribúty."
   ]
  },
  {
   "cell_type": "code",
   "execution_count": 5,
   "metadata": {},
   "outputs": [
    {
     "data": {
      "text/plain": [
       "<matplotlib.axes._subplots.AxesSubplot at 0x1d99b1c9be0>"
      ]
     },
     "execution_count": 5,
     "metadata": {},
     "output_type": "execute_result"
    },
    {
     "data": {
      "image/png": "[encoded data removed]",
      "text/plain": [
       "<Figure size 432x288 with 1 Axes>"
      ]
     },
     "metadata": {
      "needs_background": "light"
     },
     "output_type": "display_data"
    }
   ],
   "source": [
    "#personal.age.plot(kind='hist', bins=[0,10,15,20,25,30,35,40,45,50,55,60,65,70,75,80,85,90,95,100,105,110,115] , legend=True)\n",
    "sns.distplot(personal['age'].dropna(),bins=50, color = \"red\")"
   ]
  },
  {
   "cell_type": "code",
   "execution_count": 6,
   "metadata": {},
   "outputs": [
    {
     "data": {
      "text/plain": [
       "<matplotlib.axes._subplots.AxesSubplot at 0x1d99c614550>"
      ]
     },
     "execution_count": 6,
     "metadata": {},
     "output_type": "execute_result"
    },
    {
     "data": {
      "image/png": "[encoded data removed]",
      "text/plain": [
       "<Figure size 432x288 with 1 Axes>"
      ]
     },
     "metadata": {
      "needs_background": "light"
     },
     "output_type": "display_data"
    }
   ],
   "source": [
    "personal.age.plot(kind='box')"
   ]
  },
  {
   "cell_type": "markdown",
   "metadata": {},
   "source": [
    "Pri veku mozme na boxplote vidiet, ze sa v datasete nachadzaju aj hodnoty veku -1 a 110+. Pri hodnote < 0 sa jedna o chybu, no este nevieme posudit ci je cely zaznam nezmyselny a je potrebne ho vyhodit. Hodnota 113 je sice velmi vychylena od zvysku, no stale sa moze jednat o korektnu hodnotu. "
   ]
  },
  {
   "cell_type": "code",
   "execution_count": 7,
   "metadata": {},
   "outputs": [
    {
     "data": {
      "text/html": [
       "<div>\n",
       "<style scoped>\n",
       "    .dataframe tbody tr th:only-of-type {\n",
       "        vertical-align: middle;\n",
       "    }\n",
       "\n",
       "    .dataframe tbody tr th {\n",
       "        vertical-align: top;\n",
       "    }\n",
       "\n",
       "    .dataframe thead th {\n",
       "        text-align: right;\n",
       "    }\n",
       "</style>\n",
       "<table border=\"1\" class=\"dataframe\">\n",
       "  <thead>\n",
       "    <tr style=\"text-align: right;\">\n",
       "      <th></th>\n",
       "      <th>Unnamed: 0</th>\n",
       "      <th>name</th>\n",
       "      <th>address</th>\n",
       "      <th>age</th>\n",
       "      <th>sex</th>\n",
       "      <th>date_of_birth</th>\n",
       "    </tr>\n",
       "  </thead>\n",
       "  <tbody>\n",
       "    <tr>\n",
       "      <td>1494</td>\n",
       "      <td>1494</td>\n",
       "      <td>James Raspberry</td>\n",
       "      <td>28375 Nicole Vista\\r\\nValerieshire, MO 11508</td>\n",
       "      <td>-1</td>\n",
       "      <td>Female</td>\n",
       "      <td>2020-01-26</td>\n",
       "    </tr>\n",
       "    <tr>\n",
       "      <td>3826</td>\n",
       "      <td>3826</td>\n",
       "      <td>Clark Smith</td>\n",
       "      <td>9472 Megan Forge\\r\\nNorth Selenaborough, NV 88450</td>\n",
       "      <td>113</td>\n",
       "      <td>Male</td>\n",
       "      <td>1906-07-20 00 00 00</td>\n",
       "    </tr>\n",
       "  </tbody>\n",
       "</table>\n",
       "</div>"
      ],
      "text/plain": [
       "      Unnamed: 0             name  \\\n",
       "1494        1494  James Raspberry   \n",
       "3826        3826      Clark Smith   \n",
       "\n",
       "                                                address  age      sex  \\\n",
       "1494       28375 Nicole Vista\\r\\nValerieshire, MO 11508   -1   Female   \n",
       "3826  9472 Megan Forge\\r\\nNorth Selenaborough, NV 88450  113     Male   \n",
       "\n",
       "            date_of_birth  \n",
       "1494           2020-01-26  \n",
       "3826  1906-07-20 00 00 00  "
      ]
     },
     "execution_count": 7,
     "metadata": {},
     "output_type": "execute_result"
    }
   ],
   "source": [
    "personal[(personal.age < 0) | (personal.age > 100)]"
   ]
  },
  {
   "cell_type": "markdown",
   "metadata": {},
   "source": [
    "Zobrazili sme si najkrajnejšie zaznamy, ktoré sme videli zobrazené na predchádzajúcom grafe. Vidíme, ze záznam subjektu s vekom 113 má korektný datum narodenia, čiže ho zatiaľ budeme považovať za korektný. Subjekt s vekom -1 má však nezmyselný dátum narodenia,čiže bude potrebné vyhľadať zhodujúci sa záznam v druhom datasete a zistiť, či sú aj v ňom hodnoty nezmyselné. Ak áno, záznam nám môže pokaziť náš model a radšej ho zahodíme. Stále sa však môže jednať o preklep alebo nejakú chybu v systéme."
   ]
  },
  {
   "cell_type": "code",
   "execution_count": 8,
   "metadata": {},
   "outputs": [
    {
     "name": "stdout",
     "output_type": "stream",
     "text": [
      "Counter({' Male': 2651, ' Female': 1282})\n"
     ]
    },
    {
     "data": {
      "image/png": "[encoded data removed]",
      "text/plain": [
       "<Figure size 432x288 with 1 Axes>"
      ]
     },
     "metadata": {
      "needs_background": "light"
     },
     "output_type": "display_data"
    }
   ],
   "source": [
    "#TODO: graf rozdelenia pohlavi subjekov\n",
    "count = Counter(personal.sex)\n",
    "df = pd.DataFrame.from_dict(count, orient='index')\n",
    "df.plot(kind='bar', legend = True)\n",
    "print(count)"
   ]
  },
  {
   "cell_type": "markdown",
   "metadata": {},
   "source": [
    "Na histogramoch možno vidieť, že prevažná väčšina subjektov sa nachádza vo vekovom rozpätí od 40 - 70 rokov, pričom najviac je zástupcov vo veku okolo 50 rokov. Taktiež je prevažná väčšina subjektov mužského pohlavia."
   ]
  },
  {
   "cell_type": "code",
   "execution_count": 9,
   "metadata": {},
   "outputs": [
    {
     "data": {
      "text/html": [
       "<div>\n",
       "<style scoped>\n",
       "    .dataframe tbody tr th:only-of-type {\n",
       "        vertical-align: middle;\n",
       "    }\n",
       "\n",
       "    .dataframe tbody tr th {\n",
       "        vertical-align: top;\n",
       "    }\n",
       "\n",
       "    .dataframe thead th {\n",
       "        text-align: right;\n",
       "    }\n",
       "</style>\n",
       "<table border=\"1\" class=\"dataframe\">\n",
       "  <thead>\n",
       "    <tr style=\"text-align: right;\">\n",
       "      <th></th>\n",
       "      <th>Unnamed: 0</th>\n",
       "      <th>name</th>\n",
       "      <th>address</th>\n",
       "      <th>age</th>\n",
       "      <th>sex</th>\n",
       "      <th>date_of_birth</th>\n",
       "    </tr>\n",
       "  </thead>\n",
       "  <tbody>\n",
       "  </tbody>\n",
       "</table>\n",
       "</div>"
      ],
      "text/plain": [
       "Empty DataFrame\n",
       "Columns: [Unnamed: 0, name, address, age, sex, date_of_birth]\n",
       "Index: []"
      ]
     },
     "execution_count": 9,
     "metadata": {},
     "output_type": "execute_result"
    }
   ],
   "source": [
    "personal[(personal[\"sex\"] != \" Male\") & (personal[\"sex\"] != \" Female\")]"
   ]
  },
  {
   "cell_type": "markdown",
   "metadata": {},
   "source": [
    "Atribút reprezentujúci pohlavie nadobúda len 2 hodnoty - Male a Female, no na ich začiatku sa nachádza zbytočný whitespace, ktorý môžme v daľšej fáze odstrániť.Netreba tu teda riešiť žiadne chýbajúce alebo vychýlené hodnoty."
   ]
  },
  {
   "cell_type": "markdown",
   "metadata": {},
   "source": [
    "# Možné chyby + návrh riešenia\n",
    "V csv personal sa nachádzajú osobné údaje o jednotlivých ľudoch, t.j konkrétne ich meno, adresa, vek, pohlave a dátum narodenia\n",
    "Možeme vidieť, že máme nekonzistentne zapísané dátumy narodení - raz vo formáte D/M/Y, inokedy Y-M-D a Y-M-D-T. V adresách sa nachádzaju znaky /r/n, ktore oddeľujú jednotlivé časti adries (ulice, mesto, atd...).\n",
    "\n"
   ]
  },
  {
   "cell_type": "code",
   "execution_count": 10,
   "metadata": {},
   "outputs": [],
   "source": [
    "#personal = personal.drop('Unnamed: 0', axis = 1) "
   ]
  },
  {
   "cell_type": "code",
   "execution_count": 11,
   "metadata": {},
   "outputs": [],
   "source": [
    "other = pd.read_csv(\"data\\other_train.csv\")"
   ]
  },
  {
   "cell_type": "code",
   "execution_count": 12,
   "metadata": {},
   "outputs": [
    {
     "name": "stdout",
     "output_type": "stream",
     "text": [
      "<class 'pandas.core.frame.DataFrame'>\n",
      "RangeIndex: 3983 entries, 0 to 3982\n",
      "Data columns (total 23 columns):\n",
      "Unnamed: 0         3983 non-null int64\n",
      "name               3983 non-null object\n",
      "address            3983 non-null object\n",
      "kurtosis_oxygen    3969 non-null float64\n",
      "occupation         3970 non-null object\n",
      "marital-status     3967 non-null object\n",
      "pregnant           3968 non-null object\n",
      "education-num      3572 non-null float64\n",
      "relationship       3969 non-null object\n",
      "std_oxygen         3968 non-null float64\n",
      "capital-gain       3969 non-null float64\n",
      "skewness_oxygen    3964 non-null float64\n",
      "education          3971 non-null object\n",
      "fnlwgt             3974 non-null float64\n",
      "class              3972 non-null float64\n",
      "income             3971 non-null object\n",
      "medical_info       3966 non-null object\n",
      "native-country     3966 non-null object\n",
      "capital-loss       3966 non-null float64\n",
      "mean_oxygen        3972 non-null float64\n",
      "hours-per-week     3967 non-null float64\n",
      "race               3970 non-null object\n",
      "workclass          3739 non-null object\n",
      "dtypes: float64(10), int64(1), object(12)\n",
      "memory usage: 715.8+ KB\n"
     ]
    }
   ],
   "source": [
    "other.info()"
   ]
  },
  {
   "cell_type": "markdown",
   "metadata": {},
   "source": [
    "# Opis atribútov\n",
    "Dataset other_train.csv má 3983 záznamov a 23 atribútov.\n",
    "* Unnamed: 0 - integerova hodnota obsahujuca index zaznamu\n",
    "* name - krstne meno + priezvisko subjektu\n",
    "* address - adresa subjektu\n",
    "* kurtosis_oxygen - \n",
    "* occupation - zamestnanie\n",
    "* marital-status - rodinny stav\n",
    "* pregnant - \n",
    "* education-num -   \n",
    "* relationship - \n",
    "* std_oxygen - \n",
    "* capital-gain - \n",
    "* skewness_oxygen - \n",
    "* education -  \n",
    "* fnlwgt -   \n",
    "* class - hodnoty 0 1, reprezentuju ci ma subjekt cukrovku alebo nie (jedna sa o predikovanu hodnotu)\n",
    "* income - rocny prijem subjektu \n",
    "* medical_info - atribut obsahujuci dalsie 4 atributy - mean_glucose, std_glucose, kurtosis_glucose a skewness_glucose. Bude ho potrebne rozdelit ako 4 samostatne atributy\n",
    "* native-country - rodna krajina\n",
    "* capital-loss - \n",
    "* mean_oxygen - \n",
    "* hours-per-week - počet odpracovaných hodin týždenne\n",
    "* race -  rasa subjektu\n",
    "* workclass - vykytuju sa hodnoty NaN a ???"
   ]
  },
  {
   "cell_type": "code",
   "execution_count": 13,
   "metadata": {},
   "outputs": [
    {
     "data": {
      "text/html": [
       "<div>\n",
       "<style scoped>\n",
       "    .dataframe tbody tr th:only-of-type {\n",
       "        vertical-align: middle;\n",
       "    }\n",
       "\n",
       "    .dataframe tbody tr th {\n",
       "        vertical-align: top;\n",
       "    }\n",
       "\n",
       "    .dataframe thead th {\n",
       "        text-align: right;\n",
       "    }\n",
       "</style>\n",
       "<table border=\"1\" class=\"dataframe\">\n",
       "  <thead>\n",
       "    <tr style=\"text-align: right;\">\n",
       "      <th></th>\n",
       "      <th>Unnamed: 0</th>\n",
       "      <th>kurtosis_oxygen</th>\n",
       "      <th>education-num</th>\n",
       "      <th>std_oxygen</th>\n",
       "      <th>capital-gain</th>\n",
       "      <th>skewness_oxygen</th>\n",
       "      <th>fnlwgt</th>\n",
       "      <th>class</th>\n",
       "      <th>capital-loss</th>\n",
       "      <th>mean_oxygen</th>\n",
       "      <th>hours-per-week</th>\n",
       "    </tr>\n",
       "  </thead>\n",
       "  <tbody>\n",
       "    <tr>\n",
       "      <td>count</td>\n",
       "      <td>3983.00000</td>\n",
       "      <td>3969.000000</td>\n",
       "      <td>3572.000000</td>\n",
       "      <td>3968.000000</td>\n",
       "      <td>3969.000000</td>\n",
       "      <td>3964.000000</td>\n",
       "      <td>3974.000000</td>\n",
       "      <td>3972.000000</td>\n",
       "      <td>3966.000000</td>\n",
       "      <td>3972.000000</td>\n",
       "      <td>3967.000000</td>\n",
       "    </tr>\n",
       "    <tr>\n",
       "      <td>mean</td>\n",
       "      <td>1991.00000</td>\n",
       "      <td>7.423042</td>\n",
       "      <td>13.064110</td>\n",
       "      <td>31.158976</td>\n",
       "      <td>1118.833207</td>\n",
       "      <td>91.795908</td>\n",
       "      <td>190944.202063</td>\n",
       "      <td>0.255287</td>\n",
       "      <td>87.882753</td>\n",
       "      <td>18.504313</td>\n",
       "      <td>40.733552</td>\n",
       "    </tr>\n",
       "    <tr>\n",
       "      <td>std</td>\n",
       "      <td>1149.93739</td>\n",
       "      <td>4.846216</td>\n",
       "      <td>331.930108</td>\n",
       "      <td>22.265708</td>\n",
       "      <td>7522.515940</td>\n",
       "      <td>110.770563</td>\n",
       "      <td>103909.567546</td>\n",
       "      <td>0.436077</td>\n",
       "      <td>401.609490</td>\n",
       "      <td>34.837091</td>\n",
       "      <td>12.383999</td>\n",
       "    </tr>\n",
       "    <tr>\n",
       "      <td>min</td>\n",
       "      <td>0.00000</td>\n",
       "      <td>-2.597872</td>\n",
       "      <td>-1600.000000</td>\n",
       "      <td>7.370432</td>\n",
       "      <td>0.000000</td>\n",
       "      <td>-1.976976</td>\n",
       "      <td>14878.000000</td>\n",
       "      <td>0.000000</td>\n",
       "      <td>0.000000</td>\n",
       "      <td>0.213211</td>\n",
       "      <td>1.000000</td>\n",
       "    </tr>\n",
       "    <tr>\n",
       "      <td>25%</td>\n",
       "      <td>995.50000</td>\n",
       "      <td>3.637833</td>\n",
       "      <td>9.000000</td>\n",
       "      <td>15.064858</td>\n",
       "      <td>0.000000</td>\n",
       "      <td>12.966818</td>\n",
       "      <td>119457.750000</td>\n",
       "      <td>0.000000</td>\n",
       "      <td>0.000000</td>\n",
       "      <td>2.069189</td>\n",
       "      <td>40.000000</td>\n",
       "    </tr>\n",
       "    <tr>\n",
       "      <td>50%</td>\n",
       "      <td>1991.00000</td>\n",
       "      <td>7.781618</td>\n",
       "      <td>10.000000</td>\n",
       "      <td>20.579902</td>\n",
       "      <td>0.000000</td>\n",
       "      <td>68.623477</td>\n",
       "      <td>179434.500000</td>\n",
       "      <td>0.000000</td>\n",
       "      <td>0.000000</td>\n",
       "      <td>3.234532</td>\n",
       "      <td>40.000000</td>\n",
       "    </tr>\n",
       "    <tr>\n",
       "      <td>75%</td>\n",
       "      <td>2986.50000</td>\n",
       "      <td>10.259075</td>\n",
       "      <td>13.000000</td>\n",
       "      <td>43.229414</td>\n",
       "      <td>0.000000</td>\n",
       "      <td>126.894595</td>\n",
       "      <td>237933.000000</td>\n",
       "      <td>1.000000</td>\n",
       "      <td>0.000000</td>\n",
       "      <td>12.619983</td>\n",
       "      <td>45.000000</td>\n",
       "    </tr>\n",
       "    <tr>\n",
       "      <td>max</td>\n",
       "      <td>3982.00000</td>\n",
       "      <td>34.539844</td>\n",
       "      <td>1600.000000</td>\n",
       "      <td>110.642211</td>\n",
       "      <td>99999.000000</td>\n",
       "      <td>1191.000837</td>\n",
       "      <td>972354.000000</td>\n",
       "      <td>1.000000</td>\n",
       "      <td>3900.000000</td>\n",
       "      <td>217.371238</td>\n",
       "      <td>99.000000</td>\n",
       "    </tr>\n",
       "  </tbody>\n",
       "</table>\n",
       "</div>"
      ],
      "text/plain": [
       "       Unnamed: 0  kurtosis_oxygen  education-num   std_oxygen  capital-gain  \\\n",
       "count  3983.00000      3969.000000    3572.000000  3968.000000   3969.000000   \n",
       "mean   1991.00000         7.423042      13.064110    31.158976   1118.833207   \n",
       "std    1149.93739         4.846216     331.930108    22.265708   7522.515940   \n",
       "min       0.00000        -2.597872   -1600.000000     7.370432      0.000000   \n",
       "25%     995.50000         3.637833       9.000000    15.064858      0.000000   \n",
       "50%    1991.00000         7.781618      10.000000    20.579902      0.000000   \n",
       "75%    2986.50000        10.259075      13.000000    43.229414      0.000000   \n",
       "max    3982.00000        34.539844    1600.000000   110.642211  99999.000000   \n",
       "\n",
       "       skewness_oxygen         fnlwgt        class  capital-loss  mean_oxygen  \\\n",
       "count      3964.000000    3974.000000  3972.000000   3966.000000  3972.000000   \n",
       "mean         91.795908  190944.202063     0.255287     87.882753    18.504313   \n",
       "std         110.770563  103909.567546     0.436077    401.609490    34.837091   \n",
       "min          -1.976976   14878.000000     0.000000      0.000000     0.213211   \n",
       "25%          12.966818  119457.750000     0.000000      0.000000     2.069189   \n",
       "50%          68.623477  179434.500000     0.000000      0.000000     3.234532   \n",
       "75%         126.894595  237933.000000     1.000000      0.000000    12.619983   \n",
       "max        1191.000837  972354.000000     1.000000   3900.000000   217.371238   \n",
       "\n",
       "       hours-per-week  \n",
       "count     3967.000000  \n",
       "mean        40.733552  \n",
       "std         12.383999  \n",
       "min          1.000000  \n",
       "25%         40.000000  \n",
       "50%         40.000000  \n",
       "75%         45.000000  \n",
       "max         99.000000  "
      ]
     },
     "execution_count": 13,
     "metadata": {},
     "output_type": "execute_result"
    }
   ],
   "source": [
    "other.describe()"
   ]
  },
  {
   "cell_type": "code",
   "execution_count": 14,
   "metadata": {},
   "outputs": [],
   "source": [
    "#atribut medical info obsahuje hodnoty glukozy, ktore budu pravdepodobne klucove pri identifikacii cukrovky. Preto je potrebne\n",
    "#tieto hodnoty reprezentovat ako samostatne atributy, cize je potrebne vytvorit nove stlpce v dataframe\n",
    "other[['mean_glucose','std_glucose', 'kurtosis_glucose','skewness_glucose']] = other.medical_info.apply(lambda x: pd.Series(str(x).split(\",\"))) \n",
    "other['mean_glucose'].replace(regex=True,inplace=True,to_replace=r'[^\\d.]+',value=r'')\n",
    "other['std_glucose'].replace(regex=True,inplace=True,to_replace=r'[^\\d.]+', value=r'')\n",
    "other['kurtosis_glucose'].replace(regex=True,inplace=True,to_replace=r'[^\\d.]+', value=r'')\n",
    "other['skewness_glucose'].replace(regex=True,inplace=True,to_replace=r'[^\\d.]+', value=r'')\n",
    "other = other.drop('medical_info', axis = 1)"
   ]
  },
  {
   "cell_type": "code",
   "execution_count": 15,
   "metadata": {},
   "outputs": [
    {
     "data": {
      "text/html": [
       "<div>\n",
       "<style scoped>\n",
       "    .dataframe tbody tr th:only-of-type {\n",
       "        vertical-align: middle;\n",
       "    }\n",
       "\n",
       "    .dataframe tbody tr th {\n",
       "        vertical-align: top;\n",
       "    }\n",
       "\n",
       "    .dataframe thead th {\n",
       "        text-align: right;\n",
       "    }\n",
       "</style>\n",
       "<table border=\"1\" class=\"dataframe\">\n",
       "  <thead>\n",
       "    <tr style=\"text-align: right;\">\n",
       "      <th></th>\n",
       "      <th>name</th>\n",
       "      <th>address</th>\n",
       "      <th>kurtosis_oxygen</th>\n",
       "      <th>occupation</th>\n",
       "      <th>marital-status</th>\n",
       "      <th>pregnant</th>\n",
       "      <th>education-num</th>\n",
       "      <th>relationship</th>\n",
       "      <th>std_oxygen</th>\n",
       "      <th>capital-gain</th>\n",
       "      <th>...</th>\n",
       "      <th>native-country</th>\n",
       "      <th>capital-loss</th>\n",
       "      <th>mean_oxygen</th>\n",
       "      <th>hours-per-week</th>\n",
       "      <th>race</th>\n",
       "      <th>workclass</th>\n",
       "      <th>mean_glucose</th>\n",
       "      <th>std_glucose</th>\n",
       "      <th>kurtosis_glucose</th>\n",
       "      <th>skewness_glucose</th>\n",
       "    </tr>\n",
       "  </thead>\n",
       "  <tbody>\n",
       "    <tr>\n",
       "      <td>0</td>\n",
       "      <td>James Wilhoit</td>\n",
       "      <td>656 Anderson Road\\r\\nWest Christopherborough, ...</td>\n",
       "      <td>0.253562</td>\n",
       "      <td>Other-service</td>\n",
       "      <td>Never-married</td>\n",
       "      <td>f</td>\n",
       "      <td>1000.0</td>\n",
       "      <td>Own-child</td>\n",
       "      <td>75.716494</td>\n",
       "      <td>0.0</td>\n",
       "      <td>...</td>\n",
       "      <td>United-States</td>\n",
       "      <td>0.0</td>\n",
       "      <td>111.122910</td>\n",
       "      <td>40.0</td>\n",
       "      <td>White</td>\n",
       "      <td>Private</td>\n",
       "      <td>36.468750</td>\n",
       "      <td>39.272871</td>\n",
       "      <td>3.736451</td>\n",
       "      <td>14.914645</td>\n",
       "    </tr>\n",
       "    <tr>\n",
       "      <td>1</td>\n",
       "      <td>Carey Trowbridge</td>\n",
       "      <td>581 Amanda Turnpike Suite 551\\r\\nNew April, CT...</td>\n",
       "      <td>9.595103</td>\n",
       "      <td>Transport-moving</td>\n",
       "      <td>Never-married</td>\n",
       "      <td>f</td>\n",
       "      <td>13.0</td>\n",
       "      <td>Not-in-family</td>\n",
       "      <td>19.598770</td>\n",
       "      <td>0.0</td>\n",
       "      <td>...</td>\n",
       "      <td>United-States</td>\n",
       "      <td>0.0</td>\n",
       "      <td>2.153846</td>\n",
       "      <td>30.0</td>\n",
       "      <td>White</td>\n",
       "      <td>Private</td>\n",
       "      <td>101.007812</td>\n",
       "      <td>41.561606</td>\n",
       "      <td>0.247111</td>\n",
       "      <td>0.527799</td>\n",
       "    </tr>\n",
       "    <tr>\n",
       "      <td>2</td>\n",
       "      <td>Johnathon Maier</td>\n",
       "      <td>83956 Rivera Fall\\r\\nAliciastad, VA 57310</td>\n",
       "      <td>5.835402</td>\n",
       "      <td>Prof-specialty</td>\n",
       "      <td>Divorced</td>\n",
       "      <td>f</td>\n",
       "      <td>10.0</td>\n",
       "      <td>Not-in-family</td>\n",
       "      <td>23.907751</td>\n",
       "      <td>0.0</td>\n",
       "      <td>...</td>\n",
       "      <td>United-States</td>\n",
       "      <td>0.0</td>\n",
       "      <td>4.820234</td>\n",
       "      <td>48.0</td>\n",
       "      <td>White</td>\n",
       "      <td>federal-gov</td>\n",
       "      <td>134.132812</td>\n",
       "      <td>46.171956</td>\n",
       "      <td>0.008403</td>\n",
       "      <td>0.009398</td>\n",
       "    </tr>\n",
       "    <tr>\n",
       "      <td>3</td>\n",
       "      <td>Larry Hawkins</td>\n",
       "      <td>865 Stephanie Overpass\\r\\nHillbury, TN 13782</td>\n",
       "      <td>2.105287</td>\n",
       "      <td>Craft-repair</td>\n",
       "      <td>Married-civ-spouse</td>\n",
       "      <td>f</td>\n",
       "      <td>9.0</td>\n",
       "      <td>Husband</td>\n",
       "      <td>53.796010</td>\n",
       "      <td>0.0</td>\n",
       "      <td>...</td>\n",
       "      <td>United-States</td>\n",
       "      <td>0.0</td>\n",
       "      <td>28.642140</td>\n",
       "      <td>40.0</td>\n",
       "      <td>White</td>\n",
       "      <td>NaN</td>\n",
       "      <td>22.500000</td>\n",
       "      <td>31.253750</td>\n",
       "      <td>5.482057</td>\n",
       "      <td>32.589855</td>\n",
       "    </tr>\n",
       "    <tr>\n",
       "      <td>4</td>\n",
       "      <td>Oscar Driscoll</td>\n",
       "      <td>848 Bautista Loaf Apt. 958\\r\\nMatthewtown, VA ...</td>\n",
       "      <td>12.012792</td>\n",
       "      <td>Prof-specialty</td>\n",
       "      <td>Married-civ-spouse</td>\n",
       "      <td>f</td>\n",
       "      <td>-1400.0</td>\n",
       "      <td>Husband</td>\n",
       "      <td>12.071025</td>\n",
       "      <td>0.0</td>\n",
       "      <td>...</td>\n",
       "      <td>United-States</td>\n",
       "      <td>1887.0</td>\n",
       "      <td>1.752508</td>\n",
       "      <td>40.0</td>\n",
       "      <td>White</td>\n",
       "      <td>Private</td>\n",
       "      <td>119.132812</td>\n",
       "      <td>52.614662</td>\n",
       "      <td>0.223922</td>\n",
       "      <td>0.228760</td>\n",
       "    </tr>\n",
       "    <tr>\n",
       "      <td>...</td>\n",
       "      <td>...</td>\n",
       "      <td>...</td>\n",
       "      <td>...</td>\n",
       "      <td>...</td>\n",
       "      <td>...</td>\n",
       "      <td>...</td>\n",
       "      <td>...</td>\n",
       "      <td>...</td>\n",
       "      <td>...</td>\n",
       "      <td>...</td>\n",
       "      <td>...</td>\n",
       "      <td>...</td>\n",
       "      <td>...</td>\n",
       "      <td>...</td>\n",
       "      <td>...</td>\n",
       "      <td>...</td>\n",
       "      <td>...</td>\n",
       "      <td>...</td>\n",
       "      <td>...</td>\n",
       "      <td>...</td>\n",
       "      <td>...</td>\n",
       "    </tr>\n",
       "    <tr>\n",
       "      <td>3978</td>\n",
       "      <td>Benton Ybarra</td>\n",
       "      <td>4817 Daniel Bridge Apt. 186\\r\\nChristineside, ...</td>\n",
       "      <td>11.959503</td>\n",
       "      <td>Sales</td>\n",
       "      <td>Married-civ-spouse</td>\n",
       "      <td>f</td>\n",
       "      <td>10.0</td>\n",
       "      <td>Husband</td>\n",
       "      <td>15.414254</td>\n",
       "      <td>0.0</td>\n",
       "      <td>...</td>\n",
       "      <td>United-States</td>\n",
       "      <td>0.0</td>\n",
       "      <td>1.483278</td>\n",
       "      <td>40.0</td>\n",
       "      <td>White</td>\n",
       "      <td>??</td>\n",
       "      <td>106.843750</td>\n",
       "      <td>41.607811</td>\n",
       "      <td>0.393023</td>\n",
       "      <td>1.154649</td>\n",
       "    </tr>\n",
       "    <tr>\n",
       "      <td>3979</td>\n",
       "      <td>Michael Colquitt</td>\n",
       "      <td>94354 Thomas Extensions\\r\\nLake Douglasbury, M...</td>\n",
       "      <td>9.249480</td>\n",
       "      <td>Prof-specialty</td>\n",
       "      <td>Married-civ-spouse</td>\n",
       "      <td>f</td>\n",
       "      <td>1600.0</td>\n",
       "      <td>Husband</td>\n",
       "      <td>16.476213</td>\n",
       "      <td>0.0</td>\n",
       "      <td>...</td>\n",
       "      <td>United-States</td>\n",
       "      <td>1902.0</td>\n",
       "      <td>2.488294</td>\n",
       "      <td>40.0</td>\n",
       "      <td>White</td>\n",
       "      <td>State-gov</td>\n",
       "      <td>97.867188</td>\n",
       "      <td>47.408526</td>\n",
       "      <td>0.543641</td>\n",
       "      <td>0.406143</td>\n",
       "    </tr>\n",
       "    <tr>\n",
       "      <td>3980</td>\n",
       "      <td>James Pearl</td>\n",
       "      <td>19716 Owens Port\\r\\nHensleyland, ME 35990</td>\n",
       "      <td>11.232226</td>\n",
       "      <td>Other-service</td>\n",
       "      <td>Divorced</td>\n",
       "      <td>f</td>\n",
       "      <td>9.0</td>\n",
       "      <td>Unmarried</td>\n",
       "      <td>12.260234</td>\n",
       "      <td>0.0</td>\n",
       "      <td>...</td>\n",
       "      <td>United-States</td>\n",
       "      <td>0.0</td>\n",
       "      <td>1.898829</td>\n",
       "      <td>40.0</td>\n",
       "      <td>White</td>\n",
       "      <td>Private</td>\n",
       "      <td>123.937500</td>\n",
       "      <td>38.866910</td>\n",
       "      <td>0.262160</td>\n",
       "      <td>0.717385</td>\n",
       "    </tr>\n",
       "    <tr>\n",
       "      <td>3981</td>\n",
       "      <td>Armand Mccoach</td>\n",
       "      <td>8917 Evans Ferry\\r\\nLake Paul, SD 93388</td>\n",
       "      <td>8.392543</td>\n",
       "      <td>Protective-serv</td>\n",
       "      <td>Married-civ-spouse</td>\n",
       "      <td>f</td>\n",
       "      <td>9.0</td>\n",
       "      <td>Husband</td>\n",
       "      <td>15.339597</td>\n",
       "      <td>0.0</td>\n",
       "      <td>...</td>\n",
       "      <td>United-States</td>\n",
       "      <td>0.0</td>\n",
       "      <td>2.771739</td>\n",
       "      <td>48.0</td>\n",
       "      <td>White</td>\n",
       "      <td>State-gov</td>\n",
       "      <td>134.695312</td>\n",
       "      <td>40.103491</td>\n",
       "      <td>0.005276</td>\n",
       "      <td>0.492617</td>\n",
       "    </tr>\n",
       "    <tr>\n",
       "      <td>3982</td>\n",
       "      <td>John Cato</td>\n",
       "      <td>99749 Michael Unions\\r\\nScottstad, IN 48755</td>\n",
       "      <td>-0.526596</td>\n",
       "      <td>?</td>\n",
       "      <td>Widowed</td>\n",
       "      <td>f</td>\n",
       "      <td>9.0</td>\n",
       "      <td>Not-in-family</td>\n",
       "      <td>93.515167</td>\n",
       "      <td>0.0</td>\n",
       "      <td>...</td>\n",
       "      <td>United-States</td>\n",
       "      <td>0.0</td>\n",
       "      <td>127.061873</td>\n",
       "      <td>40.0</td>\n",
       "      <td>Black</td>\n",
       "      <td>?</td>\n",
       "      <td>108.734375</td>\n",
       "      <td>54.758630</td>\n",
       "      <td>0.305683</td>\n",
       "      <td>0.298932</td>\n",
       "    </tr>\n",
       "  </tbody>\n",
       "</table>\n",
       "<p>3983 rows × 25 columns</p>\n",
       "</div>"
      ],
      "text/plain": [
       "                  name                                            address  \\\n",
       "0        James Wilhoit  656 Anderson Road\\r\\nWest Christopherborough, ...   \n",
       "1     Carey Trowbridge  581 Amanda Turnpike Suite 551\\r\\nNew April, CT...   \n",
       "2      Johnathon Maier          83956 Rivera Fall\\r\\nAliciastad, VA 57310   \n",
       "3        Larry Hawkins       865 Stephanie Overpass\\r\\nHillbury, TN 13782   \n",
       "4       Oscar Driscoll  848 Bautista Loaf Apt. 958\\r\\nMatthewtown, VA ...   \n",
       "...                ...                                                ...   \n",
       "3978     Benton Ybarra  4817 Daniel Bridge Apt. 186\\r\\nChristineside, ...   \n",
       "3979  Michael Colquitt  94354 Thomas Extensions\\r\\nLake Douglasbury, M...   \n",
       "3980       James Pearl          19716 Owens Port\\r\\nHensleyland, ME 35990   \n",
       "3981    Armand Mccoach            8917 Evans Ferry\\r\\nLake Paul, SD 93388   \n",
       "3982         John Cato        99749 Michael Unions\\r\\nScottstad, IN 48755   \n",
       "\n",
       "      kurtosis_oxygen         occupation       marital-status pregnant  \\\n",
       "0            0.253562      Other-service        Never-married        f   \n",
       "1            9.595103   Transport-moving        Never-married        f   \n",
       "2            5.835402     Prof-specialty             Divorced        f   \n",
       "3            2.105287       Craft-repair   Married-civ-spouse        f   \n",
       "4           12.012792     Prof-specialty   Married-civ-spouse        f   \n",
       "...               ...                ...                  ...      ...   \n",
       "3978        11.959503              Sales   Married-civ-spouse        f   \n",
       "3979         9.249480     Prof-specialty   Married-civ-spouse        f   \n",
       "3980        11.232226      Other-service             Divorced        f   \n",
       "3981         8.392543    Protective-serv   Married-civ-spouse        f   \n",
       "3982        -0.526596                  ?              Widowed        f   \n",
       "\n",
       "      education-num    relationship  std_oxygen  capital-gain  ...  \\\n",
       "0            1000.0       Own-child   75.716494           0.0  ...   \n",
       "1              13.0   Not-in-family   19.598770           0.0  ...   \n",
       "2              10.0   Not-in-family   23.907751           0.0  ...   \n",
       "3               9.0         Husband   53.796010           0.0  ...   \n",
       "4           -1400.0         Husband   12.071025           0.0  ...   \n",
       "...             ...             ...         ...           ...  ...   \n",
       "3978           10.0         Husband   15.414254           0.0  ...   \n",
       "3979         1600.0         Husband   16.476213           0.0  ...   \n",
       "3980            9.0       Unmarried   12.260234           0.0  ...   \n",
       "3981            9.0         Husband   15.339597           0.0  ...   \n",
       "3982            9.0   Not-in-family   93.515167           0.0  ...   \n",
       "\n",
       "      native-country capital-loss  mean_oxygen  hours-per-week    race  \\\n",
       "0      United-States          0.0   111.122910            40.0   White   \n",
       "1      United-States          0.0     2.153846            30.0   White   \n",
       "2      United-States          0.0     4.820234            48.0   White   \n",
       "3      United-States          0.0    28.642140            40.0   White   \n",
       "4      United-States       1887.0     1.752508            40.0   White   \n",
       "...              ...          ...          ...             ...     ...   \n",
       "3978   United-States          0.0     1.483278            40.0   White   \n",
       "3979   United-States       1902.0     2.488294            40.0   White   \n",
       "3980   United-States          0.0     1.898829            40.0   White   \n",
       "3981   United-States          0.0     2.771739            48.0   White   \n",
       "3982   United-States          0.0   127.061873            40.0   Black   \n",
       "\n",
       "        workclass  mean_glucose  std_glucose  kurtosis_glucose  \\\n",
       "0         Private     36.468750    39.272871          3.736451   \n",
       "1         Private    101.007812    41.561606          0.247111   \n",
       "2     federal-gov    134.132812    46.171956          0.008403   \n",
       "3             NaN     22.500000    31.253750          5.482057   \n",
       "4         Private    119.132812    52.614662          0.223922   \n",
       "...           ...           ...          ...               ...   \n",
       "3978           ??    106.843750    41.607811          0.393023   \n",
       "3979    State-gov     97.867188    47.408526          0.543641   \n",
       "3980      Private    123.937500    38.866910          0.262160   \n",
       "3981    State-gov    134.695312    40.103491          0.005276   \n",
       "3982            ?    108.734375    54.758630          0.305683   \n",
       "\n",
       "     skewness_glucose  \n",
       "0           14.914645  \n",
       "1            0.527799  \n",
       "2            0.009398  \n",
       "3           32.589855  \n",
       "4            0.228760  \n",
       "...               ...  \n",
       "3978         1.154649  \n",
       "3979         0.406143  \n",
       "3980         0.717385  \n",
       "3981         0.492617  \n",
       "3982         0.298932  \n",
       "\n",
       "[3983 rows x 25 columns]"
      ]
     },
     "execution_count": 15,
     "metadata": {},
     "output_type": "execute_result"
    }
   ],
   "source": [
    "other[\"mean_glucose\"] = pd.to_numeric(other[\"mean_glucose\"], errors = 'ignore')\n",
    "other[\"std_glucose\"] = pd.to_numeric(other[\"std_glucose\"], errors = 'ignore')\n",
    "other[\"kurtosis_glucose\"] = pd.to_numeric(other[\"kurtosis_glucose\"], errors = 'ignore')\n",
    "other[\"skewness_glucose\"] = pd.to_numeric(other[\"skewness_glucose\"], errors = 'ignore')\n",
    "other = other.drop('Unnamed: 0', axis = 1) #opat sa mozme zbavit stlpca indexov\n",
    "other"
   ]
  },
  {
   "cell_type": "markdown",
   "metadata": {},
   "source": [
    "V tejto časti sme rozdelili atribút medical_info na 4 stĺpce, aby sa nám s číselnými údajmi lepšie pracovalo. Využili sme na to najprv split, následne sme prostredníctvom regexu odstránili všetky nenumerické znaky (okrem .). Následne sme konvertovali tieto hodnoty na čísla. Atribút medical_info sme z dataframu odstránili, keďže už nebude potrebný. Keďže sme odstránili atribúty Unnamed:0 a medical_info (ten sme rozdelili na 4 nové atribúty), tak máme po novom 25 atribútov (predtým ich bolo 23)."
   ]
  },
  {
   "cell_type": "code",
   "execution_count": 16,
   "metadata": {},
   "outputs": [
    {
     "data": {
      "text/html": [
       "<div>\n",
       "<style scoped>\n",
       "    .dataframe tbody tr th:only-of-type {\n",
       "        vertical-align: middle;\n",
       "    }\n",
       "\n",
       "    .dataframe tbody tr th {\n",
       "        vertical-align: top;\n",
       "    }\n",
       "\n",
       "    .dataframe thead th {\n",
       "        text-align: right;\n",
       "    }\n",
       "</style>\n",
       "<table border=\"1\" class=\"dataframe\">\n",
       "  <thead>\n",
       "    <tr style=\"text-align: right;\">\n",
       "      <th></th>\n",
       "      <th>kurtosis_oxygen</th>\n",
       "      <th>education-num</th>\n",
       "      <th>std_oxygen</th>\n",
       "      <th>capital-gain</th>\n",
       "      <th>skewness_oxygen</th>\n",
       "      <th>fnlwgt</th>\n",
       "      <th>class</th>\n",
       "      <th>capital-loss</th>\n",
       "      <th>mean_oxygen</th>\n",
       "      <th>hours-per-week</th>\n",
       "      <th>mean_glucose</th>\n",
       "      <th>std_glucose</th>\n",
       "      <th>kurtosis_glucose</th>\n",
       "      <th>skewness_glucose</th>\n",
       "    </tr>\n",
       "  </thead>\n",
       "  <tbody>\n",
       "    <tr>\n",
       "      <td>count</td>\n",
       "      <td>3969.000000</td>\n",
       "      <td>3572.000000</td>\n",
       "      <td>3968.000000</td>\n",
       "      <td>3969.000000</td>\n",
       "      <td>3964.000000</td>\n",
       "      <td>3974.000000</td>\n",
       "      <td>3972.000000</td>\n",
       "      <td>3966.000000</td>\n",
       "      <td>3972.000000</td>\n",
       "      <td>3967.000000</td>\n",
       "      <td>3966.000000</td>\n",
       "      <td>3966.000000</td>\n",
       "      <td>3966.000000</td>\n",
       "      <td>3966.000000</td>\n",
       "    </tr>\n",
       "    <tr>\n",
       "      <td>mean</td>\n",
       "      <td>7.423042</td>\n",
       "      <td>13.064110</td>\n",
       "      <td>31.158976</td>\n",
       "      <td>1118.833207</td>\n",
       "      <td>91.795908</td>\n",
       "      <td>190944.202063</td>\n",
       "      <td>0.255287</td>\n",
       "      <td>87.882753</td>\n",
       "      <td>18.504313</td>\n",
       "      <td>40.733552</td>\n",
       "      <td>101.214367</td>\n",
       "      <td>45.169444</td>\n",
       "      <td>1.012966</td>\n",
       "      <td>4.440400</td>\n",
       "    </tr>\n",
       "    <tr>\n",
       "      <td>std</td>\n",
       "      <td>4.846216</td>\n",
       "      <td>331.930108</td>\n",
       "      <td>22.265708</td>\n",
       "      <td>7522.515940</td>\n",
       "      <td>110.770563</td>\n",
       "      <td>103909.567546</td>\n",
       "      <td>0.436077</td>\n",
       "      <td>401.609490</td>\n",
       "      <td>34.837091</td>\n",
       "      <td>12.383999</td>\n",
       "      <td>33.597457</td>\n",
       "      <td>7.629204</td>\n",
       "      <td>1.580512</td>\n",
       "      <td>9.647700</td>\n",
       "    </tr>\n",
       "    <tr>\n",
       "      <td>min</td>\n",
       "      <td>-2.597872</td>\n",
       "      <td>-1600.000000</td>\n",
       "      <td>7.370432</td>\n",
       "      <td>0.000000</td>\n",
       "      <td>-1.976976</td>\n",
       "      <td>14878.000000</td>\n",
       "      <td>0.000000</td>\n",
       "      <td>0.000000</td>\n",
       "      <td>0.213211</td>\n",
       "      <td>1.000000</td>\n",
       "      <td>6.187500</td>\n",
       "      <td>25.695250</td>\n",
       "      <td>0.000154</td>\n",
       "      <td>0.000108</td>\n",
       "    </tr>\n",
       "    <tr>\n",
       "      <td>25%</td>\n",
       "      <td>3.637833</td>\n",
       "      <td>9.000000</td>\n",
       "      <td>15.064858</td>\n",
       "      <td>0.000000</td>\n",
       "      <td>12.966818</td>\n",
       "      <td>119457.750000</td>\n",
       "      <td>0.000000</td>\n",
       "      <td>0.000000</td>\n",
       "      <td>2.069189</td>\n",
       "      <td>40.000000</td>\n",
       "      <td>87.736328</td>\n",
       "      <td>40.128532</td>\n",
       "      <td>0.141444</td>\n",
       "      <td>0.229751</td>\n",
       "    </tr>\n",
       "    <tr>\n",
       "      <td>50%</td>\n",
       "      <td>7.781618</td>\n",
       "      <td>10.000000</td>\n",
       "      <td>20.579902</td>\n",
       "      <td>0.000000</td>\n",
       "      <td>68.623477</td>\n",
       "      <td>179434.500000</td>\n",
       "      <td>0.000000</td>\n",
       "      <td>0.000000</td>\n",
       "      <td>3.234532</td>\n",
       "      <td>40.000000</td>\n",
       "      <td>110.613281</td>\n",
       "      <td>45.878359</td>\n",
       "      <td>0.331311</td>\n",
       "      <td>0.526528</td>\n",
       "    </tr>\n",
       "    <tr>\n",
       "      <td>75%</td>\n",
       "      <td>10.259075</td>\n",
       "      <td>13.000000</td>\n",
       "      <td>43.229414</td>\n",
       "      <td>0.000000</td>\n",
       "      <td>126.894595</td>\n",
       "      <td>237933.000000</td>\n",
       "      <td>1.000000</td>\n",
       "      <td>0.000000</td>\n",
       "      <td>12.619983</td>\n",
       "      <td>45.000000</td>\n",
       "      <td>124.115234</td>\n",
       "      <td>50.369118</td>\n",
       "      <td>0.811816</td>\n",
       "      <td>2.088449</td>\n",
       "    </tr>\n",
       "    <tr>\n",
       "      <td>max</td>\n",
       "      <td>34.539844</td>\n",
       "      <td>1600.000000</td>\n",
       "      <td>110.642211</td>\n",
       "      <td>99999.000000</td>\n",
       "      <td>1191.000837</td>\n",
       "      <td>972354.000000</td>\n",
       "      <td>1.000000</td>\n",
       "      <td>3900.000000</td>\n",
       "      <td>217.371238</td>\n",
       "      <td>99.000000</td>\n",
       "      <td>189.734375</td>\n",
       "      <td>91.206475</td>\n",
       "      <td>8.069522</td>\n",
       "      <td>68.101622</td>\n",
       "    </tr>\n",
       "  </tbody>\n",
       "</table>\n",
       "</div>"
      ],
      "text/plain": [
       "       kurtosis_oxygen  education-num   std_oxygen  capital-gain  \\\n",
       "count      3969.000000    3572.000000  3968.000000   3969.000000   \n",
       "mean          7.423042      13.064110    31.158976   1118.833207   \n",
       "std           4.846216     331.930108    22.265708   7522.515940   \n",
       "min          -2.597872   -1600.000000     7.370432      0.000000   \n",
       "25%           3.637833       9.000000    15.064858      0.000000   \n",
       "50%           7.781618      10.000000    20.579902      0.000000   \n",
       "75%          10.259075      13.000000    43.229414      0.000000   \n",
       "max          34.539844    1600.000000   110.642211  99999.000000   \n",
       "\n",
       "       skewness_oxygen         fnlwgt        class  capital-loss  mean_oxygen  \\\n",
       "count      3964.000000    3974.000000  3972.000000   3966.000000  3972.000000   \n",
       "mean         91.795908  190944.202063     0.255287     87.882753    18.504313   \n",
       "std         110.770563  103909.567546     0.436077    401.609490    34.837091   \n",
       "min          -1.976976   14878.000000     0.000000      0.000000     0.213211   \n",
       "25%          12.966818  119457.750000     0.000000      0.000000     2.069189   \n",
       "50%          68.623477  179434.500000     0.000000      0.000000     3.234532   \n",
       "75%         126.894595  237933.000000     1.000000      0.000000    12.619983   \n",
       "max        1191.000837  972354.000000     1.000000   3900.000000   217.371238   \n",
       "\n",
       "       hours-per-week  mean_glucose  std_glucose  kurtosis_glucose  \\\n",
       "count     3967.000000   3966.000000  3966.000000       3966.000000   \n",
       "mean        40.733552    101.214367    45.169444          1.012966   \n",
       "std         12.383999     33.597457     7.629204          1.580512   \n",
       "min          1.000000      6.187500    25.695250          0.000154   \n",
       "25%         40.000000     87.736328    40.128532          0.141444   \n",
       "50%         40.000000    110.613281    45.878359          0.331311   \n",
       "75%         45.000000    124.115234    50.369118          0.811816   \n",
       "max         99.000000    189.734375    91.206475          8.069522   \n",
       "\n",
       "       skewness_glucose  \n",
       "count       3966.000000  \n",
       "mean           4.440400  \n",
       "std            9.647700  \n",
       "min            0.000108  \n",
       "25%            0.229751  \n",
       "50%            0.526528  \n",
       "75%            2.088449  \n",
       "max           68.101622  "
      ]
     },
     "execution_count": 16,
     "metadata": {},
     "output_type": "execute_result"
    }
   ],
   "source": [
    "other.describe()"
   ]
  },
  {
   "cell_type": "markdown",
   "metadata": {},
   "source": [
    "# Zaujímavé atribúty\n"
   ]
  },
  {
   "cell_type": "code",
   "execution_count": 17,
   "metadata": {},
   "outputs": [
    {
     "data": {
      "text/plain": [
       "<matplotlib.axes._subplots.AxesSubplot at 0x1d99c6aa7f0>"
      ]
     },
     "execution_count": 17,
     "metadata": {},
     "output_type": "execute_result"
    },
    {
     "data": {
      "image/png": "[encoded data removed]",
      "text/plain": [
       "<Figure size 432x288 with 1 Axes>"
      ]
     },
     "metadata": {
      "needs_background": "light"
     },
     "output_type": "display_data"
    }
   ],
   "source": [
    "sns.distplot(other['mean_glucose'].dropna(),bins=50, color = \"orange\")"
   ]
  },
  {
   "cell_type": "code",
   "execution_count": 18,
   "metadata": {},
   "outputs": [
    {
     "data": {
      "text/plain": [
       "<matplotlib.axes._subplots.AxesSubplot at 0x1d99cab9208>"
      ]
     },
     "execution_count": 18,
     "metadata": {},
     "output_type": "execute_result"
    },
    {
     "data": {
      "image/png": "[encoded data removed]",
      "text/plain": [
       "<Figure size 432x288 with 1 Axes>"
      ]
     },
     "metadata": {
      "needs_background": "light"
     },
     "output_type": "display_data"
    }
   ],
   "source": [
    "sns.distplot(other['std_glucose'].dropna(),bins=50, color = \"red\")"
   ]
  },
  {
   "cell_type": "code",
   "execution_count": 19,
   "metadata": {},
   "outputs": [
    {
     "data": {
      "text/plain": [
       "<matplotlib.axes._subplots.AxesSubplot at 0x1d99c999748>"
      ]
     },
     "execution_count": 19,
     "metadata": {},
     "output_type": "execute_result"
    },
    {
     "data": {
      "image/png": "[encoded data removed]",
      "text/plain": [
       "<Figure size 432x288 with 1 Axes>"
      ]
     },
     "metadata": {
      "needs_background": "light"
     },
     "output_type": "display_data"
    }
   ],
   "source": [
    "sns.distplot(other['mean_oxygen'].dropna(),bins=50, color = \"pink\")"
   ]
  },
  {
   "cell_type": "code",
   "execution_count": 20,
   "metadata": {},
   "outputs": [
    {
     "data": {
      "text/plain": [
       "<matplotlib.axes._subplots.AxesSubplot at 0x1d99c897f28>"
      ]
     },
     "execution_count": 20,
     "metadata": {},
     "output_type": "execute_result"
    },
    {
     "data": {
      "image/png": "[encoded data removed]",
      "text/plain": [
       "<Figure size 432x288 with 1 Axes>"
      ]
     },
     "metadata": {
      "needs_background": "light"
     },
     "output_type": "display_data"
    }
   ],
   "source": [
    "sns.distplot(other['std_oxygen'].dropna(),bins=50, color = \"green\")"
   ]
  },
  {
   "cell_type": "code",
   "execution_count": 21,
   "metadata": {},
   "outputs": [
    {
     "data": {
      "text/html": [
       "<div>\n",
       "<style scoped>\n",
       "    .dataframe tbody tr th:only-of-type {\n",
       "        vertical-align: middle;\n",
       "    }\n",
       "\n",
       "    .dataframe tbody tr th {\n",
       "        vertical-align: top;\n",
       "    }\n",
       "\n",
       "    .dataframe thead th {\n",
       "        text-align: right;\n",
       "    }\n",
       "</style>\n",
       "<table border=\"1\" class=\"dataframe\">\n",
       "  <thead>\n",
       "    <tr style=\"text-align: right;\">\n",
       "      <th></th>\n",
       "      <th>name</th>\n",
       "      <th>address</th>\n",
       "      <th>kurtosis_oxygen</th>\n",
       "      <th>occupation</th>\n",
       "      <th>marital-status</th>\n",
       "      <th>pregnant</th>\n",
       "      <th>education-num</th>\n",
       "      <th>relationship</th>\n",
       "      <th>std_oxygen</th>\n",
       "      <th>capital-gain</th>\n",
       "      <th>...</th>\n",
       "      <th>native-country</th>\n",
       "      <th>capital-loss</th>\n",
       "      <th>mean_oxygen</th>\n",
       "      <th>hours-per-week</th>\n",
       "      <th>race</th>\n",
       "      <th>workclass</th>\n",
       "      <th>mean_glucose</th>\n",
       "      <th>std_glucose</th>\n",
       "      <th>kurtosis_glucose</th>\n",
       "      <th>skewness_glucose</th>\n",
       "    </tr>\n",
       "  </thead>\n",
       "  <tbody>\n",
       "    <tr>\n",
       "      <td>101</td>\n",
       "      <td>Jesus Barnhill</td>\n",
       "      <td>6188 Jones Corners Suite 722\\r\\nMaryview, WV 6...</td>\n",
       "      <td>0.476516</td>\n",
       "      <td>Other-service</td>\n",
       "      <td>Never-married</td>\n",
       "      <td>f</td>\n",
       "      <td>-900.0</td>\n",
       "      <td>Own-child</td>\n",
       "      <td>93.174313</td>\n",
       "      <td>0.0</td>\n",
       "      <td>...</td>\n",
       "      <td>Puerto-Rico</td>\n",
       "      <td>0.0</td>\n",
       "      <td>86.353679</td>\n",
       "      <td>40.0</td>\n",
       "      <td>White</td>\n",
       "      <td>NaN</td>\n",
       "      <td>63.695312</td>\n",
       "      <td>31.297354</td>\n",
       "      <td>2.988502</td>\n",
       "      <td>15.509307</td>\n",
       "    </tr>\n",
       "    <tr>\n",
       "      <td>896</td>\n",
       "      <td>Rusty Thornton</td>\n",
       "      <td>036 Johnson Wells Suite 764\\r\\nEast Theresavil...</td>\n",
       "      <td>6.300527</td>\n",
       "      <td>Other-service</td>\n",
       "      <td>Married-civ-spouse</td>\n",
       "      <td>f</td>\n",
       "      <td>10.0</td>\n",
       "      <td>Husband</td>\n",
       "      <td>NaN</td>\n",
       "      <td>NaN</td>\n",
       "      <td>...</td>\n",
       "      <td>United-States</td>\n",
       "      <td>0.0</td>\n",
       "      <td>4.484114</td>\n",
       "      <td>40.0</td>\n",
       "      <td>White</td>\n",
       "      <td>NaN</td>\n",
       "      <td>156.046875</td>\n",
       "      <td>60.136935</td>\n",
       "      <td>0.320961</td>\n",
       "      <td>0.632663</td>\n",
       "    </tr>\n",
       "    <tr>\n",
       "      <td>991</td>\n",
       "      <td>Steven Coon</td>\n",
       "      <td>5396 Kramer Common Apt. 129\\r\\nBlackburnshire,...</td>\n",
       "      <td>13.554053</td>\n",
       "      <td>Adm-clerical</td>\n",
       "      <td>Divorced</td>\n",
       "      <td>F</td>\n",
       "      <td>9.0</td>\n",
       "      <td>Unmarried</td>\n",
       "      <td>14.065352</td>\n",
       "      <td>0.0</td>\n",
       "      <td>...</td>\n",
       "      <td>United-States</td>\n",
       "      <td>0.0</td>\n",
       "      <td>1.348662</td>\n",
       "      <td>35.0</td>\n",
       "      <td>NaN</td>\n",
       "      <td>Private</td>\n",
       "      <td>112.062500</td>\n",
       "      <td>46.455077</td>\n",
       "      <td>0.293543</td>\n",
       "      <td>0.156486</td>\n",
       "    </tr>\n",
       "    <tr>\n",
       "      <td>1062</td>\n",
       "      <td>Larry Frazier</td>\n",
       "      <td>3383 Elizabeth Courts\\r\\nNew Chaseview, SD 21291</td>\n",
       "      <td>9.218707</td>\n",
       "      <td>Exec-managerial</td>\n",
       "      <td>Married-civ-spouse</td>\n",
       "      <td>f</td>\n",
       "      <td>13.0</td>\n",
       "      <td>Husband</td>\n",
       "      <td>16.987123</td>\n",
       "      <td>NaN</td>\n",
       "      <td>...</td>\n",
       "      <td>United-States</td>\n",
       "      <td>0.0</td>\n",
       "      <td>2.142977</td>\n",
       "      <td>50.0</td>\n",
       "      <td>White</td>\n",
       "      <td>Private</td>\n",
       "      <td>114.070312</td>\n",
       "      <td>49.162864</td>\n",
       "      <td>0.244839</td>\n",
       "      <td>0.190308</td>\n",
       "    </tr>\n",
       "    <tr>\n",
       "      <td>1216</td>\n",
       "      <td>Thomas Taylor</td>\n",
       "      <td>78667 Hernandez Mount\\r\\nClarkborough, WA 22409</td>\n",
       "      <td>-1.785377</td>\n",
       "      <td>NaN</td>\n",
       "      <td>Divorced</td>\n",
       "      <td>f</td>\n",
       "      <td>12.0</td>\n",
       "      <td>NaN</td>\n",
       "      <td>59.737720</td>\n",
       "      <td>4101.0</td>\n",
       "      <td>...</td>\n",
       "      <td>United-States</td>\n",
       "      <td>NaN</td>\n",
       "      <td>176.119565</td>\n",
       "      <td>40.0</td>\n",
       "      <td>White</td>\n",
       "      <td>Private</td>\n",
       "      <td>44.867188</td>\n",
       "      <td>45.693334</td>\n",
       "      <td>2.888739</td>\n",
       "      <td>8.810673</td>\n",
       "    </tr>\n",
       "    <tr>\n",
       "      <td>1680</td>\n",
       "      <td>Henry Glenn</td>\n",
       "      <td>6345 Deborah Keys Suite 890\\r\\nNorth Christoph...</td>\n",
       "      <td>NaN</td>\n",
       "      <td>Exec-managerial</td>\n",
       "      <td>NaN</td>\n",
       "      <td>f</td>\n",
       "      <td>13.0</td>\n",
       "      <td>Unmarried</td>\n",
       "      <td>16.329097</td>\n",
       "      <td>0.0</td>\n",
       "      <td>...</td>\n",
       "      <td>United-States</td>\n",
       "      <td>0.0</td>\n",
       "      <td>2.720736</td>\n",
       "      <td>50.0</td>\n",
       "      <td>White</td>\n",
       "      <td>private</td>\n",
       "      <td>NaN</td>\n",
       "      <td>NaN</td>\n",
       "      <td>NaN</td>\n",
       "      <td>NaN</td>\n",
       "    </tr>\n",
       "    <tr>\n",
       "      <td>1841</td>\n",
       "      <td>Freddie Mederios</td>\n",
       "      <td>5604 Kara Plains Suite 644\\r\\nEast Timview, HI...</td>\n",
       "      <td>3.993995</td>\n",
       "      <td>Sales</td>\n",
       "      <td>Never-married</td>\n",
       "      <td>f</td>\n",
       "      <td>9.0</td>\n",
       "      <td>Own-child</td>\n",
       "      <td>42.661566</td>\n",
       "      <td>0.0</td>\n",
       "      <td>...</td>\n",
       "      <td>United-States</td>\n",
       "      <td>0.0</td>\n",
       "      <td>12.502508</td>\n",
       "      <td>40.0</td>\n",
       "      <td>White</td>\n",
       "      <td>Private</td>\n",
       "      <td>76.054688</td>\n",
       "      <td>60.412942</td>\n",
       "      <td>1.432917</td>\n",
       "      <td>0.936654</td>\n",
       "    </tr>\n",
       "    <tr>\n",
       "      <td>1886</td>\n",
       "      <td>Greg Spivey</td>\n",
       "      <td>756 Ramos Canyon\\r\\nLake Scottview, NH 28478</td>\n",
       "      <td>4.322444</td>\n",
       "      <td>NaN</td>\n",
       "      <td>Married-civ-spouse</td>\n",
       "      <td>NaN</td>\n",
       "      <td>11.0</td>\n",
       "      <td>Husband</td>\n",
       "      <td>43.980061</td>\n",
       "      <td>0.0</td>\n",
       "      <td>...</td>\n",
       "      <td>United-States</td>\n",
       "      <td>0.0</td>\n",
       "      <td>10.596154</td>\n",
       "      <td>40.0</td>\n",
       "      <td>NaN</td>\n",
       "      <td>Private</td>\n",
       "      <td>NaN</td>\n",
       "      <td>NaN</td>\n",
       "      <td>NaN</td>\n",
       "      <td>NaN</td>\n",
       "    </tr>\n",
       "    <tr>\n",
       "      <td>2602</td>\n",
       "      <td>Stacy Harriott</td>\n",
       "      <td>116 Rebecca Turnpike Apt. 663\\r\\nSimsland, NC ...</td>\n",
       "      <td>10.049017</td>\n",
       "      <td>Sales</td>\n",
       "      <td>Divorced</td>\n",
       "      <td>f</td>\n",
       "      <td>9.0</td>\n",
       "      <td>NaN</td>\n",
       "      <td>16.740221</td>\n",
       "      <td>0.0</td>\n",
       "      <td>...</td>\n",
       "      <td>United-States</td>\n",
       "      <td>0.0</td>\n",
       "      <td>2.225753</td>\n",
       "      <td>NaN</td>\n",
       "      <td>White</td>\n",
       "      <td>NaN</td>\n",
       "      <td>122.546875</td>\n",
       "      <td>56.703568</td>\n",
       "      <td>0.067255</td>\n",
       "      <td>0.609780</td>\n",
       "    </tr>\n",
       "    <tr>\n",
       "      <td>3526</td>\n",
       "      <td>Walter Smith</td>\n",
       "      <td>00546 Stephanie Course\\r\\nEast Bryanhaven, KS ...</td>\n",
       "      <td>7.337484</td>\n",
       "      <td>Prof-specialty</td>\n",
       "      <td>NaN</td>\n",
       "      <td>f</td>\n",
       "      <td>13.0</td>\n",
       "      <td>Unmarried</td>\n",
       "      <td>21.531941</td>\n",
       "      <td>0.0</td>\n",
       "      <td>...</td>\n",
       "      <td>United-States</td>\n",
       "      <td>0.0</td>\n",
       "      <td>3.510033</td>\n",
       "      <td>40.0</td>\n",
       "      <td>White</td>\n",
       "      <td>private</td>\n",
       "      <td>106.945312</td>\n",
       "      <td>47.051220</td>\n",
       "      <td>0.153808</td>\n",
       "      <td>0.336252</td>\n",
       "    </tr>\n",
       "    <tr>\n",
       "      <td>3698</td>\n",
       "      <td>Edgar Holbrook</td>\n",
       "      <td>902 Figueroa Fields Suite 708\\r\\nDavishaven, O...</td>\n",
       "      <td>0.200295</td>\n",
       "      <td>Craft-repair</td>\n",
       "      <td>Married-civ-spouse</td>\n",
       "      <td>f</td>\n",
       "      <td>10.0</td>\n",
       "      <td>Husband</td>\n",
       "      <td>58.547178</td>\n",
       "      <td>0.0</td>\n",
       "      <td>...</td>\n",
       "      <td>United-States</td>\n",
       "      <td>0.0</td>\n",
       "      <td>111.865385</td>\n",
       "      <td>40.0</td>\n",
       "      <td>White</td>\n",
       "      <td>Self-emp-not-inc</td>\n",
       "      <td>15.835938</td>\n",
       "      <td>35.206040</td>\n",
       "      <td>5.451733</td>\n",
       "      <td>30.604459</td>\n",
       "    </tr>\n",
       "  </tbody>\n",
       "</table>\n",
       "<p>11 rows × 25 columns</p>\n",
       "</div>"
      ],
      "text/plain": [
       "                  name                                            address  \\\n",
       "101     Jesus Barnhill  6188 Jones Corners Suite 722\\r\\nMaryview, WV 6...   \n",
       "896     Rusty Thornton  036 Johnson Wells Suite 764\\r\\nEast Theresavil...   \n",
       "991        Steven Coon  5396 Kramer Common Apt. 129\\r\\nBlackburnshire,...   \n",
       "1062     Larry Frazier   3383 Elizabeth Courts\\r\\nNew Chaseview, SD 21291   \n",
       "1216     Thomas Taylor    78667 Hernandez Mount\\r\\nClarkborough, WA 22409   \n",
       "1680       Henry Glenn  6345 Deborah Keys Suite 890\\r\\nNorth Christoph...   \n",
       "1841  Freddie Mederios  5604 Kara Plains Suite 644\\r\\nEast Timview, HI...   \n",
       "1886       Greg Spivey       756 Ramos Canyon\\r\\nLake Scottview, NH 28478   \n",
       "2602    Stacy Harriott  116 Rebecca Turnpike Apt. 663\\r\\nSimsland, NC ...   \n",
       "3526      Walter Smith  00546 Stephanie Course\\r\\nEast Bryanhaven, KS ...   \n",
       "3698    Edgar Holbrook  902 Figueroa Fields Suite 708\\r\\nDavishaven, O...   \n",
       "\n",
       "      kurtosis_oxygen        occupation       marital-status pregnant  \\\n",
       "101          0.476516     Other-service        Never-married        f   \n",
       "896          6.300527     Other-service   Married-civ-spouse        f   \n",
       "991         13.554053      Adm-clerical             Divorced        F   \n",
       "1062         9.218707   Exec-managerial   Married-civ-spouse        f   \n",
       "1216        -1.785377               NaN             Divorced        f   \n",
       "1680              NaN   Exec-managerial                  NaN        f   \n",
       "1841         3.993995             Sales        Never-married        f   \n",
       "1886         4.322444               NaN   Married-civ-spouse      NaN   \n",
       "2602        10.049017             Sales             Divorced        f   \n",
       "3526         7.337484    Prof-specialty                  NaN        f   \n",
       "3698         0.200295      Craft-repair   Married-civ-spouse        f   \n",
       "\n",
       "      education-num relationship  std_oxygen  capital-gain  ...  \\\n",
       "101          -900.0    Own-child   93.174313           0.0  ...   \n",
       "896            10.0      Husband         NaN           NaN  ...   \n",
       "991             9.0    Unmarried   14.065352           0.0  ...   \n",
       "1062           13.0      Husband   16.987123           NaN  ...   \n",
       "1216           12.0          NaN   59.737720        4101.0  ...   \n",
       "1680           13.0    Unmarried   16.329097           0.0  ...   \n",
       "1841            9.0    Own-child   42.661566           0.0  ...   \n",
       "1886           11.0      Husband   43.980061           0.0  ...   \n",
       "2602            9.0          NaN   16.740221           0.0  ...   \n",
       "3526           13.0    Unmarried   21.531941           0.0  ...   \n",
       "3698           10.0      Husband   58.547178           0.0  ...   \n",
       "\n",
       "      native-country capital-loss  mean_oxygen  hours-per-week    race  \\\n",
       "101      Puerto-Rico          0.0    86.353679            40.0   White   \n",
       "896    United-States          0.0     4.484114            40.0   White   \n",
       "991    United-States          0.0     1.348662            35.0     NaN   \n",
       "1062   United-States          0.0     2.142977            50.0   White   \n",
       "1216   United-States          NaN   176.119565            40.0   White   \n",
       "1680   United-States          0.0     2.720736            50.0   White   \n",
       "1841   United-States          0.0    12.502508            40.0   White   \n",
       "1886   United-States          0.0    10.596154            40.0     NaN   \n",
       "2602   United-States          0.0     2.225753             NaN   White   \n",
       "3526   United-States          0.0     3.510033            40.0   White   \n",
       "3698   United-States          0.0   111.865385            40.0   White   \n",
       "\n",
       "              workclass  mean_glucose  std_glucose  kurtosis_glucose  \\\n",
       "101                 NaN     63.695312    31.297354          2.988502   \n",
       "896                 NaN    156.046875    60.136935          0.320961   \n",
       "991             Private    112.062500    46.455077          0.293543   \n",
       "1062            Private    114.070312    49.162864          0.244839   \n",
       "1216            Private     44.867188    45.693334          2.888739   \n",
       "1680            private           NaN          NaN               NaN   \n",
       "1841            Private     76.054688    60.412942          1.432917   \n",
       "1886            Private           NaN          NaN               NaN   \n",
       "2602                NaN    122.546875    56.703568          0.067255   \n",
       "3526            private    106.945312    47.051220          0.153808   \n",
       "3698   Self-emp-not-inc     15.835938    35.206040          5.451733   \n",
       "\n",
       "     skewness_glucose  \n",
       "101         15.509307  \n",
       "896          0.632663  \n",
       "991          0.156486  \n",
       "1062         0.190308  \n",
       "1216         8.810673  \n",
       "1680              NaN  \n",
       "1841         0.936654  \n",
       "1886              NaN  \n",
       "2602         0.609780  \n",
       "3526         0.336252  \n",
       "3698        30.604459  \n",
       "\n",
       "[11 rows x 25 columns]"
      ]
     },
     "execution_count": 21,
     "metadata": {},
     "output_type": "execute_result"
    }
   ],
   "source": [
    "other[(other[\"class\"] != 1) & (other[\"class\"] != 0)]"
   ]
  },
  {
   "cell_type": "markdown",
   "metadata": {},
   "source": [
    "V niektorych zaznamoch nemáme zapísane, či má pacient cukrovku alebo nie. Tieto záznamy sú pre naše zadanie v podstate zbytočné, pretože neobsahujú predikovanú hodnotu. Môžeme si však zatiaľ ponechať tie, ktoré majú ostatné atribúty v poriadku. Môžu nám spresniť výpočty priemeru, mediánu atď. "
   ]
  },
  {
   "cell_type": "code",
   "execution_count": 22,
   "metadata": {},
   "outputs": [
    {
     "name": "stdout",
     "output_type": "stream",
     "text": [
      "Counter({0.0: 2958, 1.0: 1014})\n"
     ]
    },
    {
     "data": {
      "image/png": "[encoded data removed]",
      "text/plain": [
       "<Figure size 432x288 with 1 Axes>"
      ]
     },
     "metadata": {
      "needs_background": "light"
     },
     "output_type": "display_data"
    }
   ],
   "source": [
    "df = other[(other[\"class\"] == 1) | (other[\"class\"] == 0)][\"class\"]\n",
    "count = Counter(df)\n",
    "df = pd.DataFrame.from_dict(count, orient='index')\n",
    "ax = df.plot(kind='bar', legend = True, color = \"orange\")\n",
    "print(count)"
   ]
  },
  {
   "cell_type": "markdown",
   "metadata": {},
   "source": [
    "# Porovnanie distribúcií atribútov pri ľudoch s a bez ochorenia\n",
    "Teraz by sme radi zistili, ako vyzerajú hodnoty týchto atribútov pri ľudoch s cukrovkou a ľudoch bez tohoto ochorenia. Červeným sú označení ľudia, ktorým bola diagnostikovaná cukrovka, zeleným sú ľudia ktorí toto ochorenie nemajú."
   ]
  },
  {
   "cell_type": "code",
   "execution_count": 23,
   "metadata": {},
   "outputs": [
    {
     "data": {
      "text/plain": [
       "<matplotlib.axes._subplots.AxesSubplot at 0x1d99c8f5978>"
      ]
     },
     "execution_count": 23,
     "metadata": {},
     "output_type": "execute_result"
    },
    {
     "data": {
      "image/png": "[encoded data removed]",
      "text/plain": [
       "<Figure size 432x288 with 2 Axes>"
      ]
     },
     "metadata": {
      "needs_background": "light"
     },
     "output_type": "display_data"
    }
   ],
   "source": [
    "fig, ax=plt.subplots(1,2)\n",
    "sns.distplot(other[other[\"class\"]== 1]['mean_glucose'].dropna(),bins=50, color = \"red\", ax = ax[0])\n",
    "sns.distplot(other[other[\"class\"]== 0]['mean_glucose'].dropna(),bins=50, color = \"green\", ax = ax[1])"
   ]
  },
  {
   "cell_type": "code",
   "execution_count": 24,
   "metadata": {},
   "outputs": [
    {
     "data": {
      "text/plain": [
       "<matplotlib.axes._subplots.AxesSubplot at 0x1d99cc742e8>"
      ]
     },
     "execution_count": 24,
     "metadata": {},
     "output_type": "execute_result"
    },
    {
     "data": {
      "image/png": "[encoded data removed]",
      "text/plain": [
       "<Figure size 432x288 with 2 Axes>"
      ]
     },
     "metadata": {
      "needs_background": "light"
     },
     "output_type": "display_data"
    }
   ],
   "source": [
    "fig, ax=plt.subplots(1,2)\n",
    "sns.distplot(other[other[\"class\"]== 1]['std_glucose'].dropna(),bins=50, color = \"red\", ax = ax[0])\n",
    "sns.distplot(other[other[\"class\"]== 0]['std_glucose'].dropna(),bins=50, color = \"green\", ax = ax[1])"
   ]
  },
  {
   "cell_type": "code",
   "execution_count": 25,
   "metadata": {},
   "outputs": [
    {
     "data": {
      "text/plain": [
       "<matplotlib.axes._subplots.AxesSubplot at 0x1d99ce28240>"
      ]
     },
     "execution_count": 25,
     "metadata": {},
     "output_type": "execute_result"
    },
    {
     "data": {
      "image/png": "[encoded data removed]",
      "text/plain": [
       "<Figure size 432x288 with 2 Axes>"
      ]
     },
     "metadata": {
      "needs_background": "light"
     },
     "output_type": "display_data"
    }
   ],
   "source": [
    "fig, ax=plt.subplots(1,2)\n",
    "sns.distplot(other[other[\"class\"]== 1]['mean_oxygen'].dropna(),bins=50, color = \"red\", ax = ax[0])\n",
    "sns.distplot(other[other[\"class\"]== 0]['mean_oxygen'].dropna(),bins=50, color = \"green\", ax = ax[1])"
   ]
  },
  {
   "cell_type": "code",
   "execution_count": 26,
   "metadata": {},
   "outputs": [
    {
     "data": {
      "text/plain": [
       "<matplotlib.axes._subplots.AxesSubplot at 0x1d99d0611d0>"
      ]
     },
     "execution_count": 26,
     "metadata": {},
     "output_type": "execute_result"
    },
    {
     "data": {
      "image/png": "[encoded data removed]",
      "text/plain": [
       "<Figure size 432x288 with 2 Axes>"
      ]
     },
     "metadata": {
      "needs_background": "light"
     },
     "output_type": "display_data"
    }
   ],
   "source": [
    "fig, ax=plt.subplots(1,2)\n",
    "sns.distplot(other[other[\"class\"]== 1]['std_oxygen'].dropna(),bins=50, color = \"red\", ax = ax[0])\n",
    "sns.distplot(other[other[\"class\"]== 0]['std_oxygen'].dropna(),bins=50, color = \"green\", ax = ax[1])"
   ]
  },
  {
   "cell_type": "code",
   "execution_count": 27,
   "metadata": {},
   "outputs": [
    {
     "data": {
      "text/plain": [
       "kurtosis_oxygen    -0.660076\n",
       "education-num      -0.000724\n",
       "std_oxygen          0.802131\n",
       "capital-gain        0.004331\n",
       "skewness_oxygen    -0.393819\n",
       "fnlwgt              0.010584\n",
       "class               0.518284\n",
       "capital-loss       -0.020016\n",
       "mean_oxygen         1.000000\n",
       "hours-per-week      0.023371\n",
       "mean_glucose       -0.544198\n",
       "std_glucose        -0.202623\n",
       "kurtosis_glucose    0.614110\n",
       "skewness_glucose    0.553722\n",
       "Name: mean_oxygen, dtype: float64"
      ]
     },
     "execution_count": 27,
     "metadata": {},
     "output_type": "execute_result"
    }
   ],
   "source": [
    "other.corr()[\"mean_oxygen\"]"
   ]
  },
  {
   "cell_type": "code",
   "execution_count": 28,
   "metadata": {},
   "outputs": [
    {
     "data": {
      "text/plain": [
       "<matplotlib.axes._subplots.AxesSubplot at 0x1d99d23cc18>"
      ]
     },
     "execution_count": 28,
     "metadata": {},
     "output_type": "execute_result"
    },
    {
     "data": {
      "image/png": "[encoded data removed]",
      "text/plain": [
       "<Figure size 432x288 with 1 Axes>"
      ]
     },
     "metadata": {
      "needs_background": "light"
     },
     "output_type": "display_data"
    }
   ],
   "source": [
    "sns.stripplot(data=other.corr()[\"mean_oxygen\"], color = \"red\")"
   ]
  },
  {
   "cell_type": "code",
   "execution_count": 29,
   "metadata": {},
   "outputs": [
    {
     "data": {
      "text/plain": [
       "kurtosis_oxygen     0.472831\n",
       "education-num      -0.011024\n",
       "std_oxygen         -0.561198\n",
       "capital-gain        0.016454\n",
       "skewness_oxygen     0.304485\n",
       "fnlwgt              0.024276\n",
       "class              -0.775109\n",
       "capital-loss        0.001869\n",
       "mean_oxygen        -0.544198\n",
       "hours-per-week     -0.008837\n",
       "mean_glucose        1.000000\n",
       "std_glucose         0.645465\n",
       "kurtosis_glucose   -0.900907\n",
       "skewness_glucose   -0.819927\n",
       "Name: mean_glucose, dtype: float64"
      ]
     },
     "execution_count": 29,
     "metadata": {},
     "output_type": "execute_result"
    }
   ],
   "source": [
    "other.corr()[\"mean_glucose\"]"
   ]
  },
  {
   "cell_type": "code",
   "execution_count": 30,
   "metadata": {},
   "outputs": [
    {
     "data": {
      "image/png": "[encoded data removed]",
      "text/plain": [
       "<Figure size 432x288 with 2 Axes>"
      ]
     },
     "metadata": {
      "needs_background": "light"
     },
     "output_type": "display_data"
    }
   ],
   "source": [
    "names = ['kur_ox', 'edu', 'std_ox', 'cap', 'sk_ox', 'fnl', 'class', 'cap_l', 'm_ox', 'hpw','m_g', 'std_g', 'kur_g', 'sk_g']\n",
    "correlations = other.corr()\n",
    "fig = plt.figure()\n",
    "ax = fig.add_subplot(111)\n",
    "cax = ax.matshow(correlations, vmin=-1, vmax=1)\n",
    "fig.colorbar(cax)\n",
    "ticks = np.arange(0,14,1)\n",
    "ax.set_xticks(ticks)\n",
    "ax.set_yticks(ticks)\n",
    "ax.set_xticklabels(names)\n",
    "ax.set_yticklabels(names)\n",
    "plt.show()"
   ]
  },
  {
   "cell_type": "code",
   "execution_count": 31,
   "metadata": {},
   "outputs": [
    {
     "data": {
      "text/plain": [
       "kurtosis_oxygen    -0.555643\n",
       "education-num      -0.004584\n",
       "std_oxygen          0.650266\n",
       "capital-gain       -0.008443\n",
       "skewness_oxygen    -0.385221\n",
       "fnlwgt             -0.017244\n",
       "class               1.000000\n",
       "capital-loss       -0.006092\n",
       "mean_oxygen         0.518284\n",
       "hours-per-week      0.015091\n",
       "mean_glucose       -0.775109\n",
       "std_glucose        -0.500295\n",
       "kurtosis_glucose    0.784912\n",
       "skewness_glucose    0.675967\n",
       "Name: class, dtype: float64"
      ]
     },
     "execution_count": 31,
     "metadata": {},
     "output_type": "execute_result"
    }
   ],
   "source": [
    "other.corr()[\"class\"]"
   ]
  },
  {
   "cell_type": "code",
   "execution_count": 32,
   "metadata": {},
   "outputs": [
    {
     "data": {
      "text/plain": [
       "array([[<matplotlib.axes._subplots.AxesSubplot object at 0x000001D99C967978>,\n",
       "        <matplotlib.axes._subplots.AxesSubplot object at 0x000001D99D3314E0>,\n",
       "        <matplotlib.axes._subplots.AxesSubplot object at 0x000001D99D35FDA0>,\n",
       "        <matplotlib.axes._subplots.AxesSubplot object at 0x000001D99D399780>],\n",
       "       [<matplotlib.axes._subplots.AxesSubplot object at 0x000001D99D3D4160>,\n",
       "        <matplotlib.axes._subplots.AxesSubplot object at 0x000001D99D401B00>,\n",
       "        <matplotlib.axes._subplots.AxesSubplot object at 0x000001D99D43C4E0>,\n",
       "        <matplotlib.axes._subplots.AxesSubplot object at 0x000001D99D46AEB8>],\n",
       "       [<matplotlib.axes._subplots.AxesSubplot object at 0x000001D99D46AEF0>,\n",
       "        <matplotlib.axes._subplots.AxesSubplot object at 0x000001D99D4DF240>,\n",
       "        <matplotlib.axes._subplots.AxesSubplot object at 0x000001D99D50DBE0>,\n",
       "        <matplotlib.axes._subplots.AxesSubplot object at 0x000001D99D5485C0>],\n",
       "       [<matplotlib.axes._subplots.AxesSubplot object at 0x000001D99D578F60>,\n",
       "        <matplotlib.axes._subplots.AxesSubplot object at 0x000001D99D5B0940>,\n",
       "        <matplotlib.axes._subplots.AxesSubplot object at 0x000001D99D5EA320>,\n",
       "        <matplotlib.axes._subplots.AxesSubplot object at 0x000001D99D61CCC0>]],\n",
       "      dtype=object)"
      ]
     },
     "execution_count": 32,
     "metadata": {},
     "output_type": "execute_result"
    },
    {
     "data": {
      "image/png": "[encoded data removed]",
      "text/plain": [
       "<Figure size 432x288 with 16 Axes>"
      ]
     },
     "metadata": {
      "needs_background": "light"
     },
     "output_type": "display_data"
    }
   ],
   "source": [
    "other.hist()"
   ]
  },
  {
   "cell_type": "code",
   "execution_count": 33,
   "metadata": {},
   "outputs": [
    {
     "data": {
      "text/plain": [
       "class\n",
       "0.0    [[AxesSubplot(0.125,0.725918;0.158163x0.154082...\n",
       "1.0    [[AxesSubplot(0.125,0.725918;0.158163x0.154082...\n",
       "dtype: object"
      ]
     },
     "execution_count": 33,
     "metadata": {},
     "output_type": "execute_result"
    },
    {
     "data": {
      "image/png": "[encoded data removed]",
      "text/plain": [
       "<Figure size 432x288 with 16 Axes>"
      ]
     },
     "metadata": {
      "needs_background": "light"
     },
     "output_type": "display_data"
    },
    {
     "data": {
      "image/png": "[encoded data removed]",
      "text/plain": [
       "<Figure size 432x288 with 16 Axes>"
      ]
     },
     "metadata": {
      "needs_background": "light"
     },
     "output_type": "display_data"
    }
   ],
   "source": [
    "other.groupby('class').hist()"
   ]
  },
  {
   "cell_type": "code",
   "execution_count": 34,
   "metadata": {},
   "outputs": [],
   "source": [
    "#data = pd.merge(personal, other,  how='left', left_on=['name','address'], right_on = ['name','address'])\n",
    "#spojime oba dataframy do jedneho, pricom spolocne budu mat meno a adresu \n",
    "#data"
   ]
  },
  {
   "cell_type": "markdown",
   "metadata": {},
   "source": [
    "# Hypotezy\n",
    "\n",
    "* Ľudia, ktorí majú cukrovku majú nižšiu priemernú hladinu glukózy v krvi ako ľudia bez tohoto ochorenia\n",
    "* "
   ]
  },
  {
   "cell_type": "code",
   "execution_count": 37,
   "metadata": {
    "scrolled": false
   },
   "outputs": [
    {
     "data": {
      "text/plain": [
       "0              17/06/1965\n",
       "1              1967-12-19\n",
       "2              1954-06-27\n",
       "3              1983-03-29\n",
       "4              1988-11-29\n",
       "5              1960-03-11\n",
       "6                74-08-11\n",
       "7              1957-12-17\n",
       "8     1945-05-02 00 00 00\n",
       "9     1962-05-03 00:00:00\n",
       "10             1962-07-30\n",
       "11    1954-10-11 00:00:00\n",
       "12             1948-12-06\n",
       "13             1974-03-17\n",
       "14               73-04-28\n",
       "15    1976-04-29 00 00 00\n",
       "16             1977-06-17\n",
       "17             1968-06-19\n",
       "18    1963-03-24 00 00 00\n",
       "19    1962-11-18 00:00:00\n",
       "20             1950-09-11\n",
       "21             1979-01-07\n",
       "22             1954/10/18\n",
       "23             1984-06-01\n",
       "24             1957-08-02\n",
       "25             1966-04-25\n",
       "26             1965-07-26\n",
       "27    1968-11-24 00 00 00\n",
       "28             1971-10-15\n",
       "29             1967/01/08\n",
       "30               73-02-26\n",
       "31             26/03/1966\n",
       "32             1955-07-29\n",
       "33             1968-08-26\n",
       "34             1962-05-26\n",
       "35             04/08/1965\n",
       "36             1970-03-15\n",
       "37             1975-06-22\n",
       "38             1975-04-03\n",
       "39               75-01-02\n",
       "40             1948-08-18\n",
       "41             1961-12-19\n",
       "42    1968-02-22 00:00:00\n",
       "43               79-01-09\n",
       "44             1975-06-10\n",
       "45             1965-09-05\n",
       "46             1986/04/08\n",
       "47             1980-01-14\n",
       "48             1962-08-17\n",
       "49             1981-11-03\n",
       "Name: date_of_birth, dtype: object"
      ]
     },
     "execution_count": 37,
     "metadata": {},
     "output_type": "execute_result"
    }
   ],
   "source": [
    "personal.date_of_birth.head(50)"
   ]
  },
  {
   "cell_type": "code",
   "execution_count": 65,
   "metadata": {},
   "outputs": [],
   "source": [
    "personal[\"datumi\"] = personal[\"date_of_birth\"].astype(str)\n",
    "import time\n",
    "from datetime import datetime\n",
    "from time import mktime"
   ]
  },
  {
   "cell_type": "markdown",
   "metadata": {},
   "source": []
  },
  {
   "cell_type": "code",
   "execution_count": 68,
   "metadata": {
    "scrolled": false
   },
   "outputs": [],
   "source": [
    "for index, row in personal.iterrows():\n",
    "    datetime_object = row['datumi']\n",
    "    #print(datetime_object)\n",
    "    \n",
    "    try:\n",
    "        d = time.strptime(datetime_object, '%d/%m/%Y')\n",
    "        print(datetime.fromtimestamp(mktime(d.strftime('%d/%m/%Y')))) \n",
    "        continue\n",
    "    except:\n",
    "        pass\n",
    "    \n",
    "    try:\n",
    "        d = time.strptime(datetime_object, '%Y-%m-%d')\n",
    "        print(datetime.fromtimestamp(mktime(d.strftime('%d/%m/%Y'))))\n",
    "        continue\n",
    "    except:\n",
    "        pass\n",
    "    \n",
    "    try:\n",
    "        d = time.strptime(datetime_object, '%y-%m-%d')\n",
    "        print(datetime.fromtimestamp(mktime(d.strftime('%d/%m/%Y'))))\n",
    "        continue\n",
    "    except:\n",
    "        pass\n",
    "    \n",
    "    try:\n",
    "        d = time.strptime(datetime_object, '%Y-%m-%d %H %M %S')\n",
    "        print(datetime.fromtimestamp(mktime(d.strftime('%d/%m/%Y'))))\n",
    "        continue\n",
    "    except:\n",
    "        pass\n",
    "    \n",
    "    try:\n",
    "        datetime_object = time.strptime(datetime_object, '%Y-%m-%d %H:%M:%S')\n",
    "        print(datetime.fromtimestamp(mktime(d.strftime('%d/%m/%Y'))))\n",
    "        continue\n",
    "    except:\n",
    "        pass\n",
    "    \n",
    "    try:\n",
    "        datetime_object = time.strptime(datetime_object, '%Y/%m/%d')\n",
    "        print(datetime.fromtimestamp(mktime(d.strftime('%d/%m/%Y'))))\n",
    "        continue\n",
    "    except:\n",
    "        pass"
   ]
  },
  {
   "cell_type": "code",
   "execution_count": null,
   "metadata": {},
   "outputs": [],
   "source": [
    "personal.date_of_birth.head(50)"
   ]
  }
 ],
 "metadata": {
  "kernelspec": {
   "display_name": "Python 3",
   "language": "python",
   "name": "python3"
  },
  "language_info": {
   "codemirror_mode": {
    "name": "ipython",
    "version": 3
   },
   "file_extension": ".py",
   "mimetype": "text/x-python",
   "name": "python",
   "nbconvert_exporter": "python",
   "pygments_lexer": "ipython3",
   "version": "3.7.3"
  }
 },
 "nbformat": 4,
 "nbformat_minor": 2
}
