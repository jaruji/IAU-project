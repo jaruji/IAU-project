{
 "cells": [
  {
   "cell_type": "markdown",
   "metadata": {},
   "source": [
    "Podiel práce: Juraj Bedej 50%, Marek Kocúrik 50%"
   ]
  },
  {
   "cell_type": "code",
   "execution_count": 105,
   "metadata": {},
   "outputs": [],
   "source": [
    "import numpy as np\n",
    "import pandas as pd\n",
    "import matplotlib.pyplot as plt\n",
    "import seaborn as sns \n",
    "import json\n",
    "from scipy import stats as st\n",
    "from scipy.stats import norm as nr\n",
    "from collections import Counter\n",
    "\n",
    "import statsmodels.api as sm\n",
    "import statsmodels.stats as sm_stats\n",
    "import statsmodels.stats.api as sms\n",
    "\n",
    "%matplotlib inline \n",
    "sns.set()"
   ]
  },
  {
   "cell_type": "code",
   "execution_count": 106,
   "metadata": {},
   "outputs": [],
   "source": [
    "personal = pd.read_csv(\"data/personal_train.csv\");\n",
    "other = pd.read_csv(\"data/other_train.csv\");"
   ]
  },
  {
   "cell_type": "markdown",
   "metadata": {},
   "source": [
    "# 1. Opis dát\n",
    "## 1.1 Personal_train.csv"
   ]
  },
  {
   "cell_type": "code",
   "execution_count": 107,
   "metadata": {},
   "outputs": [
    {
     "data": {
      "text/html": [
       "<div>\n",
       "<style scoped>\n",
       "    .dataframe tbody tr th:only-of-type {\n",
       "        vertical-align: middle;\n",
       "    }\n",
       "\n",
       "    .dataframe tbody tr th {\n",
       "        vertical-align: top;\n",
       "    }\n",
       "\n",
       "    .dataframe thead th {\n",
       "        text-align: right;\n",
       "    }\n",
       "</style>\n",
       "<table border=\"1\" class=\"dataframe\">\n",
       "  <thead>\n",
       "    <tr style=\"text-align: right;\">\n",
       "      <th></th>\n",
       "      <th>Unnamed: 0</th>\n",
       "      <th>name</th>\n",
       "      <th>address</th>\n",
       "      <th>age</th>\n",
       "      <th>sex</th>\n",
       "      <th>date_of_birth</th>\n",
       "    </tr>\n",
       "  </thead>\n",
       "  <tbody>\n",
       "    <tr>\n",
       "      <td>0</td>\n",
       "      <td>0</td>\n",
       "      <td>Roscoe Bohannon</td>\n",
       "      <td>7183 Osborne Ways Apt. 651\\r\\nEast Andrew, OH 53211</td>\n",
       "      <td>54</td>\n",
       "      <td>Male</td>\n",
       "      <td>17/06/1965</td>\n",
       "    </tr>\n",
       "  </tbody>\n",
       "</table>\n",
       "</div>"
      ],
      "text/plain": [
       "   Unnamed: 0             name  \\\n",
       "0  0           Roscoe Bohannon   \n",
       "\n",
       "                                               address  age    sex  \\\n",
       "0  7183 Osborne Ways Apt. 651\\r\\nEast Andrew, OH 53211  54    Male   \n",
       "\n",
       "  date_of_birth  \n",
       "0  17/06/1965    "
      ]
     },
     "execution_count": 107,
     "metadata": {},
     "output_type": "execute_result"
    }
   ],
   "source": [
    "personal.head(1)"
   ]
  },
  {
   "cell_type": "code",
   "execution_count": 108,
   "metadata": {},
   "outputs": [
    {
     "name": "stdout",
     "output_type": "stream",
     "text": [
      "<class 'pandas.core.frame.DataFrame'>\n",
      "RangeIndex: 3933 entries, 0 to 3932\n",
      "Data columns (total 6 columns):\n",
      "Unnamed: 0       3933 non-null int64\n",
      "name             3933 non-null object\n",
      "address          3933 non-null object\n",
      "age              3933 non-null int64\n",
      "sex              3933 non-null object\n",
      "date_of_birth    3933 non-null object\n",
      "dtypes: int64(2), object(4)\n",
      "memory usage: 184.5+ KB\n"
     ]
    }
   ],
   "source": [
    "personal.info()"
   ]
  },
  {
   "cell_type": "markdown",
   "metadata": {},
   "source": [
    "Pomocou výpisu vyššie môžeme vidieť, že v datasete 'personal_train.csv' sa nachádza 3933 záznamov a 6 atribútov. V zátvorke za názvom atribútu je zapísaný aj jeho typ (na základe prednášok z IAU):\n",
    "    1. Unnamed: 0 - (spojitý) - celočíselná hodnota, ktorá pravdepodobne zodpovedá indexu záznamu\n",
    "    2. name - (kategorický) - reťazec znakov obsahujúci krstné meno a priezvisko.\n",
    "    3. address - (kategorický) - reťazec znakov obsahujúci adresu.\n",
    "    4. age - (spojitý) - celočíselná hodnota reprezentujúca vek\n",
    "    5. sex - (kategorický) - reťazec znakov, v ktorom je zapísané pohlavie\n",
    "    6. date_of_birth - (kategorický) - reťazec znakov s dátumom narodenia\n",
    "Môžeme si všimnúť, že všetky atribúty sú non-null, takže dataset neobsahuje žiadne prázdne, respektíve nevyplnené hodnoty. <br />\n",
    "Keďže dataset obsahuje atribút s poradovým číslom záznamu, bolo by vhodné skontrolovať, či hodnoty v danom stĺpci naozaj zodpovedajú tomuto poradovému číslu. Ak áno, môžeme daný atribút z datasetu vyradiť, pretože je nadbytočný. Ďalej bude tiež potrebné overiť, či hodnoty v stĺpci 'age' neobsahujú nejaké záporné alebo príliš vysoké hodnoty. V takomto prípade overíme vek cez dátum narodenia. Ten bude tiež potrebné skontrolovať, aby mal jednotný zápis, nakoľko existuje viacero štandardov pre zápis dátumu narodenia. \n",
    "\n",
    "## 1.2 Other_train.csv"
   ]
  },
  {
   "cell_type": "code",
   "execution_count": 109,
   "metadata": {},
   "outputs": [
    {
     "data": {
      "text/html": [
       "<div>\n",
       "<style scoped>\n",
       "    .dataframe tbody tr th:only-of-type {\n",
       "        vertical-align: middle;\n",
       "    }\n",
       "\n",
       "    .dataframe tbody tr th {\n",
       "        vertical-align: top;\n",
       "    }\n",
       "\n",
       "    .dataframe thead th {\n",
       "        text-align: right;\n",
       "    }\n",
       "</style>\n",
       "<table border=\"1\" class=\"dataframe\">\n",
       "  <thead>\n",
       "    <tr style=\"text-align: right;\">\n",
       "      <th></th>\n",
       "      <th>Unnamed: 0</th>\n",
       "      <th>name</th>\n",
       "      <th>address</th>\n",
       "      <th>kurtosis_oxygen</th>\n",
       "      <th>occupation</th>\n",
       "      <th>marital-status</th>\n",
       "      <th>pregnant</th>\n",
       "      <th>education-num</th>\n",
       "      <th>relationship</th>\n",
       "      <th>std_oxygen</th>\n",
       "      <th>...</th>\n",
       "      <th>fnlwgt</th>\n",
       "      <th>class</th>\n",
       "      <th>income</th>\n",
       "      <th>medical_info</th>\n",
       "      <th>native-country</th>\n",
       "      <th>capital-loss</th>\n",
       "      <th>mean_oxygen</th>\n",
       "      <th>hours-per-week</th>\n",
       "      <th>race</th>\n",
       "      <th>workclass</th>\n",
       "    </tr>\n",
       "  </thead>\n",
       "  <tbody>\n",
       "    <tr>\n",
       "      <td>0</td>\n",
       "      <td>0</td>\n",
       "      <td>James Wilhoit</td>\n",
       "      <td>656 Anderson Road\\r\\nWest Christopherborough, DE 51499</td>\n",
       "      <td>0.253562</td>\n",
       "      <td>Other-service</td>\n",
       "      <td>Never-married</td>\n",
       "      <td>f</td>\n",
       "      <td>1000.0</td>\n",
       "      <td>Own-child</td>\n",
       "      <td>75.716494</td>\n",
       "      <td>...</td>\n",
       "      <td>129784.0</td>\n",
       "      <td>1.0</td>\n",
       "      <td>&lt;=50K</td>\n",
       "      <td>{'mean_glucose':'36.46875','std_glucose':'39.27287102','kurtosis_glucose':'3.736450963','skewness_glucose':'14.914644699999998'}</td>\n",
       "      <td>United-States</td>\n",
       "      <td>0.0</td>\n",
       "      <td>111.12291</td>\n",
       "      <td>40.0</td>\n",
       "      <td>White</td>\n",
       "      <td>Private</td>\n",
       "    </tr>\n",
       "  </tbody>\n",
       "</table>\n",
       "<p>1 rows × 23 columns</p>\n",
       "</div>"
      ],
      "text/plain": [
       "   Unnamed: 0           name  \\\n",
       "0  0           James Wilhoit   \n",
       "\n",
       "                                                  address  kurtosis_oxygen  \\\n",
       "0  656 Anderson Road\\r\\nWest Christopherborough, DE 51499  0.253562          \n",
       "\n",
       "       occupation  marital-status pregnant  education-num relationship  \\\n",
       "0   Other-service   Never-married  f        1000.0          Own-child    \n",
       "\n",
       "   std_oxygen  ...    fnlwgt  class  income  \\\n",
       "0  75.716494   ...  129784.0  1.0     <=50K   \n",
       "\n",
       "                                                                                                                       medical_info  \\\n",
       "0  {'mean_glucose':'36.46875','std_glucose':'39.27287102','kurtosis_glucose':'3.736450963','skewness_glucose':'14.914644699999998'}   \n",
       "\n",
       "   native-country capital-loss mean_oxygen hours-per-week    race  workclass  \n",
       "0   United-States  0.0          111.12291   40.0            White   Private   \n",
       "\n",
       "[1 rows x 23 columns]"
      ]
     },
     "execution_count": 109,
     "metadata": {},
     "output_type": "execute_result"
    }
   ],
   "source": [
    "other.head(1)"
   ]
  },
  {
   "cell_type": "code",
   "execution_count": 110,
   "metadata": {},
   "outputs": [
    {
     "name": "stdout",
     "output_type": "stream",
     "text": [
      "<class 'pandas.core.frame.DataFrame'>\n",
      "RangeIndex: 3983 entries, 0 to 3982\n",
      "Data columns (total 23 columns):\n",
      "Unnamed: 0         3983 non-null int64\n",
      "name               3983 non-null object\n",
      "address            3983 non-null object\n",
      "kurtosis_oxygen    3969 non-null float64\n",
      "occupation         3970 non-null object\n",
      "marital-status     3967 non-null object\n",
      "pregnant           3968 non-null object\n",
      "education-num      3572 non-null float64\n",
      "relationship       3969 non-null object\n",
      "std_oxygen         3968 non-null float64\n",
      "capital-gain       3969 non-null float64\n",
      "skewness_oxygen    3964 non-null float64\n",
      "education          3971 non-null object\n",
      "fnlwgt             3974 non-null float64\n",
      "class              3972 non-null float64\n",
      "income             3971 non-null object\n",
      "medical_info       3966 non-null object\n",
      "native-country     3966 non-null object\n",
      "capital-loss       3966 non-null float64\n",
      "mean_oxygen        3972 non-null float64\n",
      "hours-per-week     3967 non-null float64\n",
      "race               3970 non-null object\n",
      "workclass          3739 non-null object\n",
      "dtypes: float64(10), int64(1), object(12)\n",
      "memory usage: 715.8+ KB\n"
     ]
    }
   ],
   "source": [
    "other.info()"
   ]
  },
  {
   "cell_type": "markdown",
   "metadata": {},
   "source": [
    "Z výpisu vyššie môžeme vidieť, že dataset 'other_train.csv' obsahuje najviac 3983 a 23 atribútov, z čoho niektoré neobsahujú žiadne validné hodnoty (null). Dôležité atribúty v tomto datasete sú 'name' a 'address', nakoľko rovnaké atribúty obsahuje aj predošlý dataset. Je teda možné, že záznamy z datasetov neskôr spojíme práve cez tieto dva atribúty. <br />\n",
    "Ostatné atribúty obsahujú doplňujúce informácie o danom človeku, z ktorých významná je hodnota v atribúte 'class', ktorá hovorí, či daný človek má alebo nemá cukrovku.\n",
    "\n",
    "* Unnamed: 0 - (spojitý), 3983 non-null hodnôt\n",
    "* name - (kategorický), 3983 non-null hodnôt\n",
    "* address - (kategorický), 3983 non-null hodnôt\n",
    "* kurtosis_oxygen - (spojitý), 3969 non-null hodnôt, 14 null hodnôt\n",
    "* occupation - (kategorický), 3970 non-null hodnôt, 13 null hodnôt\n",
    "* marital_status - (kategorický), 3967 non-null hodnôt, 16 null hodnôt\n",
    "* pregnant - (kategorický), 3968 non-null hodnôt, 15 null hodnôt\n",
    "* education-num - (kategorický), 3572 non-null hodnôt, 411 null hodnôt\n",
    "* relationship - (kategorický), 3969 non-null hodnôt, 14 null hodnôt\n",
    "* std_oxygen - (spojitý), 3968 non-null hodnôt, 15 null hodnôt\n",
    "* capital-gain - (spojitý), 3969 non-null hodnôt, 14 null hodnôt\n",
    "* skewness_oxygen - (spojitý), 3964 non-null hodnôt, 19 null hodnôt\n",
    "* education - (kategorický), 3971 non-null hodnôt, 12 null hodnôt\n",
    "* fnlwgt - (spojitý), 3974 non-null hodnôt, 9 null hodnôt\n",
    "* class - (kategorický) - čísla len kódujú kategóriu, 3972 non-null hodnôt, 11 null hodnôt\n",
    "* income - (spojitý), 3971 non-null hodnôt, 12 null hodnôt\n",
    "* medical_info - (kategorický) - obsahuje 4 atribúty ktoré sú spojité, 3966 non-null hodnôt, 18 null hodnôt\n",
    "* native-country - (kategorický), 3966 non-null hodnôt, 18 null hodnôt\n",
    "* capital-loss - (spojitý), 3966 non-null hodnôt, 18 null hodnôt\n",
    "* mean_oxygen - (spojitý), 3972 non-null hodnôt, 11 null hodnôt\n",
    "* hours-per-week - (spojitý), 3967 non-null hodnôt, 16 null hodnôt\n",
    "* race - (kategorický), 3970 non-null hodnôt, 23 null hodnôt\n",
    "* workclass - (kategorický), 3737 non-null hodnôt, 246 null hodnôt"
   ]
  },
  {
   "cell_type": "code",
   "execution_count": 111,
   "metadata": {},
   "outputs": [
    {
     "data": {
      "text/plain": [
       "0"
      ]
     },
     "execution_count": 111,
     "metadata": {},
     "output_type": "execute_result"
    }
   ],
   "source": [
    "# Overíme, či hodnoty v stĺpci 'Unnamed: 0' naozaj zodpovedajú poradovému číslu záznamov. \n",
    "len(personal[personal.index != personal['Unnamed: 0']])"
   ]
  },
  {
   "cell_type": "code",
   "execution_count": 112,
   "metadata": {},
   "outputs": [
    {
     "data": {
      "text/plain": [
       "0"
      ]
     },
     "execution_count": 112,
     "metadata": {},
     "output_type": "execute_result"
    }
   ],
   "source": [
    "# Rovnaké overenie spravíme aj pre dataset other_train\n",
    "len(other[other.index != other['Unnamed: 0']])"
   ]
  },
  {
   "cell_type": "markdown",
   "metadata": {},
   "source": [
    "Počet riadkov v oboch datasetoch, kde sa hodnota v 'Unnamed: 0' nezhoduje s indexom riadku je 0. Môžeme teda daný atribút z datasetov odstrániť, nakoľko ho nepotrebujeme."
   ]
  },
  {
   "cell_type": "code",
   "execution_count": 113,
   "metadata": {},
   "outputs": [
    {
     "data": {
      "text/html": [
       "<div>\n",
       "<style scoped>\n",
       "    .dataframe tbody tr th:only-of-type {\n",
       "        vertical-align: middle;\n",
       "    }\n",
       "\n",
       "    .dataframe tbody tr th {\n",
       "        vertical-align: top;\n",
       "    }\n",
       "\n",
       "    .dataframe thead th {\n",
       "        text-align: right;\n",
       "    }\n",
       "</style>\n",
       "<table border=\"1\" class=\"dataframe\">\n",
       "  <thead>\n",
       "    <tr style=\"text-align: right;\">\n",
       "      <th></th>\n",
       "      <th>name</th>\n",
       "      <th>address</th>\n",
       "      <th>age</th>\n",
       "      <th>sex</th>\n",
       "      <th>date_of_birth</th>\n",
       "    </tr>\n",
       "  </thead>\n",
       "  <tbody>\n",
       "    <tr>\n",
       "      <td>0</td>\n",
       "      <td>Roscoe Bohannon</td>\n",
       "      <td>7183 Osborne Ways Apt. 651\\r\\nEast Andrew, OH 53211</td>\n",
       "      <td>54</td>\n",
       "      <td>Male</td>\n",
       "      <td>17/06/1965</td>\n",
       "    </tr>\n",
       "  </tbody>\n",
       "</table>\n",
       "</div>"
      ],
      "text/plain": [
       "              name                                              address  age  \\\n",
       "0  Roscoe Bohannon  7183 Osborne Ways Apt. 651\\r\\nEast Andrew, OH 53211  54    \n",
       "\n",
       "     sex date_of_birth  \n",
       "0   Male  17/06/1965    "
      ]
     },
     "execution_count": 113,
     "metadata": {},
     "output_type": "execute_result"
    }
   ],
   "source": [
    "# Odstránime atribút 'Unnamed: 0' z datasetu personal_train\n",
    "personal = personal.drop('Unnamed: 0', axis = 1)\n",
    "personal.head(1)"
   ]
  },
  {
   "cell_type": "code",
   "execution_count": 114,
   "metadata": {},
   "outputs": [
    {
     "data": {
      "text/html": [
       "<div>\n",
       "<style scoped>\n",
       "    .dataframe tbody tr th:only-of-type {\n",
       "        vertical-align: middle;\n",
       "    }\n",
       "\n",
       "    .dataframe tbody tr th {\n",
       "        vertical-align: top;\n",
       "    }\n",
       "\n",
       "    .dataframe thead th {\n",
       "        text-align: right;\n",
       "    }\n",
       "</style>\n",
       "<table border=\"1\" class=\"dataframe\">\n",
       "  <thead>\n",
       "    <tr style=\"text-align: right;\">\n",
       "      <th></th>\n",
       "      <th>name</th>\n",
       "      <th>address</th>\n",
       "      <th>kurtosis_oxygen</th>\n",
       "      <th>occupation</th>\n",
       "      <th>marital-status</th>\n",
       "      <th>pregnant</th>\n",
       "      <th>education-num</th>\n",
       "      <th>relationship</th>\n",
       "      <th>std_oxygen</th>\n",
       "      <th>capital-gain</th>\n",
       "      <th>...</th>\n",
       "      <th>fnlwgt</th>\n",
       "      <th>class</th>\n",
       "      <th>income</th>\n",
       "      <th>medical_info</th>\n",
       "      <th>native-country</th>\n",
       "      <th>capital-loss</th>\n",
       "      <th>mean_oxygen</th>\n",
       "      <th>hours-per-week</th>\n",
       "      <th>race</th>\n",
       "      <th>workclass</th>\n",
       "    </tr>\n",
       "  </thead>\n",
       "  <tbody>\n",
       "    <tr>\n",
       "      <td>0</td>\n",
       "      <td>James Wilhoit</td>\n",
       "      <td>656 Anderson Road\\r\\nWest Christopherborough, DE 51499</td>\n",
       "      <td>0.253562</td>\n",
       "      <td>Other-service</td>\n",
       "      <td>Never-married</td>\n",
       "      <td>f</td>\n",
       "      <td>1000.0</td>\n",
       "      <td>Own-child</td>\n",
       "      <td>75.716494</td>\n",
       "      <td>0.0</td>\n",
       "      <td>...</td>\n",
       "      <td>129784.0</td>\n",
       "      <td>1.0</td>\n",
       "      <td>&lt;=50K</td>\n",
       "      <td>{'mean_glucose':'36.46875','std_glucose':'39.27287102','kurtosis_glucose':'3.736450963','skewness_glucose':'14.914644699999998'}</td>\n",
       "      <td>United-States</td>\n",
       "      <td>0.0</td>\n",
       "      <td>111.12291</td>\n",
       "      <td>40.0</td>\n",
       "      <td>White</td>\n",
       "      <td>Private</td>\n",
       "    </tr>\n",
       "  </tbody>\n",
       "</table>\n",
       "<p>1 rows × 22 columns</p>\n",
       "</div>"
      ],
      "text/plain": [
       "            name                                                 address  \\\n",
       "0  James Wilhoit  656 Anderson Road\\r\\nWest Christopherborough, DE 51499   \n",
       "\n",
       "   kurtosis_oxygen      occupation  marital-status pregnant  education-num  \\\n",
       "0  0.253562          Other-service   Never-married  f        1000.0          \n",
       "\n",
       "  relationship  std_oxygen  capital-gain  ...    fnlwgt class  income  \\\n",
       "0   Own-child   75.716494   0.0           ...  129784.0  1.0    <=50K   \n",
       "\n",
       "                                                                                                                       medical_info  \\\n",
       "0  {'mean_glucose':'36.46875','std_glucose':'39.27287102','kurtosis_glucose':'3.736450963','skewness_glucose':'14.914644699999998'}   \n",
       "\n",
       "   native-country capital-loss mean_oxygen  hours-per-week    race  workclass  \n",
       "0   United-States  0.0          111.12291   40.0             White   Private   \n",
       "\n",
       "[1 rows x 22 columns]"
      ]
     },
     "execution_count": 114,
     "metadata": {},
     "output_type": "execute_result"
    }
   ],
   "source": [
    "# Odstránime atribút 'Unnamed: 0' z datasetu other_train\n",
    "other = other.drop('Unnamed: 0', axis = 1)\n",
    "other.head(1)"
   ]
  },
  {
   "cell_type": "markdown",
   "metadata": {},
   "source": [
    "Všimnime si, že atribút 'medical_info' obsahuje viacero hodnôt. Napríklad hodnota hladiny cukru v krvi je veľmi dôležitá pri určovaní či má daný človek cukrovku. Je teda potrebné z týchto hodnôt spraviť samostatné atribúty."
   ]
  },
  {
   "cell_type": "code",
   "execution_count": 115,
   "metadata": {},
   "outputs": [
    {
     "data": {
      "text/plain": [
       "0    {'mean_glucose':'36.46875','std_glucose':'39.27287102','kurtosis_glucose':'3.736450963','skewness_glucose':'14.914644699999998'}\n",
       "Name: medical_info, dtype: object"
      ]
     },
     "execution_count": 115,
     "metadata": {},
     "output_type": "execute_result"
    }
   ],
   "source": [
    "# Najprv skontrolujeme, aké hodnoty obsahuje atribút 'medical_info'\n",
    "# Kedze nevieme koľko hodnôt obsahuje 'medical_info', je potrebné zobraziť celý obsah daného atribútu\n",
    "pd.set_option('display.max_colwidth', -1) # nastavenie zobrazenia celého obsahu\n",
    "other.medical_info.head(1)"
   ]
  },
  {
   "cell_type": "markdown",
   "metadata": {},
   "source": [
    "Z výpisu vyššie je vidieť, že 'medical_info' obsahuje 4 hodnoty:\n",
    "    1. mean_glucose\n",
    "    2. std_glucose\n",
    "    3. kurtosis_glucose\n",
    "    4. skewness_glucose\n",
    "Teraz je potrebné tieto 4 hodnoty vybrať a vytvoriť z nich samostatné atribúty. Následne môžeme zmazať atribút 'medical_info' nakoľko už nebude obsahovať žiadne hodnoty."
   ]
  },
  {
   "cell_type": "code",
   "execution_count": 116,
   "metadata": {},
   "outputs": [],
   "source": [
    "# Z hodnôt v atribute 'medical_info' vytvoríme 4 atribúty (split podľa ','). Následne prostredníctvom regexu odstránime\n",
    "# všetky nenumerické charaktery okrem '.'\n",
    "other[['mean_glucose','std_glucose', 'kurtosis_glucose','skewness_glucose']] = other.medical_info.apply(lambda x: pd.Series(str(x).split(\",\"))) \n",
    "other['mean_glucose'].replace(regex=True,inplace=True,to_replace=r'[^\\d.]+',value=r'')\n",
    "other['std_glucose'].replace(regex=True,inplace=True,to_replace=r'[^\\d.]+', value=r'')\n",
    "other['kurtosis_glucose'].replace(regex=True,inplace=True,to_replace=r'[^\\d.]+', value=r'')\n",
    "other['skewness_glucose'].replace(regex=True,inplace=True,to_replace=r'[^\\d.]+', value=r'')\n",
    "other = other.drop('medical_info', axis = 1)"
   ]
  },
  {
   "cell_type": "code",
   "execution_count": 117,
   "metadata": {
    "scrolled": false
   },
   "outputs": [
    {
     "data": {
      "text/html": [
       "<div>\n",
       "<style scoped>\n",
       "    .dataframe tbody tr th:only-of-type {\n",
       "        vertical-align: middle;\n",
       "    }\n",
       "\n",
       "    .dataframe tbody tr th {\n",
       "        vertical-align: top;\n",
       "    }\n",
       "\n",
       "    .dataframe thead th {\n",
       "        text-align: right;\n",
       "    }\n",
       "</style>\n",
       "<table border=\"1\" class=\"dataframe\">\n",
       "  <thead>\n",
       "    <tr style=\"text-align: right;\">\n",
       "      <th></th>\n",
       "      <th>name</th>\n",
       "      <th>address</th>\n",
       "      <th>kurtosis_oxygen</th>\n",
       "      <th>occupation</th>\n",
       "      <th>marital-status</th>\n",
       "      <th>pregnant</th>\n",
       "      <th>education-num</th>\n",
       "      <th>relationship</th>\n",
       "      <th>std_oxygen</th>\n",
       "      <th>capital-gain</th>\n",
       "      <th>...</th>\n",
       "      <th>native-country</th>\n",
       "      <th>capital-loss</th>\n",
       "      <th>mean_oxygen</th>\n",
       "      <th>hours-per-week</th>\n",
       "      <th>race</th>\n",
       "      <th>workclass</th>\n",
       "      <th>mean_glucose</th>\n",
       "      <th>std_glucose</th>\n",
       "      <th>kurtosis_glucose</th>\n",
       "      <th>skewness_glucose</th>\n",
       "    </tr>\n",
       "  </thead>\n",
       "  <tbody>\n",
       "    <tr>\n",
       "      <td>0</td>\n",
       "      <td>James Wilhoit</td>\n",
       "      <td>656 Anderson Road\\r\\nWest Christopherborough, DE 51499</td>\n",
       "      <td>0.253562</td>\n",
       "      <td>Other-service</td>\n",
       "      <td>Never-married</td>\n",
       "      <td>f</td>\n",
       "      <td>1000.0</td>\n",
       "      <td>Own-child</td>\n",
       "      <td>75.716494</td>\n",
       "      <td>0.0</td>\n",
       "      <td>...</td>\n",
       "      <td>United-States</td>\n",
       "      <td>0.0</td>\n",
       "      <td>111.122910</td>\n",
       "      <td>40.0</td>\n",
       "      <td>White</td>\n",
       "      <td>Private</td>\n",
       "      <td>36.468750</td>\n",
       "      <td>39.272871</td>\n",
       "      <td>3.736451</td>\n",
       "      <td>14.914645</td>\n",
       "    </tr>\n",
       "    <tr>\n",
       "      <td>1</td>\n",
       "      <td>Carey Trowbridge</td>\n",
       "      <td>581 Amanda Turnpike Suite 551\\r\\nNew April, CT 17394</td>\n",
       "      <td>9.595103</td>\n",
       "      <td>Transport-moving</td>\n",
       "      <td>Never-married</td>\n",
       "      <td>f</td>\n",
       "      <td>13.0</td>\n",
       "      <td>Not-in-family</td>\n",
       "      <td>19.598770</td>\n",
       "      <td>0.0</td>\n",
       "      <td>...</td>\n",
       "      <td>United-States</td>\n",
       "      <td>0.0</td>\n",
       "      <td>2.153846</td>\n",
       "      <td>30.0</td>\n",
       "      <td>White</td>\n",
       "      <td>Private</td>\n",
       "      <td>101.007812</td>\n",
       "      <td>41.561606</td>\n",
       "      <td>0.247111</td>\n",
       "      <td>0.527799</td>\n",
       "    </tr>\n",
       "    <tr>\n",
       "      <td>2</td>\n",
       "      <td>Johnathon Maier</td>\n",
       "      <td>83956 Rivera Fall\\r\\nAliciastad, VA 57310</td>\n",
       "      <td>5.835402</td>\n",
       "      <td>Prof-specialty</td>\n",
       "      <td>Divorced</td>\n",
       "      <td>f</td>\n",
       "      <td>10.0</td>\n",
       "      <td>Not-in-family</td>\n",
       "      <td>23.907751</td>\n",
       "      <td>0.0</td>\n",
       "      <td>...</td>\n",
       "      <td>United-States</td>\n",
       "      <td>0.0</td>\n",
       "      <td>4.820234</td>\n",
       "      <td>48.0</td>\n",
       "      <td>White</td>\n",
       "      <td>federal-gov</td>\n",
       "      <td>134.132812</td>\n",
       "      <td>46.171956</td>\n",
       "      <td>0.008403</td>\n",
       "      <td>0.009398</td>\n",
       "    </tr>\n",
       "    <tr>\n",
       "      <td>3</td>\n",
       "      <td>Larry Hawkins</td>\n",
       "      <td>865 Stephanie Overpass\\r\\nHillbury, TN 13782</td>\n",
       "      <td>2.105287</td>\n",
       "      <td>Craft-repair</td>\n",
       "      <td>Married-civ-spouse</td>\n",
       "      <td>f</td>\n",
       "      <td>9.0</td>\n",
       "      <td>Husband</td>\n",
       "      <td>53.796010</td>\n",
       "      <td>0.0</td>\n",
       "      <td>...</td>\n",
       "      <td>United-States</td>\n",
       "      <td>0.0</td>\n",
       "      <td>28.642140</td>\n",
       "      <td>40.0</td>\n",
       "      <td>White</td>\n",
       "      <td>NaN</td>\n",
       "      <td>22.500000</td>\n",
       "      <td>31.253750</td>\n",
       "      <td>5.482057</td>\n",
       "      <td>32.589855</td>\n",
       "    </tr>\n",
       "    <tr>\n",
       "      <td>4</td>\n",
       "      <td>Oscar Driscoll</td>\n",
       "      <td>848 Bautista Loaf Apt. 958\\r\\nMatthewtown, VA 47770</td>\n",
       "      <td>12.012792</td>\n",
       "      <td>Prof-specialty</td>\n",
       "      <td>Married-civ-spouse</td>\n",
       "      <td>f</td>\n",
       "      <td>-1400.0</td>\n",
       "      <td>Husband</td>\n",
       "      <td>12.071025</td>\n",
       "      <td>0.0</td>\n",
       "      <td>...</td>\n",
       "      <td>United-States</td>\n",
       "      <td>1887.0</td>\n",
       "      <td>1.752508</td>\n",
       "      <td>40.0</td>\n",
       "      <td>White</td>\n",
       "      <td>Private</td>\n",
       "      <td>119.132812</td>\n",
       "      <td>52.614662</td>\n",
       "      <td>0.223922</td>\n",
       "      <td>0.228760</td>\n",
       "    </tr>\n",
       "  </tbody>\n",
       "</table>\n",
       "<p>5 rows × 25 columns</p>\n",
       "</div>"
      ],
      "text/plain": [
       "               name                                                 address  \\\n",
       "0  James Wilhoit     656 Anderson Road\\r\\nWest Christopherborough, DE 51499   \n",
       "1  Carey Trowbridge  581 Amanda Turnpike Suite 551\\r\\nNew April, CT 17394     \n",
       "2  Johnathon Maier   83956 Rivera Fall\\r\\nAliciastad, VA 57310                \n",
       "3  Larry Hawkins     865 Stephanie Overpass\\r\\nHillbury, TN 13782             \n",
       "4  Oscar Driscoll    848 Bautista Loaf Apt. 958\\r\\nMatthewtown, VA 47770      \n",
       "\n",
       "   kurtosis_oxygen         occupation       marital-status pregnant  \\\n",
       "0  0.253562          Other-service      Never-married       f         \n",
       "1  9.595103          Transport-moving   Never-married       f         \n",
       "2  5.835402          Prof-specialty     Divorced            f         \n",
       "3  2.105287          Craft-repair       Married-civ-spouse  f         \n",
       "4  12.012792         Prof-specialty     Married-civ-spouse  f         \n",
       "\n",
       "   education-num    relationship  std_oxygen  capital-gain  ...  \\\n",
       "0  1000.0          Own-child      75.716494   0.0           ...   \n",
       "1  13.0            Not-in-family  19.598770   0.0           ...   \n",
       "2  10.0            Not-in-family  23.907751   0.0           ...   \n",
       "3  9.0             Husband        53.796010   0.0           ...   \n",
       "4 -1400.0          Husband        12.071025   0.0           ...   \n",
       "\n",
       "   native-country capital-loss  mean_oxygen  hours-per-week    race  \\\n",
       "0   United-States  0.0          111.122910   40.0             White   \n",
       "1   United-States  0.0          2.153846     30.0             White   \n",
       "2   United-States  0.0          4.820234     48.0             White   \n",
       "3   United-States  0.0          28.642140    40.0             White   \n",
       "4   United-States  1887.0       1.752508     40.0             White   \n",
       "\n",
       "     workclass  mean_glucose  std_glucose  kurtosis_glucose skewness_glucose  \n",
       "0   Private     36.468750     39.272871    3.736451          14.914645        \n",
       "1   Private     101.007812    41.561606    0.247111          0.527799         \n",
       "2  federal-gov  134.132812    46.171956    0.008403          0.009398         \n",
       "3  NaN          22.500000     31.253750    5.482057          32.589855        \n",
       "4   Private     119.132812    52.614662    0.223922          0.228760         \n",
       "\n",
       "[5 rows x 25 columns]"
      ]
     },
     "execution_count": 117,
     "metadata": {},
     "output_type": "execute_result"
    }
   ],
   "source": [
    "# Teraz konvertujeme obsah nových stĺpcov na numerické hodnoty (float)\n",
    "other[\"mean_glucose\"] = pd.to_numeric(other[\"mean_glucose\"], errors = 'ignore')\n",
    "other[\"std_glucose\"] = pd.to_numeric(other[\"std_glucose\"], errors = 'ignore')\n",
    "other[\"kurtosis_glucose\"] = pd.to_numeric(other[\"kurtosis_glucose\"], errors = 'ignore')\n",
    "other[\"skewness_glucose\"] = pd.to_numeric(other[\"skewness_glucose\"], errors = 'ignore')\n",
    "other.head() # výpis nového dataframu"
   ]
  },
  {
   "cell_type": "markdown",
   "metadata": {},
   "source": [
    "Po rozdelení atribútu 'medical_info' na 4 stĺpce a jeho nasledovnom odstránení sa zmenil počet atribútov na 25 (odstránený bol aj atribút 'Unnamed: 0')."
   ]
  },
  {
   "cell_type": "markdown",
   "metadata": {},
   "source": [
    "## 1.3 Významné atribúty a ich distribúcie"
   ]
  },
  {
   "cell_type": "markdown",
   "metadata": {},
   "source": [
    "### 1.3.1 age"
   ]
  },
  {
   "cell_type": "code",
   "execution_count": 118,
   "metadata": {},
   "outputs": [
    {
     "data": {
      "text/plain": [
       "Text(0.5, 12.5, 'Age')"
      ]
     },
     "execution_count": 118,
     "metadata": {},
     "output_type": "execute_result"
    },
    {
     "data": {
      "image/png": "[encoded data removed]",
      "text/plain": [
       "<Figure size 432x288 with 2 Axes>"
      ]
     },
     "metadata": {},
     "output_type": "display_data"
    }
   ],
   "source": [
    "fig, ax = plt.subplots(1,2)\n",
    "fig.tight_layout() #nastavenie odsadenia medzi grafmi\n",
    "sns.distplot(personal['age'].dropna(),bins=None, kde=False, color = \"red\", ax=ax[0])\n",
    "ax[0].set_title('Age distribution', fontsize = 20)\n",
    "ax[0].set_xlabel('Age')\n",
    "ax[0].set_ylabel('Frequency')\n",
    "sns.distplot(personal['age'].dropna(),bins=None, hist=False, color = \"blue\", ax=ax[1])\n",
    "ax[1].set_title('Age estimation', fontsize = 20)\n",
    "ax[1].set_xlabel('Age')"
   ]
  },
  {
   "cell_type": "code",
   "execution_count": 119,
   "metadata": {
    "scrolled": true
   },
   "outputs": [
    {
     "data": {
      "text/plain": [
       "<matplotlib.axes._subplots.AxesSubplot at 0x23461daa588>"
      ]
     },
     "execution_count": 119,
     "metadata": {},
     "output_type": "execute_result"
    },
    {
     "data": {
      "image/png": "[encoded data removed]",
      "text/plain": [
       "<Figure size 432x288 with 1 Axes>"
      ]
     },
     "metadata": {},
     "output_type": "display_data"
    }
   ],
   "source": [
    "# Skontrolujeme vychýlené hodnoty veku, nakoľko z grafov vyššie nemusí byť vidieť veľmi nízky alebo veľmi vysoký vek\n",
    "personal.age.plot(kind='box')"
   ]
  },
  {
   "cell_type": "markdown",
   "metadata": {},
   "source": [
    "Z grafu vyššie môžeme vidieť, že jeden človek má vek nižší ako 0 a jeden vyšší ako 100. Pre overenie korektnosti, si tieto dva záznamy vypíšeme:"
   ]
  },
  {
   "cell_type": "code",
   "execution_count": 120,
   "metadata": {
    "scrolled": true
   },
   "outputs": [
    {
     "data": {
      "text/html": [
       "<div>\n",
       "<style scoped>\n",
       "    .dataframe tbody tr th:only-of-type {\n",
       "        vertical-align: middle;\n",
       "    }\n",
       "\n",
       "    .dataframe tbody tr th {\n",
       "        vertical-align: top;\n",
       "    }\n",
       "\n",
       "    .dataframe thead th {\n",
       "        text-align: right;\n",
       "    }\n",
       "</style>\n",
       "<table border=\"1\" class=\"dataframe\">\n",
       "  <thead>\n",
       "    <tr style=\"text-align: right;\">\n",
       "      <th></th>\n",
       "      <th>name</th>\n",
       "      <th>address</th>\n",
       "      <th>age</th>\n",
       "      <th>sex</th>\n",
       "      <th>date_of_birth</th>\n",
       "    </tr>\n",
       "  </thead>\n",
       "  <tbody>\n",
       "    <tr>\n",
       "      <td>1494</td>\n",
       "      <td>James Raspberry</td>\n",
       "      <td>28375 Nicole Vista\\r\\nValerieshire, MO 11508</td>\n",
       "      <td>-1</td>\n",
       "      <td>Female</td>\n",
       "      <td>2020-01-26</td>\n",
       "    </tr>\n",
       "    <tr>\n",
       "      <td>3826</td>\n",
       "      <td>Clark Smith</td>\n",
       "      <td>9472 Megan Forge\\r\\nNorth Selenaborough, NV 88450</td>\n",
       "      <td>113</td>\n",
       "      <td>Male</td>\n",
       "      <td>1906-07-20 00 00 00</td>\n",
       "    </tr>\n",
       "  </tbody>\n",
       "</table>\n",
       "</div>"
      ],
      "text/plain": [
       "                 name                                            address  age  \\\n",
       "1494  James Raspberry  28375 Nicole Vista\\r\\nValerieshire, MO 11508      -1     \n",
       "3826  Clark Smith      9472 Megan Forge\\r\\nNorth Selenaborough, NV 88450  113   \n",
       "\n",
       "          sex        date_of_birth  \n",
       "1494   Female  2020-01-26           \n",
       "3826   Male    1906-07-20 00 00 00  "
      ]
     },
     "execution_count": 120,
     "metadata": {},
     "output_type": "execute_result"
    }
   ],
   "source": [
    "personal[(personal.age < 0) | (personal.age > 100)]"
   ]
  },
  {
   "cell_type": "markdown",
   "metadata": {},
   "source": [
    "Zobrazili sme si najkrajnejšie zaznamy, ktoré sme videli zobrazené na predchádzajúcom grafe. Vidíme, že záznam subjektu s vekom 113 má korektný dátum narodenia, čiže ho zatiaľ budeme považovať za korektný. Subjekt s vekom -1 má však nezmyselný dátum narodenia, čiže bude potrebné vyhľadať zhodujúci sa záznam v druhom datasete a zistiť, či sú aj v ňom hodnoty nezmyselné. Ak áno, záznam nám môže pokaziť náš model a radšej ho zahodíme. Stále sa však môže jednať o preklep alebo nejakú chybu v systéme."
   ]
  },
  {
   "cell_type": "code",
   "execution_count": 121,
   "metadata": {},
   "outputs": [
    {
     "data": {
      "text/html": [
       "<div>\n",
       "<style scoped>\n",
       "    .dataframe tbody tr th:only-of-type {\n",
       "        vertical-align: middle;\n",
       "    }\n",
       "\n",
       "    .dataframe tbody tr th {\n",
       "        vertical-align: top;\n",
       "    }\n",
       "\n",
       "    .dataframe thead th {\n",
       "        text-align: right;\n",
       "    }\n",
       "</style>\n",
       "<table border=\"1\" class=\"dataframe\">\n",
       "  <thead>\n",
       "    <tr style=\"text-align: right;\">\n",
       "      <th></th>\n",
       "      <th>name</th>\n",
       "      <th>address</th>\n",
       "      <th>kurtosis_oxygen</th>\n",
       "      <th>occupation</th>\n",
       "      <th>marital-status</th>\n",
       "      <th>pregnant</th>\n",
       "      <th>education-num</th>\n",
       "      <th>relationship</th>\n",
       "      <th>std_oxygen</th>\n",
       "      <th>capital-gain</th>\n",
       "      <th>...</th>\n",
       "      <th>native-country</th>\n",
       "      <th>capital-loss</th>\n",
       "      <th>mean_oxygen</th>\n",
       "      <th>hours-per-week</th>\n",
       "      <th>race</th>\n",
       "      <th>workclass</th>\n",
       "      <th>mean_glucose</th>\n",
       "      <th>std_glucose</th>\n",
       "      <th>kurtosis_glucose</th>\n",
       "      <th>skewness_glucose</th>\n",
       "    </tr>\n",
       "  </thead>\n",
       "  <tbody>\n",
       "    <tr>\n",
       "      <td>2939</td>\n",
       "      <td>James Raspberry</td>\n",
       "      <td>28375 Nicole Vista\\r\\nValerieshire, MO 11508</td>\n",
       "      <td>4.928024</td>\n",
       "      <td>?</td>\n",
       "      <td>Never-married</td>\n",
       "      <td>f</td>\n",
       "      <td>3.0</td>\n",
       "      <td>Unmarried</td>\n",
       "      <td>29.791218</td>\n",
       "      <td>0.0</td>\n",
       "      <td>...</td>\n",
       "      <td>Mexico</td>\n",
       "      <td>0.0</td>\n",
       "      <td>6.810201</td>\n",
       "      <td>45.0</td>\n",
       "      <td>White</td>\n",
       "      <td>?</td>\n",
       "      <td>135.164062</td>\n",
       "      <td>50.852541</td>\n",
       "      <td>0.016696</td>\n",
       "      <td>0.065705</td>\n",
       "    </tr>\n",
       "  </tbody>\n",
       "</table>\n",
       "<p>1 rows × 25 columns</p>\n",
       "</div>"
      ],
      "text/plain": [
       "                 name                                       address  \\\n",
       "2939  James Raspberry  28375 Nicole Vista\\r\\nValerieshire, MO 11508   \n",
       "\n",
       "      kurtosis_oxygen occupation  marital-status pregnant  education-num  \\\n",
       "2939  4.928024          ?          Never-married  f        3.0             \n",
       "\n",
       "     relationship  std_oxygen  capital-gain  ...  native-country capital-loss  \\\n",
       "2939   Unmarried   29.791218   0.0           ...   Mexico         0.0           \n",
       "\n",
       "      mean_oxygen  hours-per-week    race workclass  mean_glucose  \\\n",
       "2939  6.810201     45.0             White   ?        135.164062     \n",
       "\n",
       "      std_glucose  kurtosis_glucose skewness_glucose  \n",
       "2939  50.852541    0.016696          0.065705         \n",
       "\n",
       "[1 rows x 25 columns]"
      ]
     },
     "execution_count": 121,
     "metadata": {},
     "output_type": "execute_result"
    }
   ],
   "source": [
    "other[(other.name == 'James Raspberry')]"
   ]
  },
  {
   "cell_type": "markdown",
   "metadata": {},
   "source": [
    "Ostané údaje vyzerajú byť v poriadku, takže záznam nevymažeme, ale aby chybný vek neovplyvnil priemerný vek, nahradíme ho mediánom."
   ]
  },
  {
   "cell_type": "code",
   "execution_count": 122,
   "metadata": {},
   "outputs": [
    {
     "data": {
      "text/html": [
       "<div>\n",
       "<style scoped>\n",
       "    .dataframe tbody tr th:only-of-type {\n",
       "        vertical-align: middle;\n",
       "    }\n",
       "\n",
       "    .dataframe tbody tr th {\n",
       "        vertical-align: top;\n",
       "    }\n",
       "\n",
       "    .dataframe thead th {\n",
       "        text-align: right;\n",
       "    }\n",
       "</style>\n",
       "<table border=\"1\" class=\"dataframe\">\n",
       "  <thead>\n",
       "    <tr style=\"text-align: right;\">\n",
       "      <th></th>\n",
       "      <th>name</th>\n",
       "      <th>address</th>\n",
       "      <th>age</th>\n",
       "      <th>sex</th>\n",
       "      <th>date_of_birth</th>\n",
       "    </tr>\n",
       "  </thead>\n",
       "  <tbody>\n",
       "    <tr>\n",
       "      <td>1494</td>\n",
       "      <td>James Raspberry</td>\n",
       "      <td>28375 Nicole Vista\\r\\nValerieshire, MO 11508</td>\n",
       "      <td>52.0</td>\n",
       "      <td>Female</td>\n",
       "      <td>2020-01-26</td>\n",
       "    </tr>\n",
       "  </tbody>\n",
       "</table>\n",
       "</div>"
      ],
      "text/plain": [
       "                 name                                       address   age  \\\n",
       "1494  James Raspberry  28375 Nicole Vista\\r\\nValerieshire, MO 11508  52.0   \n",
       "\n",
       "          sex date_of_birth  \n",
       "1494   Female  2020-01-26    "
      ]
     },
     "execution_count": 122,
     "metadata": {},
     "output_type": "execute_result"
    }
   ],
   "source": [
    "personal.loc[1494, 'age'] = personal.age.median()\n",
    "personal[(personal.index == 1494)]"
   ]
  },
  {
   "cell_type": "code",
   "execution_count": 123,
   "metadata": {},
   "outputs": [
    {
     "data": {
      "text/plain": [
       "51.83040935672515"
      ]
     },
     "execution_count": 123,
     "metadata": {},
     "output_type": "execute_result"
    }
   ],
   "source": [
    "# výpočet priemerného veku:\n",
    "personal.age.mean()"
   ]
  },
  {
   "cell_type": "markdown",
   "metadata": {},
   "source": [
    "Z grafu je vidieť, že vek má normálne rozdelenie. Priemerný vek je približne 52 rokov."
   ]
  },
  {
   "cell_type": "markdown",
   "metadata": {},
   "source": [
    "### 1.3.2 sex"
   ]
  },
  {
   "cell_type": "code",
   "execution_count": 124,
   "metadata": {},
   "outputs": [
    {
     "name": "stdout",
     "output_type": "stream",
     "text": [
      "Counter({' Male': 2651, ' Female': 1282})\n"
     ]
    },
    {
     "data": {
      "image/png": "[encoded data removed]",
      "text/plain": [
       "<Figure size 432x288 with 1 Axes>"
      ]
     },
     "metadata": {},
     "output_type": "display_data"
    }
   ],
   "source": [
    "#TODO: graf rozdelenia pohlavi subjekov\n",
    "count = Counter(personal.sex)\n",
    "df = pd.DataFrame.from_dict(count, orient='index')\n",
    "df.plot(kind='bar', legend = True)\n",
    "plt.title('Sex distribution', fontsize=20)\n",
    "plt.ylabel('Frequency')\n",
    "print(count)"
   ]
  },
  {
   "cell_type": "code",
   "execution_count": 125,
   "metadata": {},
   "outputs": [
    {
     "data": {
      "text/plain": [
       "array([' Male', ' Female'], dtype=object)"
      ]
     },
     "execution_count": 125,
     "metadata": {},
     "output_type": "execute_result"
    }
   ],
   "source": [
    "personal.sex.unique()"
   ]
  },
  {
   "cell_type": "code",
   "execution_count": 126,
   "metadata": {},
   "outputs": [
    {
     "data": {
      "text/plain": [
       "67.40401728960082"
      ]
     },
     "execution_count": 126,
     "metadata": {},
     "output_type": "execute_result"
    }
   ],
   "source": [
    "men_count = len(personal[(personal.sex == ' Male')])\n",
    "men_count / len(personal) * 100"
   ]
  },
  {
   "cell_type": "markdown",
   "metadata": {},
   "source": [
    "Môžeme vidieť, že mužov je približne 67%, čiže žien bude zvyšných 33%. <br />\n",
    "V atribúte 'sex' sa nachádzajú iba hodnoty 'Male' a 'Female', čiže netreba riešiť žiadne chýbajúce alebo odlišné hodnoty. Avšak obe hodnoty majú na začiatku zbytočnú medzeru, t.j. ' Male', ' Female'. Túto medzeru by bolo vhodné odstrániť."
   ]
  },
  {
   "cell_type": "code",
   "execution_count": 127,
   "metadata": {},
   "outputs": [],
   "source": [
    "# Odstránenie medzier spred hodnôt\n",
    "personal.sex = personal.sex.str.strip()"
   ]
  },
  {
   "cell_type": "markdown",
   "metadata": {},
   "source": [
    "### 1.3.3 date_of_birth"
   ]
  },
  {
   "cell_type": "code",
   "execution_count": 128,
   "metadata": {},
   "outputs": [
    {
     "data": {
      "text/plain": [
       "0     17/06/1965         \n",
       "1     1967-12-19         \n",
       "2     1954-06-27         \n",
       "3     1983-03-29         \n",
       "4     1988-11-29         \n",
       "5     1960-03-11         \n",
       "6     74-08-11           \n",
       "7     1957-12-17         \n",
       "8     1945-05-02 00 00 00\n",
       "9     1962-05-03 00:00:00\n",
       "10    1962-07-30         \n",
       "11    1954-10-11 00:00:00\n",
       "12    1948-12-06         \n",
       "13    1974-03-17         \n",
       "14    73-04-28           \n",
       "15    1976-04-29 00 00 00\n",
       "16    1977-06-17         \n",
       "17    1968-06-19         \n",
       "18    1963-03-24 00 00 00\n",
       "19    1962-11-18 00:00:00\n",
       "20    1950-09-11         \n",
       "21    1979-01-07         \n",
       "22    1954/10/18         \n",
       "23    1984-06-01         \n",
       "24    1957-08-02         \n",
       "25    1966-04-25         \n",
       "26    1965-07-26         \n",
       "27    1968-11-24 00 00 00\n",
       "28    1971-10-15         \n",
       "29    1967/01/08         \n",
       "Name: date_of_birth, dtype: object"
      ]
     },
     "execution_count": 128,
     "metadata": {},
     "output_type": "execute_result"
    }
   ],
   "source": [
    "personal['date_of_birth'].head(30)"
   ]
  },
  {
   "cell_type": "markdown",
   "metadata": {},
   "source": [
    "Z výpisu vyššie môžeme vidieť, že dataset obsahuje niekoľko rôznych formátov zápisu dátumov narodenia:\n",
    "* DD/MM/YYYY\n",
    "* YYYY-MM-DD\n",
    "* YY-MM-DD\n",
    "* YYYY-MM-DD hh:mm:ss\n",
    "* YYYY-MM-DD hh mm ss \n",
    "\n",
    "Bude potrebné zvoliť jednotný formát a tiež odstrániť časové zložky."
   ]
  },
  {
   "cell_type": "code",
   "execution_count": 129,
   "metadata": {},
   "outputs": [
    {
     "data": {
      "text/plain": [
       "498"
      ]
     },
     "execution_count": 129,
     "metadata": {},
     "output_type": "execute_result"
    }
   ],
   "source": [
    "len(personal[(personal['date_of_birth'].str.contains(' '))])"
   ]
  },
  {
   "cell_type": "markdown",
   "metadata": {},
   "source": [
    "Našli sme všetky záznamy obsahujúce časovú zložku v dátume narodenia. Ich počet je 498. Z týchto dátumov môžeme odstrániť všetky znaky za prvou medzerou (vrátane) - nakoľko môžeme vidieť, že vo formátoch sa medzera vyskytuje vždy až za dátumom narodenia."
   ]
  },
  {
   "cell_type": "code",
   "execution_count": 130,
   "metadata": {},
   "outputs": [],
   "source": [
    "#df['DOB1'] = df['DOB'].dt.strftime('%m/%d/%Y')\n",
    "#personal['date_of_birth'] = personal['date_of_birth'].dt.strftime('%d/%m/%Y')"
   ]
  },
  {
   "cell_type": "code",
   "execution_count": 131,
   "metadata": {},
   "outputs": [
    {
     "data": {
      "text/plain": [
       "0"
      ]
     },
     "execution_count": 131,
     "metadata": {},
     "output_type": "execute_result"
    }
   ],
   "source": [
    "# Odstránenie časových zložiek z dátumov narodenia\n",
    "personal['date_of_birth'] = personal['date_of_birth'].apply(lambda x: x.split(' ')[0])\n",
    "len(personal[(personal['date_of_birth'].str.contains(' '))])"
   ]
  },
  {
   "cell_type": "markdown",
   "metadata": {},
   "source": [
    "V ďalšej fáze projektu budeme všetky formáty dátumov konvertovať na jeden typ (DD/MM/YYYY)"
   ]
  },
  {
   "cell_type": "markdown",
   "metadata": {},
   "source": [
    "### 1.3.4 class"
   ]
  },
  {
   "cell_type": "code",
   "execution_count": 132,
   "metadata": {},
   "outputs": [
    {
     "data": {
      "text/plain": [
       "array([ 1.,  0., nan])"
      ]
     },
     "execution_count": 132,
     "metadata": {},
     "output_type": "execute_result"
    }
   ],
   "source": [
    "other['class'].unique()"
   ]
  },
  {
   "cell_type": "code",
   "execution_count": 133,
   "metadata": {},
   "outputs": [
    {
     "data": {
      "text/html": [
       "<div>\n",
       "<style scoped>\n",
       "    .dataframe tbody tr th:only-of-type {\n",
       "        vertical-align: middle;\n",
       "    }\n",
       "\n",
       "    .dataframe tbody tr th {\n",
       "        vertical-align: top;\n",
       "    }\n",
       "\n",
       "    .dataframe thead th {\n",
       "        text-align: right;\n",
       "    }\n",
       "</style>\n",
       "<table border=\"1\" class=\"dataframe\">\n",
       "  <thead>\n",
       "    <tr style=\"text-align: right;\">\n",
       "      <th></th>\n",
       "      <th>name</th>\n",
       "      <th>address</th>\n",
       "      <th>kurtosis_oxygen</th>\n",
       "      <th>occupation</th>\n",
       "      <th>marital-status</th>\n",
       "      <th>pregnant</th>\n",
       "      <th>education-num</th>\n",
       "      <th>relationship</th>\n",
       "      <th>std_oxygen</th>\n",
       "      <th>capital-gain</th>\n",
       "      <th>...</th>\n",
       "      <th>native-country</th>\n",
       "      <th>capital-loss</th>\n",
       "      <th>mean_oxygen</th>\n",
       "      <th>hours-per-week</th>\n",
       "      <th>race</th>\n",
       "      <th>workclass</th>\n",
       "      <th>mean_glucose</th>\n",
       "      <th>std_glucose</th>\n",
       "      <th>kurtosis_glucose</th>\n",
       "      <th>skewness_glucose</th>\n",
       "    </tr>\n",
       "  </thead>\n",
       "  <tbody>\n",
       "    <tr>\n",
       "      <td>101</td>\n",
       "      <td>Jesus Barnhill</td>\n",
       "      <td>6188 Jones Corners Suite 722\\r\\nMaryview, WV 66853</td>\n",
       "      <td>0.476516</td>\n",
       "      <td>Other-service</td>\n",
       "      <td>Never-married</td>\n",
       "      <td>f</td>\n",
       "      <td>-900.0</td>\n",
       "      <td>Own-child</td>\n",
       "      <td>93.174313</td>\n",
       "      <td>0.0</td>\n",
       "      <td>...</td>\n",
       "      <td>Puerto-Rico</td>\n",
       "      <td>0.0</td>\n",
       "      <td>86.353679</td>\n",
       "      <td>40.0</td>\n",
       "      <td>White</td>\n",
       "      <td>NaN</td>\n",
       "      <td>63.695312</td>\n",
       "      <td>31.297354</td>\n",
       "      <td>2.988502</td>\n",
       "      <td>15.509307</td>\n",
       "    </tr>\n",
       "    <tr>\n",
       "      <td>896</td>\n",
       "      <td>Rusty Thornton</td>\n",
       "      <td>036 Johnson Wells Suite 764\\r\\nEast Theresaville, GA 37735</td>\n",
       "      <td>6.300527</td>\n",
       "      <td>Other-service</td>\n",
       "      <td>Married-civ-spouse</td>\n",
       "      <td>f</td>\n",
       "      <td>10.0</td>\n",
       "      <td>Husband</td>\n",
       "      <td>NaN</td>\n",
       "      <td>NaN</td>\n",
       "      <td>...</td>\n",
       "      <td>United-States</td>\n",
       "      <td>0.0</td>\n",
       "      <td>4.484114</td>\n",
       "      <td>40.0</td>\n",
       "      <td>White</td>\n",
       "      <td>NaN</td>\n",
       "      <td>156.046875</td>\n",
       "      <td>60.136935</td>\n",
       "      <td>0.320961</td>\n",
       "      <td>0.632663</td>\n",
       "    </tr>\n",
       "    <tr>\n",
       "      <td>991</td>\n",
       "      <td>Steven Coon</td>\n",
       "      <td>5396 Kramer Common Apt. 129\\r\\nBlackburnshire, WV 26628</td>\n",
       "      <td>13.554053</td>\n",
       "      <td>Adm-clerical</td>\n",
       "      <td>Divorced</td>\n",
       "      <td>F</td>\n",
       "      <td>9.0</td>\n",
       "      <td>Unmarried</td>\n",
       "      <td>14.065352</td>\n",
       "      <td>0.0</td>\n",
       "      <td>...</td>\n",
       "      <td>United-States</td>\n",
       "      <td>0.0</td>\n",
       "      <td>1.348662</td>\n",
       "      <td>35.0</td>\n",
       "      <td>NaN</td>\n",
       "      <td>Private</td>\n",
       "      <td>112.062500</td>\n",
       "      <td>46.455077</td>\n",
       "      <td>0.293543</td>\n",
       "      <td>0.156486</td>\n",
       "    </tr>\n",
       "    <tr>\n",
       "      <td>1062</td>\n",
       "      <td>Larry Frazier</td>\n",
       "      <td>3383 Elizabeth Courts\\r\\nNew Chaseview, SD 21291</td>\n",
       "      <td>9.218707</td>\n",
       "      <td>Exec-managerial</td>\n",
       "      <td>Married-civ-spouse</td>\n",
       "      <td>f</td>\n",
       "      <td>13.0</td>\n",
       "      <td>Husband</td>\n",
       "      <td>16.987123</td>\n",
       "      <td>NaN</td>\n",
       "      <td>...</td>\n",
       "      <td>United-States</td>\n",
       "      <td>0.0</td>\n",
       "      <td>2.142977</td>\n",
       "      <td>50.0</td>\n",
       "      <td>White</td>\n",
       "      <td>Private</td>\n",
       "      <td>114.070312</td>\n",
       "      <td>49.162864</td>\n",
       "      <td>0.244839</td>\n",
       "      <td>0.190308</td>\n",
       "    </tr>\n",
       "    <tr>\n",
       "      <td>1216</td>\n",
       "      <td>Thomas Taylor</td>\n",
       "      <td>78667 Hernandez Mount\\r\\nClarkborough, WA 22409</td>\n",
       "      <td>-1.785377</td>\n",
       "      <td>NaN</td>\n",
       "      <td>Divorced</td>\n",
       "      <td>f</td>\n",
       "      <td>12.0</td>\n",
       "      <td>NaN</td>\n",
       "      <td>59.737720</td>\n",
       "      <td>4101.0</td>\n",
       "      <td>...</td>\n",
       "      <td>United-States</td>\n",
       "      <td>NaN</td>\n",
       "      <td>176.119565</td>\n",
       "      <td>40.0</td>\n",
       "      <td>White</td>\n",
       "      <td>Private</td>\n",
       "      <td>44.867188</td>\n",
       "      <td>45.693334</td>\n",
       "      <td>2.888739</td>\n",
       "      <td>8.810673</td>\n",
       "    </tr>\n",
       "    <tr>\n",
       "      <td>1680</td>\n",
       "      <td>Henry Glenn</td>\n",
       "      <td>6345 Deborah Keys Suite 890\\r\\nNorth Christopher, GA 56439</td>\n",
       "      <td>NaN</td>\n",
       "      <td>Exec-managerial</td>\n",
       "      <td>NaN</td>\n",
       "      <td>f</td>\n",
       "      <td>13.0</td>\n",
       "      <td>Unmarried</td>\n",
       "      <td>16.329097</td>\n",
       "      <td>0.0</td>\n",
       "      <td>...</td>\n",
       "      <td>United-States</td>\n",
       "      <td>0.0</td>\n",
       "      <td>2.720736</td>\n",
       "      <td>50.0</td>\n",
       "      <td>White</td>\n",
       "      <td>private</td>\n",
       "      <td>NaN</td>\n",
       "      <td>NaN</td>\n",
       "      <td>NaN</td>\n",
       "      <td>NaN</td>\n",
       "    </tr>\n",
       "    <tr>\n",
       "      <td>1841</td>\n",
       "      <td>Freddie Mederios</td>\n",
       "      <td>5604 Kara Plains Suite 644\\r\\nEast Timview, HI 79805</td>\n",
       "      <td>3.993995</td>\n",
       "      <td>Sales</td>\n",
       "      <td>Never-married</td>\n",
       "      <td>f</td>\n",
       "      <td>9.0</td>\n",
       "      <td>Own-child</td>\n",
       "      <td>42.661566</td>\n",
       "      <td>0.0</td>\n",
       "      <td>...</td>\n",
       "      <td>United-States</td>\n",
       "      <td>0.0</td>\n",
       "      <td>12.502508</td>\n",
       "      <td>40.0</td>\n",
       "      <td>White</td>\n",
       "      <td>Private</td>\n",
       "      <td>76.054688</td>\n",
       "      <td>60.412942</td>\n",
       "      <td>1.432917</td>\n",
       "      <td>0.936654</td>\n",
       "    </tr>\n",
       "    <tr>\n",
       "      <td>1886</td>\n",
       "      <td>Greg Spivey</td>\n",
       "      <td>756 Ramos Canyon\\r\\nLake Scottview, NH 28478</td>\n",
       "      <td>4.322444</td>\n",
       "      <td>NaN</td>\n",
       "      <td>Married-civ-spouse</td>\n",
       "      <td>NaN</td>\n",
       "      <td>11.0</td>\n",
       "      <td>Husband</td>\n",
       "      <td>43.980061</td>\n",
       "      <td>0.0</td>\n",
       "      <td>...</td>\n",
       "      <td>United-States</td>\n",
       "      <td>0.0</td>\n",
       "      <td>10.596154</td>\n",
       "      <td>40.0</td>\n",
       "      <td>NaN</td>\n",
       "      <td>Private</td>\n",
       "      <td>NaN</td>\n",
       "      <td>NaN</td>\n",
       "      <td>NaN</td>\n",
       "      <td>NaN</td>\n",
       "    </tr>\n",
       "    <tr>\n",
       "      <td>2602</td>\n",
       "      <td>Stacy Harriott</td>\n",
       "      <td>116 Rebecca Turnpike Apt. 663\\r\\nSimsland, NC 58407</td>\n",
       "      <td>10.049017</td>\n",
       "      <td>Sales</td>\n",
       "      <td>Divorced</td>\n",
       "      <td>f</td>\n",
       "      <td>9.0</td>\n",
       "      <td>NaN</td>\n",
       "      <td>16.740221</td>\n",
       "      <td>0.0</td>\n",
       "      <td>...</td>\n",
       "      <td>United-States</td>\n",
       "      <td>0.0</td>\n",
       "      <td>2.225753</td>\n",
       "      <td>NaN</td>\n",
       "      <td>White</td>\n",
       "      <td>NaN</td>\n",
       "      <td>122.546875</td>\n",
       "      <td>56.703568</td>\n",
       "      <td>0.067255</td>\n",
       "      <td>0.609780</td>\n",
       "    </tr>\n",
       "    <tr>\n",
       "      <td>3526</td>\n",
       "      <td>Walter Smith</td>\n",
       "      <td>00546 Stephanie Course\\r\\nEast Bryanhaven, KS 26304</td>\n",
       "      <td>7.337484</td>\n",
       "      <td>Prof-specialty</td>\n",
       "      <td>NaN</td>\n",
       "      <td>f</td>\n",
       "      <td>13.0</td>\n",
       "      <td>Unmarried</td>\n",
       "      <td>21.531941</td>\n",
       "      <td>0.0</td>\n",
       "      <td>...</td>\n",
       "      <td>United-States</td>\n",
       "      <td>0.0</td>\n",
       "      <td>3.510033</td>\n",
       "      <td>40.0</td>\n",
       "      <td>White</td>\n",
       "      <td>private</td>\n",
       "      <td>106.945312</td>\n",
       "      <td>47.051220</td>\n",
       "      <td>0.153808</td>\n",
       "      <td>0.336252</td>\n",
       "    </tr>\n",
       "    <tr>\n",
       "      <td>3698</td>\n",
       "      <td>Edgar Holbrook</td>\n",
       "      <td>902 Figueroa Fields Suite 708\\r\\nDavishaven, OK 14930</td>\n",
       "      <td>0.200295</td>\n",
       "      <td>Craft-repair</td>\n",
       "      <td>Married-civ-spouse</td>\n",
       "      <td>f</td>\n",
       "      <td>10.0</td>\n",
       "      <td>Husband</td>\n",
       "      <td>58.547178</td>\n",
       "      <td>0.0</td>\n",
       "      <td>...</td>\n",
       "      <td>United-States</td>\n",
       "      <td>0.0</td>\n",
       "      <td>111.865385</td>\n",
       "      <td>40.0</td>\n",
       "      <td>White</td>\n",
       "      <td>Self-emp-not-inc</td>\n",
       "      <td>15.835938</td>\n",
       "      <td>35.206040</td>\n",
       "      <td>5.451733</td>\n",
       "      <td>30.604459</td>\n",
       "    </tr>\n",
       "  </tbody>\n",
       "</table>\n",
       "<p>11 rows × 25 columns</p>\n",
       "</div>"
      ],
      "text/plain": [
       "                  name  \\\n",
       "101   Jesus Barnhill     \n",
       "896   Rusty Thornton     \n",
       "991   Steven Coon        \n",
       "1062  Larry Frazier      \n",
       "1216  Thomas Taylor      \n",
       "1680  Henry Glenn        \n",
       "1841  Freddie Mederios   \n",
       "1886  Greg Spivey        \n",
       "2602  Stacy Harriott     \n",
       "3526  Walter Smith       \n",
       "3698  Edgar Holbrook     \n",
       "\n",
       "                                                         address  \\\n",
       "101   6188 Jones Corners Suite 722\\r\\nMaryview, WV 66853           \n",
       "896   036 Johnson Wells Suite 764\\r\\nEast Theresaville, GA 37735   \n",
       "991   5396 Kramer Common Apt. 129\\r\\nBlackburnshire, WV 26628      \n",
       "1062  3383 Elizabeth Courts\\r\\nNew Chaseview, SD 21291             \n",
       "1216  78667 Hernandez Mount\\r\\nClarkborough, WA 22409              \n",
       "1680  6345 Deborah Keys Suite 890\\r\\nNorth Christopher, GA 56439   \n",
       "1841  5604 Kara Plains Suite 644\\r\\nEast Timview, HI 79805         \n",
       "1886  756 Ramos Canyon\\r\\nLake Scottview, NH 28478                 \n",
       "2602  116 Rebecca Turnpike Apt. 663\\r\\nSimsland, NC 58407          \n",
       "3526  00546 Stephanie Course\\r\\nEast Bryanhaven, KS 26304          \n",
       "3698  902 Figueroa Fields Suite 708\\r\\nDavishaven, OK 14930        \n",
       "\n",
       "      kurtosis_oxygen        occupation       marital-status pregnant  \\\n",
       "101   0.476516          Other-service     Never-married       f         \n",
       "896   6.300527          Other-service     Married-civ-spouse  f         \n",
       "991   13.554053         Adm-clerical      Divorced            F         \n",
       "1062  9.218707          Exec-managerial   Married-civ-spouse  f         \n",
       "1216 -1.785377         NaN                Divorced            f         \n",
       "1680 NaN                Exec-managerial  NaN                  f         \n",
       "1841  3.993995          Sales             Never-married       f         \n",
       "1886  4.322444         NaN                Married-civ-spouse  NaN       \n",
       "2602  10.049017         Sales             Divorced            f         \n",
       "3526  7.337484          Prof-specialty   NaN                  f         \n",
       "3698  0.200295          Craft-repair      Married-civ-spouse  f         \n",
       "\n",
       "      education-num relationship  std_oxygen  capital-gain  ...  \\\n",
       "101  -900.0           Own-child   93.174313   0.0           ...   \n",
       "896   10.0            Husband    NaN         NaN            ...   \n",
       "991   9.0             Unmarried   14.065352   0.0           ...   \n",
       "1062  13.0            Husband     16.987123  NaN            ...   \n",
       "1216  12.0           NaN          59.737720   4101.0        ...   \n",
       "1680  13.0            Unmarried   16.329097   0.0           ...   \n",
       "1841  9.0             Own-child   42.661566   0.0           ...   \n",
       "1886  11.0            Husband     43.980061   0.0           ...   \n",
       "2602  9.0            NaN          16.740221   0.0           ...   \n",
       "3526  13.0            Unmarried   21.531941   0.0           ...   \n",
       "3698  10.0            Husband     58.547178   0.0           ...   \n",
       "\n",
       "      native-country capital-loss  mean_oxygen  hours-per-week    race  \\\n",
       "101    Puerto-Rico    0.0          86.353679    40.0             White   \n",
       "896    United-States  0.0          4.484114     40.0             White   \n",
       "991    United-States  0.0          1.348662     35.0            NaN      \n",
       "1062   United-States  0.0          2.142977     50.0             White   \n",
       "1216   United-States NaN           176.119565   40.0             White   \n",
       "1680   United-States  0.0          2.720736     50.0             White   \n",
       "1841   United-States  0.0          12.502508    40.0             White   \n",
       "1886   United-States  0.0          10.596154    40.0            NaN      \n",
       "2602   United-States  0.0          2.225753    NaN               White   \n",
       "3526   United-States  0.0          3.510033     40.0             White   \n",
       "3698   United-States  0.0          111.865385   40.0             White   \n",
       "\n",
       "              workclass  mean_glucose  std_glucose  kurtosis_glucose  \\\n",
       "101   NaN                63.695312     31.297354    2.988502           \n",
       "896   NaN                156.046875    60.136935    0.320961           \n",
       "991    Private           112.062500    46.455077    0.293543           \n",
       "1062   Private           114.070312    49.162864    0.244839           \n",
       "1216   Private           44.867188     45.693334    2.888739           \n",
       "1680  private           NaN           NaN          NaN                 \n",
       "1841   Private           76.054688     60.412942    1.432917           \n",
       "1886   Private          NaN           NaN          NaN                 \n",
       "2602  NaN                122.546875    56.703568    0.067255           \n",
       "3526  private            106.945312    47.051220    0.153808           \n",
       "3698   Self-emp-not-inc  15.835938     35.206040    5.451733           \n",
       "\n",
       "     skewness_glucose  \n",
       "101   15.509307        \n",
       "896   0.632663         \n",
       "991   0.156486         \n",
       "1062  0.190308         \n",
       "1216  8.810673         \n",
       "1680 NaN               \n",
       "1841  0.936654         \n",
       "1886 NaN               \n",
       "2602  0.609780         \n",
       "3526  0.336252         \n",
       "3698  30.604459        \n",
       "\n",
       "[11 rows x 25 columns]"
      ]
     },
     "execution_count": 133,
     "metadata": {},
     "output_type": "execute_result"
    }
   ],
   "source": [
    "other[(other[\"class\"] != 1) & (other[\"class\"] != 0)]"
   ]
  },
  {
   "cell_type": "markdown",
   "metadata": {},
   "source": [
    "V niektorych zaznamoch nemáme zapísane, či má pacient cukrovku alebo nie. Tieto záznamy sú pre naše zadanie v podstate zbytočné, pretože neobsahujú predikovanú hodnotu. Môžeme si však zatiaľ ponechať tie, ktoré majú ostatné atribúty v poriadku. Môžu nám spresniť výpočty priemeru, mediánu atď. "
   ]
  },
  {
   "cell_type": "code",
   "execution_count": 134,
   "metadata": {},
   "outputs": [
    {
     "name": "stdout",
     "output_type": "stream",
     "text": [
      "Counter({0.0: 2958, 1.0: 1014})\n"
     ]
    },
    {
     "data": {
      "image/png": "[encoded data removed]",
      "text/plain": [
       "<Figure size 432x288 with 1 Axes>"
      ]
     },
     "metadata": {},
     "output_type": "display_data"
    }
   ],
   "source": [
    "df = other[(other[\"class\"] == 1) | (other[\"class\"] == 0)][\"class\"]\n",
    "count = Counter(df)\n",
    "df = pd.DataFrame.from_dict(count, orient='index')\n",
    "ax = df.plot(kind='bar', legend = True, color = \"orange\")\n",
    "print(count)"
   ]
  },
  {
   "cell_type": "code",
   "execution_count": 135,
   "metadata": {
    "scrolled": false
   },
   "outputs": [
    {
     "data": {
      "text/plain": [
       "25.528700906344408"
      ]
     },
     "execution_count": 135,
     "metadata": {},
     "output_type": "execute_result"
    }
   ],
   "source": [
    "diabetes_count = len(other[(other['class'] == 1)])\n",
    "diabetes_count / len(other[pd.notnull(other['class'])]) * 100\n",
    "#diabetes_count / len(other) * 100"
   ]
  },
  {
   "cell_type": "markdown",
   "metadata": {},
   "source": [
    "Približne 25.53% ľudí má cukrovku. Zvyšných 74.47% cukrovku nemajú. Ľudia, ktorí nemajú zadanú hodnotu class nie sú do percentuálneho podielu započítaní."
   ]
  },
  {
   "cell_type": "code",
   "execution_count": 136,
   "metadata": {},
   "outputs": [
    {
     "data": {
      "text/plain": [
       "11"
      ]
     },
     "execution_count": 136,
     "metadata": {},
     "output_type": "execute_result"
    }
   ],
   "source": [
    "len(other[pd.isnull(other['class'])])"
   ]
  },
  {
   "cell_type": "markdown",
   "metadata": {},
   "source": [
    "11 záznamov nemá určenú hodnotu class. Tieto záznamy pre nás v podstate strácajú význam a budú sa v dalšej fáze projektu odstraňovať."
   ]
  },
  {
   "cell_type": "markdown",
   "metadata": {},
   "source": [
    "### 1.3.5 mean_oxygen"
   ]
  },
  {
   "cell_type": "code",
   "execution_count": 137,
   "metadata": {},
   "outputs": [
    {
     "data": {
      "text/plain": [
       "Text(0.5, 12.5, 'mean_oxygen')"
      ]
     },
     "execution_count": 137,
     "metadata": {},
     "output_type": "execute_result"
    },
    {
     "data": {
      "image/png": "[encoded data removed]",
      "text/plain": [
       "<Figure size 432x288 with 2 Axes>"
      ]
     },
     "metadata": {},
     "output_type": "display_data"
    }
   ],
   "source": [
    "fig, ax = plt.subplots(1,2)\n",
    "fig.tight_layout()\n",
    "sns.distplot(other['mean_oxygen'].dropna(),bins=None, kde=False, color = \"red\", ax=ax[0])\n",
    "ax[0].set_title('Distribution', fontsize = 20)\n",
    "ax[0].set_xlabel('mean_oxygen')\n",
    "ax[0].set_ylabel('Frequency')\n",
    "sns.distplot(other['mean_oxygen'].dropna(),bins=None, hist=False, color = \"blue\", ax=ax[1])\n",
    "ax[1].set_title('Estimation', fontsize = 20)\n",
    "ax[1].set_xlabel('mean_oxygen')"
   ]
  },
  {
   "cell_type": "code",
   "execution_count": 138,
   "metadata": {},
   "outputs": [
    {
     "data": {
      "text/plain": [
       "count    3972.000000\n",
       "mean     18.504313  \n",
       "std      34.837091  \n",
       "min      0.213211   \n",
       "25%      2.069189   \n",
       "50%      3.234532   \n",
       "75%      12.619983  \n",
       "max      217.371238 \n",
       "Name: mean_oxygen, dtype: float64"
      ]
     },
     "execution_count": 138,
     "metadata": {},
     "output_type": "execute_result"
    }
   ],
   "source": [
    "other.describe()[\"mean_oxygen\"]"
   ]
  },
  {
   "cell_type": "markdown",
   "metadata": {},
   "source": [
    "V deskriptívnej štatistike vidíme, že minimálna a maximálna hodnota tohoto atribútu sa drasticky líšia. Pravdepodobne to znamená, že hodnota je zaznamenaná vo viacerých mierkach. Bude preto potrebné ju konvertovať na jednotnú mierku."
   ]
  },
  {
   "cell_type": "markdown",
   "metadata": {},
   "source": [
    "### 1.3.6 std_oxygen"
   ]
  },
  {
   "cell_type": "code",
   "execution_count": 139,
   "metadata": {},
   "outputs": [
    {
     "data": {
      "text/plain": [
       "Text(0.5, 12.5, 'std_oxygen')"
      ]
     },
     "execution_count": 139,
     "metadata": {},
     "output_type": "execute_result"
    },
    {
     "data": {
      "image/png": "[encoded data removed]",
      "text/plain": [
       "<Figure size 432x288 with 2 Axes>"
      ]
     },
     "metadata": {},
     "output_type": "display_data"
    }
   ],
   "source": [
    "fig, ax = plt.subplots(1,2)\n",
    "fig.tight_layout()\n",
    "sns.distplot(other['std_oxygen'].dropna(),bins=None, kde=False, color = \"red\", ax=ax[0])\n",
    "ax[0].set_title('Distribution', fontsize = 20)\n",
    "ax[0].set_xlabel('std_oxygen')\n",
    "ax[0].set_ylabel('Frequency')\n",
    "sns.distplot(other['std_oxygen'].dropna(),bins=None, hist=False, color = \"blue\", ax=ax[1])\n",
    "ax[1].set_title('Estimation', fontsize = 20)\n",
    "ax[1].set_xlabel('std_oxygen')"
   ]
  },
  {
   "cell_type": "code",
   "execution_count": 140,
   "metadata": {},
   "outputs": [
    {
     "data": {
      "text/plain": [
       "count    3968.000000\n",
       "mean     31.158976  \n",
       "std      22.265708  \n",
       "min      7.370432   \n",
       "25%      15.064858  \n",
       "50%      20.579902  \n",
       "75%      43.229414  \n",
       "max      110.642211 \n",
       "Name: std_oxygen, dtype: float64"
      ]
     },
     "execution_count": 140,
     "metadata": {},
     "output_type": "execute_result"
    }
   ],
   "source": [
    "other.describe()[\"std_oxygen\"]"
   ]
  },
  {
   "cell_type": "markdown",
   "metadata": {},
   "source": [
    "### 1.3.7 kurtosis_oxygen"
   ]
  },
  {
   "cell_type": "code",
   "execution_count": 141,
   "metadata": {},
   "outputs": [
    {
     "data": {
      "text/plain": [
       "Text(0.5, 12.5, 'kurtosis_oxygen')"
      ]
     },
     "execution_count": 141,
     "metadata": {},
     "output_type": "execute_result"
    },
    {
     "data": {
      "image/png": "[encoded data removed]",
      "text/plain": [
       "<Figure size 432x288 with 2 Axes>"
      ]
     },
     "metadata": {},
     "output_type": "display_data"
    }
   ],
   "source": [
    "fig, ax = plt.subplots(1,2)\n",
    "fig.tight_layout()\n",
    "sns.distplot(other['kurtosis_oxygen'].dropna(),bins=None, kde=False, color = \"red\", ax=ax[0])\n",
    "ax[0].set_title('Distribution', fontsize = 20)\n",
    "ax[0].set_xlabel('kurtosis_oxygen')\n",
    "ax[0].set_ylabel('Frequency')\n",
    "sns.distplot(other['kurtosis_oxygen'].dropna(),bins=None, hist=False, color = \"blue\", ax=ax[1])\n",
    "ax[1].set_title('Estimation', fontsize = 20)\n",
    "ax[1].set_xlabel('kurtosis_oxygen')"
   ]
  },
  {
   "cell_type": "code",
   "execution_count": 142,
   "metadata": {},
   "outputs": [
    {
     "data": {
      "text/plain": [
       "count    3969.000000\n",
       "mean     7.423042   \n",
       "std      4.846216   \n",
       "min     -2.597872   \n",
       "25%      3.637833   \n",
       "50%      7.781618   \n",
       "75%      10.259075  \n",
       "max      34.539844  \n",
       "Name: kurtosis_oxygen, dtype: float64"
      ]
     },
     "execution_count": 142,
     "metadata": {},
     "output_type": "execute_result"
    }
   ],
   "source": [
    "other.describe()[\"kurtosis_oxygen\"]"
   ]
  },
  {
   "cell_type": "markdown",
   "metadata": {},
   "source": [
    "### 1.3.8 skewness_oxygen"
   ]
  },
  {
   "cell_type": "code",
   "execution_count": 143,
   "metadata": {},
   "outputs": [
    {
     "data": {
      "text/plain": [
       "Text(0.5, 12.5, 'skewness_oxygen')"
      ]
     },
     "execution_count": 143,
     "metadata": {},
     "output_type": "execute_result"
    },
    {
     "data": {
      "image/png": "[encoded data removed]",
      "text/plain": [
       "<Figure size 432x288 with 2 Axes>"
      ]
     },
     "metadata": {},
     "output_type": "display_data"
    }
   ],
   "source": [
    "fig, ax = plt.subplots(1,2)\n",
    "fig.tight_layout()\n",
    "sns.distplot(other['skewness_oxygen'].dropna(),bins=None, kde=False, color = \"red\", ax=ax[0])\n",
    "ax[0].set_title('Distribution', fontsize = 20)\n",
    "ax[0].set_xlabel('skewness_oxygen')\n",
    "ax[0].set_ylabel('Frequency')\n",
    "sns.distplot(other['skewness_oxygen'].dropna(),bins=None, hist=False, color = \"blue\", ax=ax[1])\n",
    "ax[1].set_title('Estimation', fontsize = 20)\n",
    "ax[1].set_xlabel('skewness_oxygen')"
   ]
  },
  {
   "cell_type": "code",
   "execution_count": 144,
   "metadata": {},
   "outputs": [
    {
     "data": {
      "text/plain": [
       "count    3964.000000\n",
       "mean     91.795908  \n",
       "std      110.770563 \n",
       "min     -1.976976   \n",
       "25%      12.966818  \n",
       "50%      68.623477  \n",
       "75%      126.894595 \n",
       "max      1191.000837\n",
       "Name: skewness_oxygen, dtype: float64"
      ]
     },
     "execution_count": 144,
     "metadata": {},
     "output_type": "execute_result"
    }
   ],
   "source": [
    "other.describe()[\"skewness_oxygen\"]"
   ]
  },
  {
   "cell_type": "markdown",
   "metadata": {},
   "source": [
    "### 1.3.9 mean_glucose"
   ]
  },
  {
   "cell_type": "code",
   "execution_count": 145,
   "metadata": {},
   "outputs": [
    {
     "data": {
      "text/plain": [
       "Text(0.5, 12.5, 'mean_glucose')"
      ]
     },
     "execution_count": 145,
     "metadata": {},
     "output_type": "execute_result"
    },
    {
     "data": {
      "image/png": "[encoded data removed]",
      "text/plain": [
       "<Figure size 432x288 with 2 Axes>"
      ]
     },
     "metadata": {},
     "output_type": "display_data"
    }
   ],
   "source": [
    "fig, ax = plt.subplots(1,2)\n",
    "fig.tight_layout()\n",
    "sns.distplot(other['mean_glucose'].dropna(),bins=None, kde=False, color = \"red\", ax=ax[0])\n",
    "ax[0].set_title('Distribution', fontsize = 20)\n",
    "ax[0].set_xlabel('mean_glucose')\n",
    "ax[0].set_ylabel('Frequency')\n",
    "sns.distplot(other['mean_glucose'].dropna(),bins=None, hist=False, color = \"blue\", ax=ax[1])\n",
    "ax[1].set_title('Estimation', fontsize = 20)\n",
    "ax[1].set_xlabel('mean_glucose')"
   ]
  },
  {
   "cell_type": "code",
   "execution_count": 146,
   "metadata": {},
   "outputs": [
    {
     "data": {
      "text/plain": [
       "count    3966.000000\n",
       "mean     101.214367 \n",
       "std      33.597457  \n",
       "min      6.187500   \n",
       "25%      87.736328  \n",
       "50%      110.613281 \n",
       "75%      124.115234 \n",
       "max      189.734375 \n",
       "Name: mean_glucose, dtype: float64"
      ]
     },
     "execution_count": 146,
     "metadata": {},
     "output_type": "execute_result"
    }
   ],
   "source": [
    "other.describe()[\"mean_glucose\"]"
   ]
  },
  {
   "cell_type": "markdown",
   "metadata": {},
   "source": [
    "Hodnota glukózy v krvi zvykne normálne byť zadaná v desiatkach, nie v stovkách ako je to v našom datasete. Bude preto potrebné konvertovať tieto dáta na jednotnú mierku. "
   ]
  },
  {
   "cell_type": "markdown",
   "metadata": {},
   "source": [
    "### 1.3.10 std_glucose"
   ]
  },
  {
   "cell_type": "code",
   "execution_count": 147,
   "metadata": {},
   "outputs": [
    {
     "data": {
      "text/plain": [
       "Text(0.5, 12.5, 'std_glucose')"
      ]
     },
     "execution_count": 147,
     "metadata": {},
     "output_type": "execute_result"
    },
    {
     "data": {
      "image/png": "[encoded data removed]",
      "text/plain": [
       "<Figure size 432x288 with 2 Axes>"
      ]
     },
     "metadata": {},
     "output_type": "display_data"
    }
   ],
   "source": [
    "fig, ax = plt.subplots(1,2)\n",
    "fig.tight_layout()\n",
    "sns.distplot(other['std_glucose'].dropna(),bins=None, kde=False, color = \"red\", ax=ax[0])\n",
    "ax[0].set_title('Distribution', fontsize = 20)\n",
    "ax[0].set_xlabel('std_glucose')\n",
    "ax[0].set_ylabel('Frequency')\n",
    "sns.distplot(other['std_glucose'].dropna(),bins=None, hist=False, color = \"blue\", ax=ax[1])\n",
    "ax[1].set_title('Estimation', fontsize = 20)\n",
    "ax[1].set_xlabel('std_glucose')"
   ]
  },
  {
   "cell_type": "code",
   "execution_count": 148,
   "metadata": {},
   "outputs": [
    {
     "data": {
      "text/plain": [
       "count    3966.000000\n",
       "mean     45.169444  \n",
       "std      7.629204   \n",
       "min      25.695250  \n",
       "25%      40.128532  \n",
       "50%      45.878359  \n",
       "75%      50.369118  \n",
       "max      91.206475  \n",
       "Name: std_glucose, dtype: float64"
      ]
     },
     "execution_count": 148,
     "metadata": {},
     "output_type": "execute_result"
    }
   ],
   "source": [
    "other.describe()[\"std_glucose\"]"
   ]
  },
  {
   "cell_type": "markdown",
   "metadata": {},
   "source": [
    "### 1.3.11 kurtosis_glucose"
   ]
  },
  {
   "cell_type": "code",
   "execution_count": 149,
   "metadata": {},
   "outputs": [
    {
     "data": {
      "text/plain": [
       "Text(0.5, 12.5, 'kurtosis_glucose')"
      ]
     },
     "execution_count": 149,
     "metadata": {},
     "output_type": "execute_result"
    },
    {
     "data": {
      "image/png": "[encoded data removed]",
      "text/plain": [
       "<Figure size 432x288 with 2 Axes>"
      ]
     },
     "metadata": {},
     "output_type": "display_data"
    }
   ],
   "source": [
    "fig, ax = plt.subplots(1,2)\n",
    "fig.tight_layout()\n",
    "sns.distplot(other['kurtosis_glucose'].dropna(),bins=None, kde=False, color = \"red\", ax=ax[0])\n",
    "ax[0].set_title('Distribution', fontsize = 20)\n",
    "ax[0].set_xlabel('kurtosis_glucose')\n",
    "ax[0].set_ylabel('Frequency')\n",
    "sns.distplot(other['kurtosis_glucose'].dropna(),bins=None, hist=False, color = \"blue\", ax=ax[1])\n",
    "ax[1].set_title('Estimation', fontsize = 20)\n",
    "ax[1].set_xlabel('kurtosis_glucose')"
   ]
  },
  {
   "cell_type": "code",
   "execution_count": 150,
   "metadata": {},
   "outputs": [
    {
     "data": {
      "text/plain": [
       "count    3966.000000\n",
       "mean     1.012966   \n",
       "std      1.580512   \n",
       "min      0.000154   \n",
       "25%      0.141444   \n",
       "50%      0.331311   \n",
       "75%      0.811816   \n",
       "max      8.069522   \n",
       "Name: kurtosis_glucose, dtype: float64"
      ]
     },
     "execution_count": 150,
     "metadata": {},
     "output_type": "execute_result"
    }
   ],
   "source": [
    "other.describe()[\"kurtosis_glucose\"]"
   ]
  },
  {
   "cell_type": "markdown",
   "metadata": {},
   "source": [
    "### 1.3.12 skewness_glucose"
   ]
  },
  {
   "cell_type": "code",
   "execution_count": 151,
   "metadata": {},
   "outputs": [
    {
     "data": {
      "text/plain": [
       "Text(0.5, 12.5, 'skewness_glucose')"
      ]
     },
     "execution_count": 151,
     "metadata": {},
     "output_type": "execute_result"
    },
    {
     "data": {
      "image/png": "[encoded data removed]",
      "text/plain": [
       "<Figure size 432x288 with 2 Axes>"
      ]
     },
     "metadata": {},
     "output_type": "display_data"
    }
   ],
   "source": [
    "fig, ax = plt.subplots(1,2)\n",
    "fig.tight_layout()\n",
    "sns.distplot(other['skewness_glucose'].dropna(),bins=None, kde=False, color = \"red\", ax=ax[0])\n",
    "ax[0].set_title('Distribution', fontsize = 20)\n",
    "ax[0].set_xlabel('skewness_glucose')\n",
    "ax[0].set_ylabel('Frequency')\n",
    "sns.distplot(other['skewness_glucose'].dropna(),bins=None, hist=False, color = \"blue\", ax=ax[1])\n",
    "ax[1].set_title('Estimation', fontsize = 20)\n",
    "ax[1].set_xlabel('skewness_glucose')"
   ]
  },
  {
   "cell_type": "code",
   "execution_count": 152,
   "metadata": {},
   "outputs": [
    {
     "data": {
      "text/plain": [
       "count    3966.000000\n",
       "mean     4.440400   \n",
       "std      9.647700   \n",
       "min      0.000108   \n",
       "25%      0.229751   \n",
       "50%      0.526528   \n",
       "75%      2.088449   \n",
       "max      68.101622  \n",
       "Name: skewness_glucose, dtype: float64"
      ]
     },
     "execution_count": 152,
     "metadata": {},
     "output_type": "execute_result"
    }
   ],
   "source": [
    "other.describe()[\"skewness_glucose\"]"
   ]
  },
  {
   "cell_type": "markdown",
   "metadata": {},
   "source": [
    "# 2. Párová analýza"
   ]
  },
  {
   "cell_type": "markdown",
   "metadata": {},
   "source": [
    "## 2.1 Porovnanie distribúcií atribútov pri ľudoch s a bez ochorenia\n",
    "Teraz by sme potrebovali zistiť, ako vyzerajú hodnoty týchto atribútov pri ľudoch s cukrovkou a ľudoch bez tohoto ochorenia. Červeným sú označení ľudia, ktorým bola diagnostikovaná cukrovka, zeleným sú ľudia ktorí toto ochorenie nemajú."
   ]
  },
  {
   "cell_type": "markdown",
   "metadata": {},
   "source": [
    "### 2.1.1 mean_glucose"
   ]
  },
  {
   "cell_type": "code",
   "execution_count": 153,
   "metadata": {},
   "outputs": [
    {
     "data": {
      "text/plain": [
       "Text(0.5, 1, 'class = 0')"
      ]
     },
     "execution_count": 153,
     "metadata": {},
     "output_type": "execute_result"
    },
    {
     "data": {
      "image/png": "[encoded data removed]",
      "text/plain": [
       "<Figure size 432x288 with 2 Axes>"
      ]
     },
     "metadata": {},
     "output_type": "display_data"
    }
   ],
   "source": [
    "fig, ax=plt.subplots(1,2)\n",
    "fig.tight_layout()\n",
    "sns.distplot(other[other[\"class\"]== 1]['mean_glucose'].dropna(),bins=None, color = \"red\", ax = ax[0])\n",
    "sns.distplot(other[other[\"class\"]== 0]['mean_glucose'].dropna(),bins=None, color = \"green\", ax = ax[1])\n",
    "ax[0].set_title('class = 1', fontsize=15)\n",
    "ax[1].set_title('class = 0', fontsize=15)"
   ]
  },
  {
   "cell_type": "markdown",
   "metadata": {},
   "source": [
    "### 2.1.2 std_glucose"
   ]
  },
  {
   "cell_type": "code",
   "execution_count": 154,
   "metadata": {},
   "outputs": [
    {
     "data": {
      "text/plain": [
       "Text(0.5, 1, 'class = 0')"
      ]
     },
     "execution_count": 154,
     "metadata": {},
     "output_type": "execute_result"
    },
    {
     "data": {
      "image/png": "[encoded data removed]",
      "text/plain": [
       "<Figure size 432x288 with 2 Axes>"
      ]
     },
     "metadata": {},
     "output_type": "display_data"
    }
   ],
   "source": [
    "fig, ax=plt.subplots(1,2)\n",
    "fig.tight_layout()\n",
    "sns.distplot(other[other[\"class\"]== 1]['std_glucose'].dropna(),bins=None, color = \"red\", ax = ax[0])\n",
    "sns.distplot(other[other[\"class\"]== 0]['std_glucose'].dropna(),bins=None, color = \"green\", ax = ax[1])\n",
    "ax[0].set_title('class = 1', fontsize=15)\n",
    "ax[1].set_title('class = 0', fontsize=15)"
   ]
  },
  {
   "cell_type": "markdown",
   "metadata": {},
   "source": [
    "### 2.1.3 mean_oxygen"
   ]
  },
  {
   "cell_type": "code",
   "execution_count": 155,
   "metadata": {},
   "outputs": [
    {
     "data": {
      "text/plain": [
       "Text(0.5, 1, 'class = 0')"
      ]
     },
     "execution_count": 155,
     "metadata": {},
     "output_type": "execute_result"
    },
    {
     "data": {
      "image/png": "[encoded data removed]",
      "text/plain": [
       "<Figure size 432x288 with 2 Axes>"
      ]
     },
     "metadata": {},
     "output_type": "display_data"
    }
   ],
   "source": [
    "fig, ax=plt.subplots(1,2)\n",
    "fig.tight_layout()\n",
    "sns.distplot(other[other[\"class\"]== 1]['mean_oxygen'].dropna(),bins=None, color = \"red\", ax = ax[0])\n",
    "sns.distplot(other[other[\"class\"]== 0]['mean_oxygen'].dropna(),bins=None, color = \"green\", ax = ax[1])\n",
    "ax[0].set_title('class = 1', fontsize=15)\n",
    "ax[1].set_title('class = 0', fontsize=15)"
   ]
  },
  {
   "cell_type": "markdown",
   "metadata": {},
   "source": [
    "### 2.1.4 std_oxygen"
   ]
  },
  {
   "cell_type": "code",
   "execution_count": 156,
   "metadata": {},
   "outputs": [
    {
     "data": {
      "text/plain": [
       "Text(0.5, 1, 'class = 0')"
      ]
     },
     "execution_count": 156,
     "metadata": {},
     "output_type": "execute_result"
    },
    {
     "data": {
      "image/png": "[encoded data removed]",
      "text/plain": [
       "<Figure size 432x288 with 2 Axes>"
      ]
     },
     "metadata": {},
     "output_type": "display_data"
    }
   ],
   "source": [
    "fig, ax=plt.subplots(1,2)\n",
    "fig.tight_layout()\n",
    "sns.distplot(other[other[\"class\"]== 1]['std_oxygen'].dropna(),bins=None, color = \"red\", ax = ax[0])\n",
    "sns.distplot(other[other[\"class\"]== 0]['std_oxygen'].dropna(),bins=None, color = \"green\", ax = ax[1])\n",
    "ax[0].set_title('class = 1', fontsize=15)\n",
    "ax[1].set_title('class = 0', fontsize=15)"
   ]
  },
  {
   "cell_type": "markdown",
   "metadata": {},
   "source": [
    "## 2.2 Korelácie\n",
    "\n",
    "O koreláciách dvoch premenných vieme povedať, že ak hodnota korelácie sa blíži k 1, hodnoty sú priamo závislé. Naopak, ak sa hodnota korelácie blíži k -1, hodnoty sú závislé nepriamo. Hodnoty korelácie okolo 0 znamenajú, že hodnoty nie sú závislé a hodnoty medzi 0.5 a -0.5 môžu znamenať náhodné závislosti.\n",
    "\n",
    "Korelácie budeme vykreslovať pomocou scatterplotu, na základe ktorého môžeme vizualizovať závislosti medzi zvolenými atribútmi - atribúty, ktoré silno korelujú sa budú prirodzene zhlukovať."
   ]
  },
  {
   "cell_type": "markdown",
   "metadata": {},
   "source": [
    "### 2.2.1 korelačná matica"
   ]
  },
  {
   "cell_type": "code",
   "execution_count": 157,
   "metadata": {},
   "outputs": [
    {
     "data": {
      "text/html": [
       "<style  type=\"text/css\" >\n",
       "    #T_63ae72e6_0d06_11ea_b729_f01faf02c4b2row0_col0 {\n",
       "            background-color:  #b40426;\n",
       "            color:  #f1f1f1;\n",
       "        }    #T_63ae72e6_0d06_11ea_b729_f01faf02c4b2row0_col1 {\n",
       "            background-color:  #4257c9;\n",
       "            color:  #f1f1f1;\n",
       "        }    #T_63ae72e6_0d06_11ea_b729_f01faf02c4b2row0_col2 {\n",
       "            background-color:  #3b4cc0;\n",
       "            color:  #f1f1f1;\n",
       "        }    #T_63ae72e6_0d06_11ea_b729_f01faf02c4b2row0_col3 {\n",
       "            background-color:  #4055c8;\n",
       "            color:  #f1f1f1;\n",
       "        }    #T_63ae72e6_0d06_11ea_b729_f01faf02c4b2row0_col4 {\n",
       "            background-color:  #c73635;\n",
       "            color:  #f1f1f1;\n",
       "        }    #T_63ae72e6_0d06_11ea_b729_f01faf02c4b2row0_col5 {\n",
       "            background-color:  #4055c8;\n",
       "            color:  #f1f1f1;\n",
       "        }    #T_63ae72e6_0d06_11ea_b729_f01faf02c4b2row0_col6 {\n",
       "            background-color:  #6180e9;\n",
       "            color:  #000000;\n",
       "        }    #T_63ae72e6_0d06_11ea_b729_f01faf02c4b2row0_col7 {\n",
       "            background-color:  #445acc;\n",
       "            color:  #f1f1f1;\n",
       "        }    #T_63ae72e6_0d06_11ea_b729_f01faf02c4b2row0_col8 {\n",
       "            background-color:  #3b4cc0;\n",
       "            color:  #f1f1f1;\n",
       "        }    #T_63ae72e6_0d06_11ea_b729_f01faf02c4b2row0_col9 {\n",
       "            background-color:  #3f53c6;\n",
       "            color:  #f1f1f1;\n",
       "        }    #T_63ae72e6_0d06_11ea_b729_f01faf02c4b2row0_col10 {\n",
       "            background-color:  #f6a385;\n",
       "            color:  #000000;\n",
       "        }    #T_63ae72e6_0d06_11ea_b729_f01faf02c4b2row0_col11 {\n",
       "            background-color:  #e8d6cc;\n",
       "            color:  #000000;\n",
       "        }    #T_63ae72e6_0d06_11ea_b729_f01faf02c4b2row0_col12 {\n",
       "            background-color:  #779af7;\n",
       "            color:  #000000;\n",
       "        }    #T_63ae72e6_0d06_11ea_b729_f01faf02c4b2row0_col13 {\n",
       "            background-color:  #779af7;\n",
       "            color:  #000000;\n",
       "        }    #T_63ae72e6_0d06_11ea_b729_f01faf02c4b2row1_col0 {\n",
       "            background-color:  #cfdaea;\n",
       "            color:  #000000;\n",
       "        }    #T_63ae72e6_0d06_11ea_b729_f01faf02c4b2row1_col1 {\n",
       "            background-color:  #b40426;\n",
       "            color:  #f1f1f1;\n",
       "        }    #T_63ae72e6_0d06_11ea_b729_f01faf02c4b2row1_col2 {\n",
       "            background-color:  #d2dbe8;\n",
       "            color:  #000000;\n",
       "        }    #T_63ae72e6_0d06_11ea_b729_f01faf02c4b2row1_col3 {\n",
       "            background-color:  #3d50c3;\n",
       "            color:  #f1f1f1;\n",
       "        }    #T_63ae72e6_0d06_11ea_b729_f01faf02c4b2row1_col4 {\n",
       "            background-color:  #b6cefa;\n",
       "            color:  #000000;\n",
       "        }    #T_63ae72e6_0d06_11ea_b729_f01faf02c4b2row1_col5 {\n",
       "            background-color:  #3f53c6;\n",
       "            color:  #f1f1f1;\n",
       "        }    #T_63ae72e6_0d06_11ea_b729_f01faf02c4b2row1_col6 {\n",
       "            background-color:  #cbd8ee;\n",
       "            color:  #000000;\n",
       "        }    #T_63ae72e6_0d06_11ea_b729_f01faf02c4b2row1_col7 {\n",
       "            background-color:  #485fd1;\n",
       "            color:  #f1f1f1;\n",
       "        }    #T_63ae72e6_0d06_11ea_b729_f01faf02c4b2row1_col8 {\n",
       "            background-color:  #bfd3f6;\n",
       "            color:  #000000;\n",
       "        }    #T_63ae72e6_0d06_11ea_b729_f01faf02c4b2row1_col9 {\n",
       "            background-color:  #3b4cc0;\n",
       "            color:  #f1f1f1;\n",
       "        }    #T_63ae72e6_0d06_11ea_b729_f01faf02c4b2row1_col10 {\n",
       "            background-color:  #d4dbe6;\n",
       "            color:  #000000;\n",
       "        }    #T_63ae72e6_0d06_11ea_b729_f01faf02c4b2row1_col11 {\n",
       "            background-color:  #bcd2f7;\n",
       "            color:  #000000;\n",
       "        }    #T_63ae72e6_0d06_11ea_b729_f01faf02c4b2row1_col12 {\n",
       "            background-color:  #d7dce3;\n",
       "            color:  #000000;\n",
       "        }    #T_63ae72e6_0d06_11ea_b729_f01faf02c4b2row1_col13 {\n",
       "            background-color:  #d2dbe8;\n",
       "            color:  #000000;\n",
       "        }    #T_63ae72e6_0d06_11ea_b729_f01faf02c4b2row2_col0 {\n",
       "            background-color:  #3b4cc0;\n",
       "            color:  #f1f1f1;\n",
       "        }    #T_63ae72e6_0d06_11ea_b729_f01faf02c4b2row2_col1 {\n",
       "            background-color:  #455cce;\n",
       "            color:  #f1f1f1;\n",
       "        }    #T_63ae72e6_0d06_11ea_b729_f01faf02c4b2row2_col2 {\n",
       "            background-color:  #b40426;\n",
       "            color:  #f1f1f1;\n",
       "        }    #T_63ae72e6_0d06_11ea_b729_f01faf02c4b2row2_col3 {\n",
       "            background-color:  #465ecf;\n",
       "            color:  #f1f1f1;\n",
       "        }    #T_63ae72e6_0d06_11ea_b729_f01faf02c4b2row2_col4 {\n",
       "            background-color:  #3b4cc0;\n",
       "            color:  #f1f1f1;\n",
       "        }    #T_63ae72e6_0d06_11ea_b729_f01faf02c4b2row2_col5 {\n",
       "            background-color:  #455cce;\n",
       "            color:  #f1f1f1;\n",
       "        }    #T_63ae72e6_0d06_11ea_b729_f01faf02c4b2row2_col6 {\n",
       "            background-color:  #ed8366;\n",
       "            color:  #000000;\n",
       "        }    #T_63ae72e6_0d06_11ea_b729_f01faf02c4b2row2_col7 {\n",
       "            background-color:  #4055c8;\n",
       "            color:  #f1f1f1;\n",
       "        }    #T_63ae72e6_0d06_11ea_b729_f01faf02c4b2row2_col8 {\n",
       "            background-color:  #dc5d4a;\n",
       "            color:  #000000;\n",
       "        }    #T_63ae72e6_0d06_11ea_b729_f01faf02c4b2row2_col9 {\n",
       "            background-color:  #4c66d6;\n",
       "            color:  #000000;\n",
       "        }    #T_63ae72e6_0d06_11ea_b729_f01faf02c4b2row2_col10 {\n",
       "            background-color:  #7396f5;\n",
       "            color:  #000000;\n",
       "        }    #T_63ae72e6_0d06_11ea_b729_f01faf02c4b2row2_col11 {\n",
       "            background-color:  #84a7fc;\n",
       "            color:  #000000;\n",
       "        }    #T_63ae72e6_0d06_11ea_b729_f01faf02c4b2row2_col12 {\n",
       "            background-color:  #ec8165;\n",
       "            color:  #000000;\n",
       "        }    #T_63ae72e6_0d06_11ea_b729_f01faf02c4b2row2_col13 {\n",
       "            background-color:  #f39778;\n",
       "            color:  #000000;\n",
       "        }    #T_63ae72e6_0d06_11ea_b729_f01faf02c4b2row3_col0 {\n",
       "            background-color:  #cfdaea;\n",
       "            color:  #000000;\n",
       "        }    #T_63ae72e6_0d06_11ea_b729_f01faf02c4b2row3_col1 {\n",
       "            background-color:  #3e51c5;\n",
       "            color:  #f1f1f1;\n",
       "        }    #T_63ae72e6_0d06_11ea_b729_f01faf02c4b2row3_col2 {\n",
       "            background-color:  #d3dbe7;\n",
       "            color:  #000000;\n",
       "        }    #T_63ae72e6_0d06_11ea_b729_f01faf02c4b2row3_col3 {\n",
       "            background-color:  #b40426;\n",
       "            color:  #f1f1f1;\n",
       "        }    #T_63ae72e6_0d06_11ea_b729_f01faf02c4b2row3_col4 {\n",
       "            background-color:  #b7cff9;\n",
       "            color:  #000000;\n",
       "        }    #T_63ae72e6_0d06_11ea_b729_f01faf02c4b2row3_col5 {\n",
       "            background-color:  #3f53c6;\n",
       "            color:  #f1f1f1;\n",
       "        }    #T_63ae72e6_0d06_11ea_b729_f01faf02c4b2row3_col6 {\n",
       "            background-color:  #cad8ef;\n",
       "            color:  #000000;\n",
       "        }    #T_63ae72e6_0d06_11ea_b729_f01faf02c4b2row3_col7 {\n",
       "            background-color:  #3b4cc0;\n",
       "            color:  #f1f1f1;\n",
       "        }    #T_63ae72e6_0d06_11ea_b729_f01faf02c4b2row3_col8 {\n",
       "            background-color:  #c0d4f5;\n",
       "            color:  #000000;\n",
       "        }    #T_63ae72e6_0d06_11ea_b729_f01faf02c4b2row3_col9 {\n",
       "            background-color:  #5f7fe8;\n",
       "            color:  #000000;\n",
       "        }    #T_63ae72e6_0d06_11ea_b729_f01faf02c4b2row3_col10 {\n",
       "            background-color:  #d8dce2;\n",
       "            color:  #000000;\n",
       "        }    #T_63ae72e6_0d06_11ea_b729_f01faf02c4b2row3_col11 {\n",
       "            background-color:  #bed2f6;\n",
       "            color:  #000000;\n",
       "        }    #T_63ae72e6_0d06_11ea_b729_f01faf02c4b2row3_col12 {\n",
       "            background-color:  #d5dbe5;\n",
       "            color:  #000000;\n",
       "        }    #T_63ae72e6_0d06_11ea_b729_f01faf02c4b2row3_col13 {\n",
       "            background-color:  #cedaeb;\n",
       "            color:  #000000;\n",
       "        }    #T_63ae72e6_0d06_11ea_b729_f01faf02c4b2row4_col0 {\n",
       "            background-color:  #c43032;\n",
       "            color:  #f1f1f1;\n",
       "        }    #T_63ae72e6_0d06_11ea_b729_f01faf02c4b2row4_col1 {\n",
       "            background-color:  #4055c8;\n",
       "            color:  #f1f1f1;\n",
       "        }    #T_63ae72e6_0d06_11ea_b729_f01faf02c4b2row4_col2 {\n",
       "            background-color:  #6384eb;\n",
       "            color:  #000000;\n",
       "        }    #T_63ae72e6_0d06_11ea_b729_f01faf02c4b2row4_col3 {\n",
       "            background-color:  #4257c9;\n",
       "            color:  #f1f1f1;\n",
       "        }    #T_63ae72e6_0d06_11ea_b729_f01faf02c4b2row4_col4 {\n",
       "            background-color:  #b40426;\n",
       "            color:  #f1f1f1;\n",
       "        }    #T_63ae72e6_0d06_11ea_b729_f01faf02c4b2row4_col5 {\n",
       "            background-color:  #4055c8;\n",
       "            color:  #f1f1f1;\n",
       "        }    #T_63ae72e6_0d06_11ea_b729_f01faf02c4b2row4_col6 {\n",
       "            background-color:  #82a6fb;\n",
       "            color:  #000000;\n",
       "        }    #T_63ae72e6_0d06_11ea_b729_f01faf02c4b2row4_col7 {\n",
       "            background-color:  #4257c9;\n",
       "            color:  #f1f1f1;\n",
       "        }    #T_63ae72e6_0d06_11ea_b729_f01faf02c4b2row4_col8 {\n",
       "            background-color:  #6e90f2;\n",
       "            color:  #000000;\n",
       "        }    #T_63ae72e6_0d06_11ea_b729_f01faf02c4b2row4_col9 {\n",
       "            background-color:  #4358cb;\n",
       "            color:  #f1f1f1;\n",
       "        }    #T_63ae72e6_0d06_11ea_b729_f01faf02c4b2row4_col10 {\n",
       "            background-color:  #f5c1a9;\n",
       "            color:  #000000;\n",
       "        }    #T_63ae72e6_0d06_11ea_b729_f01faf02c4b2row4_col11 {\n",
       "            background-color:  #dfdbd9;\n",
       "            color:  #000000;\n",
       "        }    #T_63ae72e6_0d06_11ea_b729_f01faf02c4b2row4_col12 {\n",
       "            background-color:  #9bbcff;\n",
       "            color:  #000000;\n",
       "        }    #T_63ae72e6_0d06_11ea_b729_f01faf02c4b2row4_col13 {\n",
       "            background-color:  #97b8ff;\n",
       "            color:  #000000;\n",
       "        }    #T_63ae72e6_0d06_11ea_b729_f01faf02c4b2row5_col0 {\n",
       "            background-color:  #cfdaea;\n",
       "            color:  #000000;\n",
       "        }    #T_63ae72e6_0d06_11ea_b729_f01faf02c4b2row5_col1 {\n",
       "            background-color:  #3f53c6;\n",
       "            color:  #f1f1f1;\n",
       "        }    #T_63ae72e6_0d06_11ea_b729_f01faf02c4b2row5_col2 {\n",
       "            background-color:  #d2dbe8;\n",
       "            color:  #000000;\n",
       "        }    #T_63ae72e6_0d06_11ea_b729_f01faf02c4b2row5_col3 {\n",
       "            background-color:  #3e51c5;\n",
       "            color:  #f1f1f1;\n",
       "        }    #T_63ae72e6_0d06_11ea_b729_f01faf02c4b2row5_col4 {\n",
       "            background-color:  #b6cefa;\n",
       "            color:  #000000;\n",
       "        }    #T_63ae72e6_0d06_11ea_b729_f01faf02c4b2row5_col5 {\n",
       "            background-color:  #b40426;\n",
       "            color:  #f1f1f1;\n",
       "        }    #T_63ae72e6_0d06_11ea_b729_f01faf02c4b2row5_col6 {\n",
       "            background-color:  #c9d7f0;\n",
       "            color:  #000000;\n",
       "        }    #T_63ae72e6_0d06_11ea_b729_f01faf02c4b2row5_col7 {\n",
       "            background-color:  #455cce;\n",
       "            color:  #f1f1f1;\n",
       "        }    #T_63ae72e6_0d06_11ea_b729_f01faf02c4b2row5_col8 {\n",
       "            background-color:  #c1d4f4;\n",
       "            color:  #000000;\n",
       "        }    #T_63ae72e6_0d06_11ea_b729_f01faf02c4b2row5_col9 {\n",
       "            background-color:  #3b4cc0;\n",
       "            color:  #f1f1f1;\n",
       "        }    #T_63ae72e6_0d06_11ea_b729_f01faf02c4b2row5_col10 {\n",
       "            background-color:  #d9dce1;\n",
       "            color:  #000000;\n",
       "        }    #T_63ae72e6_0d06_11ea_b729_f01faf02c4b2row5_col11 {\n",
       "            background-color:  #c0d4f5;\n",
       "            color:  #000000;\n",
       "        }    #T_63ae72e6_0d06_11ea_b729_f01faf02c4b2row5_col12 {\n",
       "            background-color:  #d4dbe6;\n",
       "            color:  #000000;\n",
       "        }    #T_63ae72e6_0d06_11ea_b729_f01faf02c4b2row5_col13 {\n",
       "            background-color:  #cdd9ec;\n",
       "            color:  #000000;\n",
       "        }    #T_63ae72e6_0d06_11ea_b729_f01faf02c4b2row6_col0 {\n",
       "            background-color:  #6b8df0;\n",
       "            color:  #000000;\n",
       "        }    #T_63ae72e6_0d06_11ea_b729_f01faf02c4b2row6_col1 {\n",
       "            background-color:  #4358cb;\n",
       "            color:  #f1f1f1;\n",
       "        }    #T_63ae72e6_0d06_11ea_b729_f01faf02c4b2row6_col2 {\n",
       "            background-color:  #ec7f63;\n",
       "            color:  #000000;\n",
       "        }    #T_63ae72e6_0d06_11ea_b729_f01faf02c4b2row6_col3 {\n",
       "            background-color:  #4055c8;\n",
       "            color:  #f1f1f1;\n",
       "        }    #T_63ae72e6_0d06_11ea_b729_f01faf02c4b2row6_col4 {\n",
       "            background-color:  #6687ed;\n",
       "            color:  #000000;\n",
       "        }    #T_63ae72e6_0d06_11ea_b729_f01faf02c4b2row6_col5 {\n",
       "            background-color:  #3f53c6;\n",
       "            color:  #f1f1f1;\n",
       "        }    #T_63ae72e6_0d06_11ea_b729_f01faf02c4b2row6_col6 {\n",
       "            background-color:  #b40426;\n",
       "            color:  #f1f1f1;\n",
       "        }    #T_63ae72e6_0d06_11ea_b729_f01faf02c4b2row6_col7 {\n",
       "            background-color:  #4257c9;\n",
       "            color:  #f1f1f1;\n",
       "        }    #T_63ae72e6_0d06_11ea_b729_f01faf02c4b2row6_col8 {\n",
       "            background-color:  #f7a98b;\n",
       "            color:  #000000;\n",
       "        }    #T_63ae72e6_0d06_11ea_b729_f01faf02c4b2row6_col9 {\n",
       "            background-color:  #4961d2;\n",
       "            color:  #f1f1f1;\n",
       "        }    #T_63ae72e6_0d06_11ea_b729_f01faf02c4b2row6_col10 {\n",
       "            background-color:  #4e68d8;\n",
       "            color:  #000000;\n",
       "        }    #T_63ae72e6_0d06_11ea_b729_f01faf02c4b2row6_col11 {\n",
       "            background-color:  #5572df;\n",
       "            color:  #000000;\n",
       "        }    #T_63ae72e6_0d06_11ea_b729_f01faf02c4b2row6_col12 {\n",
       "            background-color:  #d95847;\n",
       "            color:  #000000;\n",
       "        }    #T_63ae72e6_0d06_11ea_b729_f01faf02c4b2row6_col13 {\n",
       "            background-color:  #e97a5f;\n",
       "            color:  #000000;\n",
       "        }    #T_63ae72e6_0d06_11ea_b729_f01faf02c4b2row7_col0 {\n",
       "            background-color:  #d2dbe8;\n",
       "            color:  #000000;\n",
       "        }    #T_63ae72e6_0d06_11ea_b729_f01faf02c4b2row7_col1 {\n",
       "            background-color:  #4961d2;\n",
       "            color:  #f1f1f1;\n",
       "        }    #T_63ae72e6_0d06_11ea_b729_f01faf02c4b2row7_col2 {\n",
       "            background-color:  #cfdaea;\n",
       "            color:  #000000;\n",
       "        }    #T_63ae72e6_0d06_11ea_b729_f01faf02c4b2row7_col3 {\n",
       "            background-color:  #3b4cc0;\n",
       "            color:  #f1f1f1;\n",
       "        }    #T_63ae72e6_0d06_11ea_b729_f01faf02c4b2row7_col4 {\n",
       "            background-color:  #b7cff9;\n",
       "            color:  #000000;\n",
       "        }    #T_63ae72e6_0d06_11ea_b729_f01faf02c4b2row7_col5 {\n",
       "            background-color:  #465ecf;\n",
       "            color:  #f1f1f1;\n",
       "        }    #T_63ae72e6_0d06_11ea_b729_f01faf02c4b2row7_col6 {\n",
       "            background-color:  #cad8ef;\n",
       "            color:  #000000;\n",
       "        }    #T_63ae72e6_0d06_11ea_b729_f01faf02c4b2row7_col7 {\n",
       "            background-color:  #b40426;\n",
       "            color:  #f1f1f1;\n",
       "        }    #T_63ae72e6_0d06_11ea_b729_f01faf02c4b2row7_col8 {\n",
       "            background-color:  #bbd1f8;\n",
       "            color:  #000000;\n",
       "        }    #T_63ae72e6_0d06_11ea_b729_f01faf02c4b2row7_col9 {\n",
       "            background-color:  #5673e0;\n",
       "            color:  #000000;\n",
       "        }    #T_63ae72e6_0d06_11ea_b729_f01faf02c4b2row7_col10 {\n",
       "            background-color:  #d6dce4;\n",
       "            color:  #000000;\n",
       "        }    #T_63ae72e6_0d06_11ea_b729_f01faf02c4b2row7_col11 {\n",
       "            background-color:  #bbd1f8;\n",
       "            color:  #000000;\n",
       "        }    #T_63ae72e6_0d06_11ea_b729_f01faf02c4b2row7_col12 {\n",
       "            background-color:  #d5dbe5;\n",
       "            color:  #000000;\n",
       "        }    #T_63ae72e6_0d06_11ea_b729_f01faf02c4b2row7_col13 {\n",
       "            background-color:  #cedaeb;\n",
       "            color:  #000000;\n",
       "        }    #T_63ae72e6_0d06_11ea_b729_f01faf02c4b2row8_col0 {\n",
       "            background-color:  #5977e3;\n",
       "            color:  #000000;\n",
       "        }    #T_63ae72e6_0d06_11ea_b729_f01faf02c4b2row8_col1 {\n",
       "            background-color:  #445acc;\n",
       "            color:  #f1f1f1;\n",
       "        }    #T_63ae72e6_0d06_11ea_b729_f01faf02c4b2row8_col2 {\n",
       "            background-color:  #d85646;\n",
       "            color:  #000000;\n",
       "        }    #T_63ae72e6_0d06_11ea_b729_f01faf02c4b2row8_col3 {\n",
       "            background-color:  #455cce;\n",
       "            color:  #f1f1f1;\n",
       "        }    #T_63ae72e6_0d06_11ea_b729_f01faf02c4b2row8_col4 {\n",
       "            background-color:  #6384eb;\n",
       "            color:  #000000;\n",
       "        }    #T_63ae72e6_0d06_11ea_b729_f01faf02c4b2row8_col5 {\n",
       "            background-color:  #485fd1;\n",
       "            color:  #f1f1f1;\n",
       "        }    #T_63ae72e6_0d06_11ea_b729_f01faf02c4b2row8_col6 {\n",
       "            background-color:  #f6a283;\n",
       "            color:  #000000;\n",
       "        }    #T_63ae72e6_0d06_11ea_b729_f01faf02c4b2row8_col7 {\n",
       "            background-color:  #3e51c5;\n",
       "            color:  #f1f1f1;\n",
       "        }    #T_63ae72e6_0d06_11ea_b729_f01faf02c4b2row8_col8 {\n",
       "            background-color:  #b40426;\n",
       "            color:  #f1f1f1;\n",
       "        }    #T_63ae72e6_0d06_11ea_b729_f01faf02c4b2row8_col9 {\n",
       "            background-color:  #4b64d5;\n",
       "            color:  #f1f1f1;\n",
       "        }    #T_63ae72e6_0d06_11ea_b729_f01faf02c4b2row8_col10 {\n",
       "            background-color:  #779af7;\n",
       "            color:  #000000;\n",
       "        }    #T_63ae72e6_0d06_11ea_b729_f01faf02c4b2row8_col11 {\n",
       "            background-color:  #93b5fe;\n",
       "            color:  #000000;\n",
       "        }    #T_63ae72e6_0d06_11ea_b729_f01faf02c4b2row8_col12 {\n",
       "            background-color:  #ee8468;\n",
       "            color:  #000000;\n",
       "        }    #T_63ae72e6_0d06_11ea_b729_f01faf02c4b2row8_col13 {\n",
       "            background-color:  #f39778;\n",
       "            color:  #000000;\n",
       "        }    #T_63ae72e6_0d06_11ea_b729_f01faf02c4b2row9_col0 {\n",
       "            background-color:  #cedaeb;\n",
       "            color:  #000000;\n",
       "        }    #T_63ae72e6_0d06_11ea_b729_f01faf02c4b2row9_col1 {\n",
       "            background-color:  #3b4cc0;\n",
       "            color:  #f1f1f1;\n",
       "        }    #T_63ae72e6_0d06_11ea_b729_f01faf02c4b2row9_col2 {\n",
       "            background-color:  #d5dbe5;\n",
       "            color:  #000000;\n",
       "        }    #T_63ae72e6_0d06_11ea_b729_f01faf02c4b2row9_col3 {\n",
       "            background-color:  #5f7fe8;\n",
       "            color:  #000000;\n",
       "        }    #T_63ae72e6_0d06_11ea_b729_f01faf02c4b2row9_col4 {\n",
       "            background-color:  #b7cff9;\n",
       "            color:  #000000;\n",
       "        }    #T_63ae72e6_0d06_11ea_b729_f01faf02c4b2row9_col5 {\n",
       "            background-color:  #3b4cc0;\n",
       "            color:  #f1f1f1;\n",
       "        }    #T_63ae72e6_0d06_11ea_b729_f01faf02c4b2row9_col6 {\n",
       "            background-color:  #cdd9ec;\n",
       "            color:  #000000;\n",
       "        }    #T_63ae72e6_0d06_11ea_b729_f01faf02c4b2row9_col7 {\n",
       "            background-color:  #5572df;\n",
       "            color:  #000000;\n",
       "        }    #T_63ae72e6_0d06_11ea_b729_f01faf02c4b2row9_col8 {\n",
       "            background-color:  #c4d5f3;\n",
       "            color:  #000000;\n",
       "        }    #T_63ae72e6_0d06_11ea_b729_f01faf02c4b2row9_col9 {\n",
       "            background-color:  #b40426;\n",
       "            color:  #f1f1f1;\n",
       "        }    #T_63ae72e6_0d06_11ea_b729_f01faf02c4b2row9_col10 {\n",
       "            background-color:  #d5dbe5;\n",
       "            color:  #000000;\n",
       "        }    #T_63ae72e6_0d06_11ea_b729_f01faf02c4b2row9_col11 {\n",
       "            background-color:  #bcd2f7;\n",
       "            color:  #000000;\n",
       "        }    #T_63ae72e6_0d06_11ea_b729_f01faf02c4b2row9_col12 {\n",
       "            background-color:  #d7dce3;\n",
       "            color:  #000000;\n",
       "        }    #T_63ae72e6_0d06_11ea_b729_f01faf02c4b2row9_col13 {\n",
       "            background-color:  #d1dae9;\n",
       "            color:  #000000;\n",
       "        }    #T_63ae72e6_0d06_11ea_b729_f01faf02c4b2row10_col0 {\n",
       "            background-color:  #f7a889;\n",
       "            color:  #000000;\n",
       "        }    #T_63ae72e6_0d06_11ea_b729_f01faf02c4b2row10_col1 {\n",
       "            background-color:  #4257c9;\n",
       "            color:  #f1f1f1;\n",
       "        }    #T_63ae72e6_0d06_11ea_b729_f01faf02c4b2row10_col2 {\n",
       "            background-color:  #6b8df0;\n",
       "            color:  #000000;\n",
       "        }    #T_63ae72e6_0d06_11ea_b729_f01faf02c4b2row10_col3 {\n",
       "            background-color:  #4961d2;\n",
       "            color:  #f1f1f1;\n",
       "        }    #T_63ae72e6_0d06_11ea_b729_f01faf02c4b2row10_col4 {\n",
       "            background-color:  #edd2c3;\n",
       "            color:  #000000;\n",
       "        }    #T_63ae72e6_0d06_11ea_b729_f01faf02c4b2row10_col5 {\n",
       "            background-color:  #4b64d5;\n",
       "            color:  #f1f1f1;\n",
       "        }    #T_63ae72e6_0d06_11ea_b729_f01faf02c4b2row10_col6 {\n",
       "            background-color:  #3b4cc0;\n",
       "            color:  #f1f1f1;\n",
       "        }    #T_63ae72e6_0d06_11ea_b729_f01faf02c4b2row10_col7 {\n",
       "            background-color:  #445acc;\n",
       "            color:  #f1f1f1;\n",
       "        }    #T_63ae72e6_0d06_11ea_b729_f01faf02c4b2row10_col8 {\n",
       "            background-color:  #4f69d9;\n",
       "            color:  #000000;\n",
       "        }    #T_63ae72e6_0d06_11ea_b729_f01faf02c4b2row10_col9 {\n",
       "            background-color:  #4257c9;\n",
       "            color:  #f1f1f1;\n",
       "        }    #T_63ae72e6_0d06_11ea_b729_f01faf02c4b2row10_col10 {\n",
       "            background-color:  #b40426;\n",
       "            color:  #f1f1f1;\n",
       "        }    #T_63ae72e6_0d06_11ea_b729_f01faf02c4b2row10_col11 {\n",
       "            background-color:  #f08b6e;\n",
       "            color:  #000000;\n",
       "        }    #T_63ae72e6_0d06_11ea_b729_f01faf02c4b2row10_col12 {\n",
       "            background-color:  #3b4cc0;\n",
       "            color:  #f1f1f1;\n",
       "        }    #T_63ae72e6_0d06_11ea_b729_f01faf02c4b2row10_col13 {\n",
       "            background-color:  #3b4cc0;\n",
       "            color:  #f1f1f1;\n",
       "        }    #T_63ae72e6_0d06_11ea_b729_f01faf02c4b2row11_col0 {\n",
       "            background-color:  #f1cdba;\n",
       "            color:  #000000;\n",
       "        }    #T_63ae72e6_0d06_11ea_b729_f01faf02c4b2row11_col1 {\n",
       "            background-color:  #4358cb;\n",
       "            color:  #f1f1f1;\n",
       "        }    #T_63ae72e6_0d06_11ea_b729_f01faf02c4b2row11_col2 {\n",
       "            background-color:  #a1c0ff;\n",
       "            color:  #000000;\n",
       "        }    #T_63ae72e6_0d06_11ea_b729_f01faf02c4b2row11_col3 {\n",
       "            background-color:  #4358cb;\n",
       "            color:  #f1f1f1;\n",
       "        }    #T_63ae72e6_0d06_11ea_b729_f01faf02c4b2row11_col4 {\n",
       "            background-color:  #dcdddd;\n",
       "            color:  #000000;\n",
       "        }    #T_63ae72e6_0d06_11ea_b729_f01faf02c4b2row11_col5 {\n",
       "            background-color:  #4961d2;\n",
       "            color:  #f1f1f1;\n",
       "        }    #T_63ae72e6_0d06_11ea_b729_f01faf02c4b2row11_col6 {\n",
       "            background-color:  #6b8df0;\n",
       "            color:  #000000;\n",
       "        }    #T_63ae72e6_0d06_11ea_b729_f01faf02c4b2row11_col7 {\n",
       "            background-color:  #3f53c6;\n",
       "            color:  #f1f1f1;\n",
       "        }    #T_63ae72e6_0d06_11ea_b729_f01faf02c4b2row11_col8 {\n",
       "            background-color:  #96b7ff;\n",
       "            color:  #000000;\n",
       "        }    #T_63ae72e6_0d06_11ea_b729_f01faf02c4b2row11_col9 {\n",
       "            background-color:  #4358cb;\n",
       "            color:  #f1f1f1;\n",
       "        }    #T_63ae72e6_0d06_11ea_b729_f01faf02c4b2row11_col10 {\n",
       "            background-color:  #eb7d62;\n",
       "            color:  #000000;\n",
       "        }    #T_63ae72e6_0d06_11ea_b729_f01faf02c4b2row11_col11 {\n",
       "            background-color:  #b40426;\n",
       "            color:  #f1f1f1;\n",
       "        }    #T_63ae72e6_0d06_11ea_b729_f01faf02c4b2row11_col12 {\n",
       "            background-color:  #6485ec;\n",
       "            color:  #000000;\n",
       "        }    #T_63ae72e6_0d06_11ea_b729_f01faf02c4b2row11_col13 {\n",
       "            background-color:  #5875e1;\n",
       "            color:  #000000;\n",
       "        }    #T_63ae72e6_0d06_11ea_b729_f01faf02c4b2row12_col0 {\n",
       "            background-color:  #6f92f3;\n",
       "            color:  #000000;\n",
       "        }    #T_63ae72e6_0d06_11ea_b729_f01faf02c4b2row12_col1 {\n",
       "            background-color:  #485fd1;\n",
       "            color:  #f1f1f1;\n",
       "        }    #T_63ae72e6_0d06_11ea_b729_f01faf02c4b2row12_col2 {\n",
       "            background-color:  #ed8366;\n",
       "            color:  #000000;\n",
       "        }    #T_63ae72e6_0d06_11ea_b729_f01faf02c4b2row12_col3 {\n",
       "            background-color:  #4055c8;\n",
       "            color:  #f1f1f1;\n",
       "        }    #T_63ae72e6_0d06_11ea_b729_f01faf02c4b2row12_col4 {\n",
       "            background-color:  #6e90f2;\n",
       "            color:  #000000;\n",
       "        }    #T_63ae72e6_0d06_11ea_b729_f01faf02c4b2row12_col5 {\n",
       "            background-color:  #4055c8;\n",
       "            color:  #f1f1f1;\n",
       "        }    #T_63ae72e6_0d06_11ea_b729_f01faf02c4b2row12_col6 {\n",
       "            background-color:  #dd5f4b;\n",
       "            color:  #000000;\n",
       "        }    #T_63ae72e6_0d06_11ea_b729_f01faf02c4b2row12_col7 {\n",
       "            background-color:  #4358cb;\n",
       "            color:  #f1f1f1;\n",
       "        }    #T_63ae72e6_0d06_11ea_b729_f01faf02c4b2row12_col8 {\n",
       "            background-color:  #f29274;\n",
       "            color:  #000000;\n",
       "        }    #T_63ae72e6_0d06_11ea_b729_f01faf02c4b2row12_col9 {\n",
       "            background-color:  #485fd1;\n",
       "            color:  #f1f1f1;\n",
       "        }    #T_63ae72e6_0d06_11ea_b729_f01faf02c4b2row12_col10 {\n",
       "            background-color:  #3b4cc0;\n",
       "            color:  #f1f1f1;\n",
       "        }    #T_63ae72e6_0d06_11ea_b729_f01faf02c4b2row12_col11 {\n",
       "            background-color:  #3b4cc0;\n",
       "            color:  #f1f1f1;\n",
       "        }    #T_63ae72e6_0d06_11ea_b729_f01faf02c4b2row12_col12 {\n",
       "            background-color:  #b40426;\n",
       "            color:  #f1f1f1;\n",
       "        }    #T_63ae72e6_0d06_11ea_b729_f01faf02c4b2row12_col13 {\n",
       "            background-color:  #ba162b;\n",
       "            color:  #f1f1f1;\n",
       "        }    #T_63ae72e6_0d06_11ea_b729_f01faf02c4b2row13_col0 {\n",
       "            background-color:  #7a9df8;\n",
       "            color:  #000000;\n",
       "        }    #T_63ae72e6_0d06_11ea_b729_f01faf02c4b2row13_col1 {\n",
       "            background-color:  #4961d2;\n",
       "            color:  #f1f1f1;\n",
       "        }    #T_63ae72e6_0d06_11ea_b729_f01faf02c4b2row13_col2 {\n",
       "            background-color:  #f39577;\n",
       "            color:  #000000;\n",
       "        }    #T_63ae72e6_0d06_11ea_b729_f01faf02c4b2row13_col3 {\n",
       "            background-color:  #4358cb;\n",
       "            color:  #f1f1f1;\n",
       "        }    #T_63ae72e6_0d06_11ea_b729_f01faf02c4b2row13_col4 {\n",
       "            background-color:  #7699f6;\n",
       "            color:  #000000;\n",
       "        }    #T_63ae72e6_0d06_11ea_b729_f01faf02c4b2row13_col5 {\n",
       "            background-color:  #4055c8;\n",
       "            color:  #f1f1f1;\n",
       "        }    #T_63ae72e6_0d06_11ea_b729_f01faf02c4b2row13_col6 {\n",
       "            background-color:  #ea7b60;\n",
       "            color:  #000000;\n",
       "        }    #T_63ae72e6_0d06_11ea_b729_f01faf02c4b2row13_col7 {\n",
       "            background-color:  #4257c9;\n",
       "            color:  #f1f1f1;\n",
       "        }    #T_63ae72e6_0d06_11ea_b729_f01faf02c4b2row13_col8 {\n",
       "            background-color:  #f5a081;\n",
       "            color:  #000000;\n",
       "        }    #T_63ae72e6_0d06_11ea_b729_f01faf02c4b2row13_col9 {\n",
       "            background-color:  #465ecf;\n",
       "            color:  #f1f1f1;\n",
       "        }    #T_63ae72e6_0d06_11ea_b729_f01faf02c4b2row13_col10 {\n",
       "            background-color:  #465ecf;\n",
       "            color:  #f1f1f1;\n",
       "        }    #T_63ae72e6_0d06_11ea_b729_f01faf02c4b2row13_col11 {\n",
       "            background-color:  #3b4cc0;\n",
       "            color:  #f1f1f1;\n",
       "        }    #T_63ae72e6_0d06_11ea_b729_f01faf02c4b2row13_col12 {\n",
       "            background-color:  #ba162b;\n",
       "            color:  #f1f1f1;\n",
       "        }    #T_63ae72e6_0d06_11ea_b729_f01faf02c4b2row13_col13 {\n",
       "            background-color:  #b40426;\n",
       "            color:  #f1f1f1;\n",
       "        }</style><table id=\"T_63ae72e6_0d06_11ea_b729_f01faf02c4b2\" ><thead>    <tr>        <th class=\"blank level0\" ></th>        <th class=\"col_heading level0 col0\" >kurtosis_oxygen</th>        <th class=\"col_heading level0 col1\" >education-num</th>        <th class=\"col_heading level0 col2\" >std_oxygen</th>        <th class=\"col_heading level0 col3\" >capital-gain</th>        <th class=\"col_heading level0 col4\" >skewness_oxygen</th>        <th class=\"col_heading level0 col5\" >fnlwgt</th>        <th class=\"col_heading level0 col6\" >class</th>        <th class=\"col_heading level0 col7\" >capital-loss</th>        <th class=\"col_heading level0 col8\" >mean_oxygen</th>        <th class=\"col_heading level0 col9\" >hours-per-week</th>        <th class=\"col_heading level0 col10\" >mean_glucose</th>        <th class=\"col_heading level0 col11\" >std_glucose</th>        <th class=\"col_heading level0 col12\" >kurtosis_glucose</th>        <th class=\"col_heading level0 col13\" >skewness_glucose</th>    </tr></thead><tbody>\n",
       "                <tr>\n",
       "                        <th id=\"T_63ae72e6_0d06_11ea_b729_f01faf02c4b2level0_row0\" class=\"row_heading level0 row0\" >kurtosis_oxygen</th>\n",
       "                        <td id=\"T_63ae72e6_0d06_11ea_b729_f01faf02c4b2row0_col0\" class=\"data row0 col0\" >1</td>\n",
       "                        <td id=\"T_63ae72e6_0d06_11ea_b729_f01faf02c4b2row0_col1\" class=\"data row0 col1\" >-0.0106</td>\n",
       "                        <td id=\"T_63ae72e6_0d06_11ea_b729_f01faf02c4b2row0_col2\" class=\"data row0 col2\" >-0.843</td>\n",
       "                        <td id=\"T_63ae72e6_0d06_11ea_b729_f01faf02c4b2row0_col3\" class=\"data row0 col3\" >-0.00861</td>\n",
       "                        <td id=\"T_63ae72e6_0d06_11ea_b729_f01faf02c4b2row0_col4\" class=\"data row0 col4\" >0.915</td>\n",
       "                        <td id=\"T_63ae72e6_0d06_11ea_b729_f01faf02c4b2row0_col5\" class=\"data row0 col5\" >-0.0123</td>\n",
       "                        <td id=\"T_63ae72e6_0d06_11ea_b729_f01faf02c4b2row0_col6\" class=\"data row0 col6\" >-0.556</td>\n",
       "                        <td id=\"T_63ae72e6_0d06_11ea_b729_f01faf02c4b2row0_col7\" class=\"data row0 col7\" >0.00166</td>\n",
       "                        <td id=\"T_63ae72e6_0d06_11ea_b729_f01faf02c4b2row0_col8\" class=\"data row0 col8\" >-0.66</td>\n",
       "                        <td id=\"T_63ae72e6_0d06_11ea_b729_f01faf02c4b2row0_col9\" class=\"data row0 col9\" >-0.0189</td>\n",
       "                        <td id=\"T_63ae72e6_0d06_11ea_b729_f01faf02c4b2row0_col10\" class=\"data row0 col10\" >0.473</td>\n",
       "                        <td id=\"T_63ae72e6_0d06_11ea_b729_f01faf02c4b2row0_col11\" class=\"data row0 col11\" >0.248</td>\n",
       "                        <td id=\"T_63ae72e6_0d06_11ea_b729_f01faf02c4b2row0_col12\" class=\"data row0 col12\" >-0.538</td>\n",
       "                        <td id=\"T_63ae72e6_0d06_11ea_b729_f01faf02c4b2row0_col13\" class=\"data row0 col13\" >-0.478</td>\n",
       "            </tr>\n",
       "            <tr>\n",
       "                        <th id=\"T_63ae72e6_0d06_11ea_b729_f01faf02c4b2level0_row1\" class=\"row_heading level0 row1\" >education-num</th>\n",
       "                        <td id=\"T_63ae72e6_0d06_11ea_b729_f01faf02c4b2row1_col0\" class=\"data row1 col0\" >-0.0106</td>\n",
       "                        <td id=\"T_63ae72e6_0d06_11ea_b729_f01faf02c4b2row1_col1\" class=\"data row1 col1\" >1</td>\n",
       "                        <td id=\"T_63ae72e6_0d06_11ea_b729_f01faf02c4b2row1_col2\" class=\"data row1 col2\" >0.00271</td>\n",
       "                        <td id=\"T_63ae72e6_0d06_11ea_b729_f01faf02c4b2row1_col3\" class=\"data row1 col3\" >-0.0237</td>\n",
       "                        <td id=\"T_63ae72e6_0d06_11ea_b729_f01faf02c4b2row1_col4\" class=\"data row1 col4\" >-0.0127</td>\n",
       "                        <td id=\"T_63ae72e6_0d06_11ea_b729_f01faf02c4b2row1_col5\" class=\"data row1 col5\" >-0.0185</td>\n",
       "                        <td id=\"T_63ae72e6_0d06_11ea_b729_f01faf02c4b2row1_col6\" class=\"data row1 col6\" >-0.00458</td>\n",
       "                        <td id=\"T_63ae72e6_0d06_11ea_b729_f01faf02c4b2row1_col7\" class=\"data row1 col7\" >0.014</td>\n",
       "                        <td id=\"T_63ae72e6_0d06_11ea_b729_f01faf02c4b2row1_col8\" class=\"data row1 col8\" >-0.000724</td>\n",
       "                        <td id=\"T_63ae72e6_0d06_11ea_b729_f01faf02c4b2row1_col9\" class=\"data row1 col9\" >-0.0362</td>\n",
       "                        <td id=\"T_63ae72e6_0d06_11ea_b729_f01faf02c4b2row1_col10\" class=\"data row1 col10\" >-0.011</td>\n",
       "                        <td id=\"T_63ae72e6_0d06_11ea_b729_f01faf02c4b2row1_col11\" class=\"data row1 col11\" >-0.00491</td>\n",
       "                        <td id=\"T_63ae72e6_0d06_11ea_b729_f01faf02c4b2row1_col12\" class=\"data row1 col12\" >0.00871</td>\n",
       "                        <td id=\"T_63ae72e6_0d06_11ea_b729_f01faf02c4b2row1_col13\" class=\"data row1 col13\" >0.0138</td>\n",
       "            </tr>\n",
       "            <tr>\n",
       "                        <th id=\"T_63ae72e6_0d06_11ea_b729_f01faf02c4b2level0_row2\" class=\"row_heading level0 row2\" >std_oxygen</th>\n",
       "                        <td id=\"T_63ae72e6_0d06_11ea_b729_f01faf02c4b2row2_col0\" class=\"data row2 col0\" >-0.843</td>\n",
       "                        <td id=\"T_63ae72e6_0d06_11ea_b729_f01faf02c4b2row2_col1\" class=\"data row2 col1\" >0.00271</td>\n",
       "                        <td id=\"T_63ae72e6_0d06_11ea_b729_f01faf02c4b2row2_col2\" class=\"data row2 col2\" >1</td>\n",
       "                        <td id=\"T_63ae72e6_0d06_11ea_b729_f01faf02c4b2row2_col3\" class=\"data row2 col3\" >0.0102</td>\n",
       "                        <td id=\"T_63ae72e6_0d06_11ea_b729_f01faf02c4b2row2_col4\" class=\"data row2 col4\" >-0.605</td>\n",
       "                        <td id=\"T_63ae72e6_0d06_11ea_b729_f01faf02c4b2row2_col5\" class=\"data row2 col5\" >0.00217</td>\n",
       "                        <td id=\"T_63ae72e6_0d06_11ea_b729_f01faf02c4b2row2_col6\" class=\"data row2 col6\" >0.65</td>\n",
       "                        <td id=\"T_63ae72e6_0d06_11ea_b729_f01faf02c4b2row2_col7\" class=\"data row2 col7\" >-0.00879</td>\n",
       "                        <td id=\"T_63ae72e6_0d06_11ea_b729_f01faf02c4b2row2_col8\" class=\"data row2 col8\" >0.802</td>\n",
       "                        <td id=\"T_63ae72e6_0d06_11ea_b729_f01faf02c4b2row2_col9\" class=\"data row2 col9\" >0.0248</td>\n",
       "                        <td id=\"T_63ae72e6_0d06_11ea_b729_f01faf02c4b2row2_col10\" class=\"data row2 col10\" >-0.561</td>\n",
       "                        <td id=\"T_63ae72e6_0d06_11ea_b729_f01faf02c4b2row2_col11\" class=\"data row2 col11\" >-0.275</td>\n",
       "                        <td id=\"T_63ae72e6_0d06_11ea_b729_f01faf02c4b2row2_col12\" class=\"data row2 col12\" >0.635</td>\n",
       "                        <td id=\"T_63ae72e6_0d06_11ea_b729_f01faf02c4b2row2_col13\" class=\"data row2 col13\" >0.559</td>\n",
       "            </tr>\n",
       "            <tr>\n",
       "                        <th id=\"T_63ae72e6_0d06_11ea_b729_f01faf02c4b2level0_row3\" class=\"row_heading level0 row3\" >capital-gain</th>\n",
       "                        <td id=\"T_63ae72e6_0d06_11ea_b729_f01faf02c4b2row3_col0\" class=\"data row3 col0\" >-0.00861</td>\n",
       "                        <td id=\"T_63ae72e6_0d06_11ea_b729_f01faf02c4b2row3_col1\" class=\"data row3 col1\" >-0.0237</td>\n",
       "                        <td id=\"T_63ae72e6_0d06_11ea_b729_f01faf02c4b2row3_col2\" class=\"data row3 col2\" >0.0102</td>\n",
       "                        <td id=\"T_63ae72e6_0d06_11ea_b729_f01faf02c4b2row3_col3\" class=\"data row3 col3\" >1</td>\n",
       "                        <td id=\"T_63ae72e6_0d06_11ea_b729_f01faf02c4b2row3_col4\" class=\"data row3 col4\" >-0.00631</td>\n",
       "                        <td id=\"T_63ae72e6_0d06_11ea_b729_f01faf02c4b2row3_col5\" class=\"data row3 col5\" >-0.0188</td>\n",
       "                        <td id=\"T_63ae72e6_0d06_11ea_b729_f01faf02c4b2row3_col6\" class=\"data row3 col6\" >-0.00844</td>\n",
       "                        <td id=\"T_63ae72e6_0d06_11ea_b729_f01faf02c4b2row3_col7\" class=\"data row3 col7\" >-0.0325</td>\n",
       "                        <td id=\"T_63ae72e6_0d06_11ea_b729_f01faf02c4b2row3_col8\" class=\"data row3 col8\" >0.00433</td>\n",
       "                        <td id=\"T_63ae72e6_0d06_11ea_b729_f01faf02c4b2row3_col9\" class=\"data row3 col9\" >0.0892</td>\n",
       "                        <td id=\"T_63ae72e6_0d06_11ea_b729_f01faf02c4b2row3_col10\" class=\"data row3 col10\" >0.0165</td>\n",
       "                        <td id=\"T_63ae72e6_0d06_11ea_b729_f01faf02c4b2row3_col11\" class=\"data row3 col11\" >-0.00157</td>\n",
       "                        <td id=\"T_63ae72e6_0d06_11ea_b729_f01faf02c4b2row3_col12\" class=\"data row3 col12\" >-0.00871</td>\n",
       "                        <td id=\"T_63ae72e6_0d06_11ea_b729_f01faf02c4b2row3_col13\" class=\"data row3 col13\" >-0.00367</td>\n",
       "            </tr>\n",
       "            <tr>\n",
       "                        <th id=\"T_63ae72e6_0d06_11ea_b729_f01faf02c4b2level0_row4\" class=\"row_heading level0 row4\" >skewness_oxygen</th>\n",
       "                        <td id=\"T_63ae72e6_0d06_11ea_b729_f01faf02c4b2row4_col0\" class=\"data row4 col0\" >0.915</td>\n",
       "                        <td id=\"T_63ae72e6_0d06_11ea_b729_f01faf02c4b2row4_col1\" class=\"data row4 col1\" >-0.0127</td>\n",
       "                        <td id=\"T_63ae72e6_0d06_11ea_b729_f01faf02c4b2row4_col2\" class=\"data row4 col2\" >-0.605</td>\n",
       "                        <td id=\"T_63ae72e6_0d06_11ea_b729_f01faf02c4b2row4_col3\" class=\"data row4 col3\" >-0.00631</td>\n",
       "                        <td id=\"T_63ae72e6_0d06_11ea_b729_f01faf02c4b2row4_col4\" class=\"data row4 col4\" >1</td>\n",
       "                        <td id=\"T_63ae72e6_0d06_11ea_b729_f01faf02c4b2row4_col5\" class=\"data row4 col5\" >-0.0147</td>\n",
       "                        <td id=\"T_63ae72e6_0d06_11ea_b729_f01faf02c4b2row4_col6\" class=\"data row4 col6\" >-0.385</td>\n",
       "                        <td id=\"T_63ae72e6_0d06_11ea_b729_f01faf02c4b2row4_col7\" class=\"data row4 col7\" >-0.00743</td>\n",
       "                        <td id=\"T_63ae72e6_0d06_11ea_b729_f01faf02c4b2row4_col8\" class=\"data row4 col8\" >-0.394</td>\n",
       "                        <td id=\"T_63ae72e6_0d06_11ea_b729_f01faf02c4b2row4_col9\" class=\"data row4 col9\" >-0.00605</td>\n",
       "                        <td id=\"T_63ae72e6_0d06_11ea_b729_f01faf02c4b2row4_col10\" class=\"data row4 col10\" >0.304</td>\n",
       "                        <td id=\"T_63ae72e6_0d06_11ea_b729_f01faf02c4b2row4_col11\" class=\"data row4 col11\" >0.191</td>\n",
       "                        <td id=\"T_63ae72e6_0d06_11ea_b729_f01faf02c4b2row4_col12\" class=\"data row4 col12\" >-0.347</td>\n",
       "                        <td id=\"T_63ae72e6_0d06_11ea_b729_f01faf02c4b2row4_col13\" class=\"data row4 col13\" >-0.308</td>\n",
       "            </tr>\n",
       "            <tr>\n",
       "                        <th id=\"T_63ae72e6_0d06_11ea_b729_f01faf02c4b2level0_row5\" class=\"row_heading level0 row5\" >fnlwgt</th>\n",
       "                        <td id=\"T_63ae72e6_0d06_11ea_b729_f01faf02c4b2row5_col0\" class=\"data row5 col0\" >-0.0123</td>\n",
       "                        <td id=\"T_63ae72e6_0d06_11ea_b729_f01faf02c4b2row5_col1\" class=\"data row5 col1\" >-0.0185</td>\n",
       "                        <td id=\"T_63ae72e6_0d06_11ea_b729_f01faf02c4b2row5_col2\" class=\"data row5 col2\" >0.00217</td>\n",
       "                        <td id=\"T_63ae72e6_0d06_11ea_b729_f01faf02c4b2row5_col3\" class=\"data row5 col3\" >-0.0188</td>\n",
       "                        <td id=\"T_63ae72e6_0d06_11ea_b729_f01faf02c4b2row5_col4\" class=\"data row5 col4\" >-0.0147</td>\n",
       "                        <td id=\"T_63ae72e6_0d06_11ea_b729_f01faf02c4b2row5_col5\" class=\"data row5 col5\" >1</td>\n",
       "                        <td id=\"T_63ae72e6_0d06_11ea_b729_f01faf02c4b2row5_col6\" class=\"data row5 col6\" >-0.0172</td>\n",
       "                        <td id=\"T_63ae72e6_0d06_11ea_b729_f01faf02c4b2row5_col7\" class=\"data row5 col7\" >0.00548</td>\n",
       "                        <td id=\"T_63ae72e6_0d06_11ea_b729_f01faf02c4b2row5_col8\" class=\"data row5 col8\" >0.0106</td>\n",
       "                        <td id=\"T_63ae72e6_0d06_11ea_b729_f01faf02c4b2row5_col9\" class=\"data row5 col9\" >-0.0353</td>\n",
       "                        <td id=\"T_63ae72e6_0d06_11ea_b729_f01faf02c4b2row5_col10\" class=\"data row5 col10\" >0.0243</td>\n",
       "                        <td id=\"T_63ae72e6_0d06_11ea_b729_f01faf02c4b2row5_col11\" class=\"data row5 col11\" >0.0153</td>\n",
       "                        <td id=\"T_63ae72e6_0d06_11ea_b729_f01faf02c4b2row5_col12\" class=\"data row5 col12\" >-0.0148</td>\n",
       "                        <td id=\"T_63ae72e6_0d06_11ea_b729_f01faf02c4b2row5_col13\" class=\"data row5 col13\" >-0.0123</td>\n",
       "            </tr>\n",
       "            <tr>\n",
       "                        <th id=\"T_63ae72e6_0d06_11ea_b729_f01faf02c4b2level0_row6\" class=\"row_heading level0 row6\" >class</th>\n",
       "                        <td id=\"T_63ae72e6_0d06_11ea_b729_f01faf02c4b2row6_col0\" class=\"data row6 col0\" >-0.556</td>\n",
       "                        <td id=\"T_63ae72e6_0d06_11ea_b729_f01faf02c4b2row6_col1\" class=\"data row6 col1\" >-0.00458</td>\n",
       "                        <td id=\"T_63ae72e6_0d06_11ea_b729_f01faf02c4b2row6_col2\" class=\"data row6 col2\" >0.65</td>\n",
       "                        <td id=\"T_63ae72e6_0d06_11ea_b729_f01faf02c4b2row6_col3\" class=\"data row6 col3\" >-0.00844</td>\n",
       "                        <td id=\"T_63ae72e6_0d06_11ea_b729_f01faf02c4b2row6_col4\" class=\"data row6 col4\" >-0.385</td>\n",
       "                        <td id=\"T_63ae72e6_0d06_11ea_b729_f01faf02c4b2row6_col5\" class=\"data row6 col5\" >-0.0172</td>\n",
       "                        <td id=\"T_63ae72e6_0d06_11ea_b729_f01faf02c4b2row6_col6\" class=\"data row6 col6\" >1</td>\n",
       "                        <td id=\"T_63ae72e6_0d06_11ea_b729_f01faf02c4b2row6_col7\" class=\"data row6 col7\" >-0.00609</td>\n",
       "                        <td id=\"T_63ae72e6_0d06_11ea_b729_f01faf02c4b2row6_col8\" class=\"data row6 col8\" >0.518</td>\n",
       "                        <td id=\"T_63ae72e6_0d06_11ea_b729_f01faf02c4b2row6_col9\" class=\"data row6 col9\" >0.0151</td>\n",
       "                        <td id=\"T_63ae72e6_0d06_11ea_b729_f01faf02c4b2row6_col10\" class=\"data row6 col10\" >-0.775</td>\n",
       "                        <td id=\"T_63ae72e6_0d06_11ea_b729_f01faf02c4b2row6_col11\" class=\"data row6 col11\" >-0.5</td>\n",
       "                        <td id=\"T_63ae72e6_0d06_11ea_b729_f01faf02c4b2row6_col12\" class=\"data row6 col12\" >0.785</td>\n",
       "                        <td id=\"T_63ae72e6_0d06_11ea_b729_f01faf02c4b2row6_col13\" class=\"data row6 col13\" >0.676</td>\n",
       "            </tr>\n",
       "            <tr>\n",
       "                        <th id=\"T_63ae72e6_0d06_11ea_b729_f01faf02c4b2level0_row7\" class=\"row_heading level0 row7\" >capital-loss</th>\n",
       "                        <td id=\"T_63ae72e6_0d06_11ea_b729_f01faf02c4b2row7_col0\" class=\"data row7 col0\" >0.00166</td>\n",
       "                        <td id=\"T_63ae72e6_0d06_11ea_b729_f01faf02c4b2row7_col1\" class=\"data row7 col1\" >0.014</td>\n",
       "                        <td id=\"T_63ae72e6_0d06_11ea_b729_f01faf02c4b2row7_col2\" class=\"data row7 col2\" >-0.00879</td>\n",
       "                        <td id=\"T_63ae72e6_0d06_11ea_b729_f01faf02c4b2row7_col3\" class=\"data row7 col3\" >-0.0325</td>\n",
       "                        <td id=\"T_63ae72e6_0d06_11ea_b729_f01faf02c4b2row7_col4\" class=\"data row7 col4\" >-0.00743</td>\n",
       "                        <td id=\"T_63ae72e6_0d06_11ea_b729_f01faf02c4b2row7_col5\" class=\"data row7 col5\" >0.00548</td>\n",
       "                        <td id=\"T_63ae72e6_0d06_11ea_b729_f01faf02c4b2row7_col6\" class=\"data row7 col6\" >-0.00609</td>\n",
       "                        <td id=\"T_63ae72e6_0d06_11ea_b729_f01faf02c4b2row7_col7\" class=\"data row7 col7\" >1</td>\n",
       "                        <td id=\"T_63ae72e6_0d06_11ea_b729_f01faf02c4b2row7_col8\" class=\"data row7 col8\" >-0.02</td>\n",
       "                        <td id=\"T_63ae72e6_0d06_11ea_b729_f01faf02c4b2row7_col9\" class=\"data row7 col9\" >0.0582</td>\n",
       "                        <td id=\"T_63ae72e6_0d06_11ea_b729_f01faf02c4b2row7_col10\" class=\"data row7 col10\" >0.00187</td>\n",
       "                        <td id=\"T_63ae72e6_0d06_11ea_b729_f01faf02c4b2row7_col11\" class=\"data row7 col11\" >-0.0155</td>\n",
       "                        <td id=\"T_63ae72e6_0d06_11ea_b729_f01faf02c4b2row7_col12\" class=\"data row7 col12\" >-0.00369</td>\n",
       "                        <td id=\"T_63ae72e6_0d06_11ea_b729_f01faf02c4b2row7_col13\" class=\"data row7 col13\" >-0.0044</td>\n",
       "            </tr>\n",
       "            <tr>\n",
       "                        <th id=\"T_63ae72e6_0d06_11ea_b729_f01faf02c4b2level0_row8\" class=\"row_heading level0 row8\" >mean_oxygen</th>\n",
       "                        <td id=\"T_63ae72e6_0d06_11ea_b729_f01faf02c4b2row8_col0\" class=\"data row8 col0\" >-0.66</td>\n",
       "                        <td id=\"T_63ae72e6_0d06_11ea_b729_f01faf02c4b2row8_col1\" class=\"data row8 col1\" >-0.000724</td>\n",
       "                        <td id=\"T_63ae72e6_0d06_11ea_b729_f01faf02c4b2row8_col2\" class=\"data row8 col2\" >0.802</td>\n",
       "                        <td id=\"T_63ae72e6_0d06_11ea_b729_f01faf02c4b2row8_col3\" class=\"data row8 col3\" >0.00433</td>\n",
       "                        <td id=\"T_63ae72e6_0d06_11ea_b729_f01faf02c4b2row8_col4\" class=\"data row8 col4\" >-0.394</td>\n",
       "                        <td id=\"T_63ae72e6_0d06_11ea_b729_f01faf02c4b2row8_col5\" class=\"data row8 col5\" >0.0106</td>\n",
       "                        <td id=\"T_63ae72e6_0d06_11ea_b729_f01faf02c4b2row8_col6\" class=\"data row8 col6\" >0.518</td>\n",
       "                        <td id=\"T_63ae72e6_0d06_11ea_b729_f01faf02c4b2row8_col7\" class=\"data row8 col7\" >-0.02</td>\n",
       "                        <td id=\"T_63ae72e6_0d06_11ea_b729_f01faf02c4b2row8_col8\" class=\"data row8 col8\" >1</td>\n",
       "                        <td id=\"T_63ae72e6_0d06_11ea_b729_f01faf02c4b2row8_col9\" class=\"data row8 col9\" >0.0234</td>\n",
       "                        <td id=\"T_63ae72e6_0d06_11ea_b729_f01faf02c4b2row8_col10\" class=\"data row8 col10\" >-0.544</td>\n",
       "                        <td id=\"T_63ae72e6_0d06_11ea_b729_f01faf02c4b2row8_col11\" class=\"data row8 col11\" >-0.203</td>\n",
       "                        <td id=\"T_63ae72e6_0d06_11ea_b729_f01faf02c4b2row8_col12\" class=\"data row8 col12\" >0.614</td>\n",
       "                        <td id=\"T_63ae72e6_0d06_11ea_b729_f01faf02c4b2row8_col13\" class=\"data row8 col13\" >0.554</td>\n",
       "            </tr>\n",
       "            <tr>\n",
       "                        <th id=\"T_63ae72e6_0d06_11ea_b729_f01faf02c4b2level0_row9\" class=\"row_heading level0 row9\" >hours-per-week</th>\n",
       "                        <td id=\"T_63ae72e6_0d06_11ea_b729_f01faf02c4b2row9_col0\" class=\"data row9 col0\" >-0.0189</td>\n",
       "                        <td id=\"T_63ae72e6_0d06_11ea_b729_f01faf02c4b2row9_col1\" class=\"data row9 col1\" >-0.0362</td>\n",
       "                        <td id=\"T_63ae72e6_0d06_11ea_b729_f01faf02c4b2row9_col2\" class=\"data row9 col2\" >0.0248</td>\n",
       "                        <td id=\"T_63ae72e6_0d06_11ea_b729_f01faf02c4b2row9_col3\" class=\"data row9 col3\" >0.0892</td>\n",
       "                        <td id=\"T_63ae72e6_0d06_11ea_b729_f01faf02c4b2row9_col4\" class=\"data row9 col4\" >-0.00605</td>\n",
       "                        <td id=\"T_63ae72e6_0d06_11ea_b729_f01faf02c4b2row9_col5\" class=\"data row9 col5\" >-0.0353</td>\n",
       "                        <td id=\"T_63ae72e6_0d06_11ea_b729_f01faf02c4b2row9_col6\" class=\"data row9 col6\" >0.0151</td>\n",
       "                        <td id=\"T_63ae72e6_0d06_11ea_b729_f01faf02c4b2row9_col7\" class=\"data row9 col7\" >0.0582</td>\n",
       "                        <td id=\"T_63ae72e6_0d06_11ea_b729_f01faf02c4b2row9_col8\" class=\"data row9 col8\" >0.0234</td>\n",
       "                        <td id=\"T_63ae72e6_0d06_11ea_b729_f01faf02c4b2row9_col9\" class=\"data row9 col9\" >1</td>\n",
       "                        <td id=\"T_63ae72e6_0d06_11ea_b729_f01faf02c4b2row9_col10\" class=\"data row9 col10\" >-0.00884</td>\n",
       "                        <td id=\"T_63ae72e6_0d06_11ea_b729_f01faf02c4b2row9_col11\" class=\"data row9 col11\" >-0.00513</td>\n",
       "                        <td id=\"T_63ae72e6_0d06_11ea_b729_f01faf02c4b2row9_col12\" class=\"data row9 col12\" >0.00893</td>\n",
       "                        <td id=\"T_63ae72e6_0d06_11ea_b729_f01faf02c4b2row9_col13\" class=\"data row9 col13\" >0.00687</td>\n",
       "            </tr>\n",
       "            <tr>\n",
       "                        <th id=\"T_63ae72e6_0d06_11ea_b729_f01faf02c4b2level0_row10\" class=\"row_heading level0 row10\" >mean_glucose</th>\n",
       "                        <td id=\"T_63ae72e6_0d06_11ea_b729_f01faf02c4b2row10_col0\" class=\"data row10 col0\" >0.473</td>\n",
       "                        <td id=\"T_63ae72e6_0d06_11ea_b729_f01faf02c4b2row10_col1\" class=\"data row10 col1\" >-0.011</td>\n",
       "                        <td id=\"T_63ae72e6_0d06_11ea_b729_f01faf02c4b2row10_col2\" class=\"data row10 col2\" >-0.561</td>\n",
       "                        <td id=\"T_63ae72e6_0d06_11ea_b729_f01faf02c4b2row10_col3\" class=\"data row10 col3\" >0.0165</td>\n",
       "                        <td id=\"T_63ae72e6_0d06_11ea_b729_f01faf02c4b2row10_col4\" class=\"data row10 col4\" >0.304</td>\n",
       "                        <td id=\"T_63ae72e6_0d06_11ea_b729_f01faf02c4b2row10_col5\" class=\"data row10 col5\" >0.0243</td>\n",
       "                        <td id=\"T_63ae72e6_0d06_11ea_b729_f01faf02c4b2row10_col6\" class=\"data row10 col6\" >-0.775</td>\n",
       "                        <td id=\"T_63ae72e6_0d06_11ea_b729_f01faf02c4b2row10_col7\" class=\"data row10 col7\" >0.00187</td>\n",
       "                        <td id=\"T_63ae72e6_0d06_11ea_b729_f01faf02c4b2row10_col8\" class=\"data row10 col8\" >-0.544</td>\n",
       "                        <td id=\"T_63ae72e6_0d06_11ea_b729_f01faf02c4b2row10_col9\" class=\"data row10 col9\" >-0.00884</td>\n",
       "                        <td id=\"T_63ae72e6_0d06_11ea_b729_f01faf02c4b2row10_col10\" class=\"data row10 col10\" >1</td>\n",
       "                        <td id=\"T_63ae72e6_0d06_11ea_b729_f01faf02c4b2row10_col11\" class=\"data row10 col11\" >0.645</td>\n",
       "                        <td id=\"T_63ae72e6_0d06_11ea_b729_f01faf02c4b2row10_col12\" class=\"data row10 col12\" >-0.901</td>\n",
       "                        <td id=\"T_63ae72e6_0d06_11ea_b729_f01faf02c4b2row10_col13\" class=\"data row10 col13\" >-0.82</td>\n",
       "            </tr>\n",
       "            <tr>\n",
       "                        <th id=\"T_63ae72e6_0d06_11ea_b729_f01faf02c4b2level0_row11\" class=\"row_heading level0 row11\" >std_glucose</th>\n",
       "                        <td id=\"T_63ae72e6_0d06_11ea_b729_f01faf02c4b2row11_col0\" class=\"data row11 col0\" >0.248</td>\n",
       "                        <td id=\"T_63ae72e6_0d06_11ea_b729_f01faf02c4b2row11_col1\" class=\"data row11 col1\" >-0.00491</td>\n",
       "                        <td id=\"T_63ae72e6_0d06_11ea_b729_f01faf02c4b2row11_col2\" class=\"data row11 col2\" >-0.275</td>\n",
       "                        <td id=\"T_63ae72e6_0d06_11ea_b729_f01faf02c4b2row11_col3\" class=\"data row11 col3\" >-0.00157</td>\n",
       "                        <td id=\"T_63ae72e6_0d06_11ea_b729_f01faf02c4b2row11_col4\" class=\"data row11 col4\" >0.191</td>\n",
       "                        <td id=\"T_63ae72e6_0d06_11ea_b729_f01faf02c4b2row11_col5\" class=\"data row11 col5\" >0.0153</td>\n",
       "                        <td id=\"T_63ae72e6_0d06_11ea_b729_f01faf02c4b2row11_col6\" class=\"data row11 col6\" >-0.5</td>\n",
       "                        <td id=\"T_63ae72e6_0d06_11ea_b729_f01faf02c4b2row11_col7\" class=\"data row11 col7\" >-0.0155</td>\n",
       "                        <td id=\"T_63ae72e6_0d06_11ea_b729_f01faf02c4b2row11_col8\" class=\"data row11 col8\" >-0.203</td>\n",
       "                        <td id=\"T_63ae72e6_0d06_11ea_b729_f01faf02c4b2row11_col9\" class=\"data row11 col9\" >-0.00513</td>\n",
       "                        <td id=\"T_63ae72e6_0d06_11ea_b729_f01faf02c4b2row11_col10\" class=\"data row11 col10\" >0.645</td>\n",
       "                        <td id=\"T_63ae72e6_0d06_11ea_b729_f01faf02c4b2row11_col11\" class=\"data row11 col11\" >1</td>\n",
       "                        <td id=\"T_63ae72e6_0d06_11ea_b729_f01faf02c4b2row11_col12\" class=\"data row11 col12\" >-0.644</td>\n",
       "                        <td id=\"T_63ae72e6_0d06_11ea_b729_f01faf02c4b2row11_col13\" class=\"data row11 col13\" >-0.646</td>\n",
       "            </tr>\n",
       "            <tr>\n",
       "                        <th id=\"T_63ae72e6_0d06_11ea_b729_f01faf02c4b2level0_row12\" class=\"row_heading level0 row12\" >kurtosis_glucose</th>\n",
       "                        <td id=\"T_63ae72e6_0d06_11ea_b729_f01faf02c4b2row12_col0\" class=\"data row12 col0\" >-0.538</td>\n",
       "                        <td id=\"T_63ae72e6_0d06_11ea_b729_f01faf02c4b2row12_col1\" class=\"data row12 col1\" >0.00871</td>\n",
       "                        <td id=\"T_63ae72e6_0d06_11ea_b729_f01faf02c4b2row12_col2\" class=\"data row12 col2\" >0.635</td>\n",
       "                        <td id=\"T_63ae72e6_0d06_11ea_b729_f01faf02c4b2row12_col3\" class=\"data row12 col3\" >-0.00871</td>\n",
       "                        <td id=\"T_63ae72e6_0d06_11ea_b729_f01faf02c4b2row12_col4\" class=\"data row12 col4\" >-0.347</td>\n",
       "                        <td id=\"T_63ae72e6_0d06_11ea_b729_f01faf02c4b2row12_col5\" class=\"data row12 col5\" >-0.0148</td>\n",
       "                        <td id=\"T_63ae72e6_0d06_11ea_b729_f01faf02c4b2row12_col6\" class=\"data row12 col6\" >0.785</td>\n",
       "                        <td id=\"T_63ae72e6_0d06_11ea_b729_f01faf02c4b2row12_col7\" class=\"data row12 col7\" >-0.00369</td>\n",
       "                        <td id=\"T_63ae72e6_0d06_11ea_b729_f01faf02c4b2row12_col8\" class=\"data row12 col8\" >0.614</td>\n",
       "                        <td id=\"T_63ae72e6_0d06_11ea_b729_f01faf02c4b2row12_col9\" class=\"data row12 col9\" >0.00893</td>\n",
       "                        <td id=\"T_63ae72e6_0d06_11ea_b729_f01faf02c4b2row12_col10\" class=\"data row12 col10\" >-0.901</td>\n",
       "                        <td id=\"T_63ae72e6_0d06_11ea_b729_f01faf02c4b2row12_col11\" class=\"data row12 col11\" >-0.644</td>\n",
       "                        <td id=\"T_63ae72e6_0d06_11ea_b729_f01faf02c4b2row12_col12\" class=\"data row12 col12\" >1</td>\n",
       "                        <td id=\"T_63ae72e6_0d06_11ea_b729_f01faf02c4b2row12_col13\" class=\"data row12 col13\" >0.966</td>\n",
       "            </tr>\n",
       "            <tr>\n",
       "                        <th id=\"T_63ae72e6_0d06_11ea_b729_f01faf02c4b2level0_row13\" class=\"row_heading level0 row13\" >skewness_glucose</th>\n",
       "                        <td id=\"T_63ae72e6_0d06_11ea_b729_f01faf02c4b2row13_col0\" class=\"data row13 col0\" >-0.478</td>\n",
       "                        <td id=\"T_63ae72e6_0d06_11ea_b729_f01faf02c4b2row13_col1\" class=\"data row13 col1\" >0.0138</td>\n",
       "                        <td id=\"T_63ae72e6_0d06_11ea_b729_f01faf02c4b2row13_col2\" class=\"data row13 col2\" >0.559</td>\n",
       "                        <td id=\"T_63ae72e6_0d06_11ea_b729_f01faf02c4b2row13_col3\" class=\"data row13 col3\" >-0.00367</td>\n",
       "                        <td id=\"T_63ae72e6_0d06_11ea_b729_f01faf02c4b2row13_col4\" class=\"data row13 col4\" >-0.308</td>\n",
       "                        <td id=\"T_63ae72e6_0d06_11ea_b729_f01faf02c4b2row13_col5\" class=\"data row13 col5\" >-0.0123</td>\n",
       "                        <td id=\"T_63ae72e6_0d06_11ea_b729_f01faf02c4b2row13_col6\" class=\"data row13 col6\" >0.676</td>\n",
       "                        <td id=\"T_63ae72e6_0d06_11ea_b729_f01faf02c4b2row13_col7\" class=\"data row13 col7\" >-0.0044</td>\n",
       "                        <td id=\"T_63ae72e6_0d06_11ea_b729_f01faf02c4b2row13_col8\" class=\"data row13 col8\" >0.554</td>\n",
       "                        <td id=\"T_63ae72e6_0d06_11ea_b729_f01faf02c4b2row13_col9\" class=\"data row13 col9\" >0.00687</td>\n",
       "                        <td id=\"T_63ae72e6_0d06_11ea_b729_f01faf02c4b2row13_col10\" class=\"data row13 col10\" >-0.82</td>\n",
       "                        <td id=\"T_63ae72e6_0d06_11ea_b729_f01faf02c4b2row13_col11\" class=\"data row13 col11\" >-0.646</td>\n",
       "                        <td id=\"T_63ae72e6_0d06_11ea_b729_f01faf02c4b2row13_col12\" class=\"data row13 col12\" >0.966</td>\n",
       "                        <td id=\"T_63ae72e6_0d06_11ea_b729_f01faf02c4b2row13_col13\" class=\"data row13 col13\" >1</td>\n",
       "            </tr>\n",
       "    </tbody></table>"
      ],
      "text/plain": [
       "<pandas.io.formats.style.Styler at 0x23463bef080>"
      ]
     },
     "execution_count": 157,
     "metadata": {},
     "output_type": "execute_result"
    }
   ],
   "source": [
    "corr = other.corr()\n",
    "corr.style.background_gradient(cmap='coolwarm').set_precision(3)"
   ]
  },
  {
   "cell_type": "markdown",
   "metadata": {},
   "source": [
    "### 2.2.2 mean_glucose a std_glucose"
   ]
  },
  {
   "cell_type": "code",
   "execution_count": 158,
   "metadata": {},
   "outputs": [
    {
     "data": {
      "text/plain": [
       "0.6454646090376697"
      ]
     },
     "execution_count": 158,
     "metadata": {},
     "output_type": "execute_result"
    }
   ],
   "source": [
    "other['mean_glucose'].corr(other['std_glucose'])"
   ]
  },
  {
   "cell_type": "code",
   "execution_count": 159,
   "metadata": {},
   "outputs": [
    {
     "data": {
      "text/plain": [
       "<matplotlib.axes._subplots.AxesSubplot at 0x2345cc18240>"
      ]
     },
     "execution_count": 159,
     "metadata": {},
     "output_type": "execute_result"
    },
    {
     "data": {
      "image/png": "[encoded data removed]",
      "text/plain": [
       "<Figure size 432x288 with 1 Axes>"
      ]
     },
     "metadata": {},
     "output_type": "display_data"
    }
   ],
   "source": [
    "sns.scatterplot(x='mean_glucose', y='std_glucose', hue='class', data=other, palette = ['blue', 'red'])"
   ]
  },
  {
   "cell_type": "markdown",
   "metadata": {},
   "source": [
    "### 2.2.3 skewness_oxygen a kurtosis_oxygen"
   ]
  },
  {
   "cell_type": "code",
   "execution_count": 160,
   "metadata": {},
   "outputs": [
    {
     "data": {
      "text/plain": [
       "0.9152409702436162"
      ]
     },
     "execution_count": 160,
     "metadata": {},
     "output_type": "execute_result"
    }
   ],
   "source": [
    "other['skewness_oxygen'].corr(other['kurtosis_oxygen'])"
   ]
  },
  {
   "cell_type": "code",
   "execution_count": 161,
   "metadata": {},
   "outputs": [
    {
     "data": {
      "text/plain": [
       "<matplotlib.axes._subplots.AxesSubplot at 0x23463c56320>"
      ]
     },
     "execution_count": 161,
     "metadata": {},
     "output_type": "execute_result"
    },
    {
     "data": {
      "image/png": "[encoded data removed]",
      "text/plain": [
       "<Figure size 432x288 with 1 Axes>"
      ]
     },
     "metadata": {},
     "output_type": "display_data"
    }
   ],
   "source": [
    "sns.scatterplot(x='skewness_oxygen', y='kurtosis_oxygen', hue='class', data=other, palette = ['blue', 'red'])"
   ]
  },
  {
   "cell_type": "markdown",
   "metadata": {},
   "source": [
    "### 2.2.4 std_oxygen a kurtosis_oxygen"
   ]
  },
  {
   "cell_type": "code",
   "execution_count": 162,
   "metadata": {},
   "outputs": [
    {
     "data": {
      "text/plain": [
       "-0.8434688216526309"
      ]
     },
     "execution_count": 162,
     "metadata": {},
     "output_type": "execute_result"
    }
   ],
   "source": [
    "other['std_oxygen'].corr(other['kurtosis_oxygen'])"
   ]
  },
  {
   "cell_type": "code",
   "execution_count": 163,
   "metadata": {},
   "outputs": [
    {
     "data": {
      "text/plain": [
       "<matplotlib.axes._subplots.AxesSubplot at 0x23463b0ff60>"
      ]
     },
     "execution_count": 163,
     "metadata": {},
     "output_type": "execute_result"
    },
    {
     "data": {
      "image/png": "[encoded data removed]",
      "text/plain": [
       "<Figure size 432x288 with 1 Axes>"
      ]
     },
     "metadata": {},
     "output_type": "display_data"
    }
   ],
   "source": [
    "sns.scatterplot(x='std_oxygen', y='kurtosis_oxygen', hue='class', data=other, palette = ['blue', 'red'])"
   ]
  },
  {
   "cell_type": "markdown",
   "metadata": {},
   "source": [
    "### 2.2.5 kurtosis_glucose a skewness_glucose"
   ]
  },
  {
   "cell_type": "code",
   "execution_count": 164,
   "metadata": {},
   "outputs": [
    {
     "data": {
      "text/plain": [
       "0.96595719995955"
      ]
     },
     "execution_count": 164,
     "metadata": {},
     "output_type": "execute_result"
    }
   ],
   "source": [
    "other['kurtosis_glucose'].corr(other['skewness_glucose'])"
   ]
  },
  {
   "cell_type": "code",
   "execution_count": 165,
   "metadata": {},
   "outputs": [
    {
     "data": {
      "text/plain": [
       "<matplotlib.axes._subplots.AxesSubplot at 0x23463cde908>"
      ]
     },
     "execution_count": 165,
     "metadata": {},
     "output_type": "execute_result"
    },
    {
     "data": {
      "image/png": "[encoded data removed]",
      "text/plain": [
       "<Figure size 432x288 with 1 Axes>"
      ]
     },
     "metadata": {},
     "output_type": "display_data"
    }
   ],
   "source": [
    "sns.scatterplot(x='kurtosis_glucose', y='skewness_glucose', hue='class', data=other, palette = ['blue', 'red'])"
   ]
  },
  {
   "cell_type": "markdown",
   "metadata": {},
   "source": [
    "### 2.2.6 kurtosis_glucose a mean_glucose"
   ]
  },
  {
   "cell_type": "code",
   "execution_count": 166,
   "metadata": {},
   "outputs": [
    {
     "data": {
      "text/plain": [
       "-0.9009069142625682"
      ]
     },
     "execution_count": 166,
     "metadata": {},
     "output_type": "execute_result"
    }
   ],
   "source": [
    "other['kurtosis_glucose'].corr(other['mean_glucose'])"
   ]
  },
  {
   "cell_type": "code",
   "execution_count": 167,
   "metadata": {},
   "outputs": [
    {
     "data": {
      "text/plain": [
       "<matplotlib.axes._subplots.AxesSubplot at 0x23463dfb710>"
      ]
     },
     "execution_count": 167,
     "metadata": {},
     "output_type": "execute_result"
    },
    {
     "data": {
      "image/png": "[encoded data removed]",
      "text/plain": [
       "<Figure size 432x288 with 1 Axes>"
      ]
     },
     "metadata": {},
     "output_type": "display_data"
    }
   ],
   "source": [
    "sns.scatterplot(x='kurtosis_glucose', y='mean_glucose', hue='class', data=other, palette = ['blue', 'red'])"
   ]
  },
  {
   "cell_type": "markdown",
   "metadata": {},
   "source": [
    "## 2.3 Korelácie s predikovanou premennou"
   ]
  },
  {
   "cell_type": "code",
   "execution_count": 168,
   "metadata": {},
   "outputs": [
    {
     "data": {
      "text/plain": [
       "kurtosis_oxygen    -0.555643\n",
       "education-num      -0.004584\n",
       "std_oxygen          0.650266\n",
       "capital-gain       -0.008443\n",
       "skewness_oxygen    -0.385221\n",
       "fnlwgt             -0.017244\n",
       "class               1.000000\n",
       "capital-loss       -0.006092\n",
       "mean_oxygen         0.518284\n",
       "hours-per-week      0.015091\n",
       "mean_glucose       -0.775109\n",
       "std_glucose        -0.500295\n",
       "kurtosis_glucose    0.784912\n",
       "skewness_glucose    0.675967\n",
       "Name: class, dtype: float64"
      ]
     },
     "execution_count": 168,
     "metadata": {},
     "output_type": "execute_result"
    }
   ],
   "source": [
    "other.corr()['class']"
   ]
  },
  {
   "cell_type": "markdown",
   "metadata": {},
   "source": [
    "Z výpisu vyššie môžeme vidieť, že s predikovanou premennou najviac koreluje atribút kurtosis_glucose. Ďalej tiež korelujú atribúty mean_glucose (nepriamo), skewness_glucose, std_oxygen a kurtosis_oxygen (nepriamo). Tieto atribúty by teda mohli potencíalne byť dobrými prediktoromi cukrovky v našom datasete."
   ]
  },
  {
   "cell_type": "markdown",
   "metadata": {},
   "source": [
    "# 3. Hypotézy \n",
    "\n",
    "* Ľudia s cukrovkou majú menšiu priemernú hladinu glukózy v krvi ako ľudia bez tohoto ochorenia \n",
    "* Ľudia s cukrovkou majú väčšiu priemernú hladinu kyslíku v krvi ako ľudia bez cukrovky\n",
    "\n",
    "## 3.1 Overenie prvej hypotézy\n",
    "\n",
    "### Shapiro-Wilkov test normálnosti:\n",
    "\n",
    "Nulová hypotéza: dáta pochádzajú z normálneho rozdelenia"
   ]
  },
  {
   "cell_type": "code",
   "execution_count": 169,
   "metadata": {
    "scrolled": false
   },
   "outputs": [
    {
     "data": {
      "text/plain": [
       "(0.9693278074264526, 9.085328924731892e-14)"
      ]
     },
     "execution_count": 169,
     "metadata": {},
     "output_type": "execute_result"
    }
   ],
   "source": [
    "diabetics = other[(other['class'] == 1) & (other['mean_glucose'].notnull())]['mean_glucose']\n",
    "st.shapiro(pd.Series(diabetics).values)"
   ]
  },
  {
   "cell_type": "code",
   "execution_count": 170,
   "metadata": {},
   "outputs": [
    {
     "data": {
      "text/plain": [
       "<matplotlib.axes._subplots.AxesSubplot at 0x23463e57fd0>"
      ]
     },
     "execution_count": 170,
     "metadata": {},
     "output_type": "execute_result"
    },
    {
     "data": {
      "image/png": "[encoded data removed]",
      "text/plain": [
       "<Figure size 432x288 with 1 Axes>"
      ]
     },
     "metadata": {},
     "output_type": "display_data"
    }
   ],
   "source": [
    "sns.distplot(diabetics.dropna(),bins=None,color = \"red\")"
   ]
  },
  {
   "cell_type": "code",
   "execution_count": 171,
   "metadata": {},
   "outputs": [
    {
     "data": {
      "text/plain": [
       "(0.9949914216995239, 1.8804081847179077e-08)"
      ]
     },
     "execution_count": 171,
     "metadata": {},
     "output_type": "execute_result"
    }
   ],
   "source": [
    "nondiabetics = other[(other['class'] == 0) & (other['mean_glucose'].notnull())]['mean_glucose']\n",
    "st.shapiro(pd.Series(nondiabetics).values)"
   ]
  },
  {
   "cell_type": "code",
   "execution_count": 172,
   "metadata": {},
   "outputs": [
    {
     "data": {
      "text/plain": [
       "<matplotlib.axes._subplots.AxesSubplot at 0x23464e6fa90>"
      ]
     },
     "execution_count": 172,
     "metadata": {},
     "output_type": "execute_result"
    },
    {
     "data": {
      "image/png": "[encoded data removed]",
      "text/plain": [
       "<Figure size 432x288 with 1 Axes>"
      ]
     },
     "metadata": {},
     "output_type": "display_data"
    }
   ],
   "source": [
    "sns.distplot(nondiabetics.dropna(),bins=None,color = \"blue\")"
   ]
  },
  {
   "cell_type": "markdown",
   "metadata": {},
   "source": [
    "V oboch prípadoch je p < 0.05, takže nulovú hypotézu zamietame, nakoľko dáta sú pravdepodobne z iného ako normálneho rozdelenia.\n",
    "\n",
    "### Levenov test:\n",
    "\n",
    "Nulová hypotéza: všetky vstupné vzorky pochádzajú z rozdelení s rovnakými varianciami."
   ]
  },
  {
   "cell_type": "code",
   "execution_count": 173,
   "metadata": {},
   "outputs": [
    {
     "data": {
      "text/plain": [
       "LeveneResult(statistic=724.8892563569756, pvalue=9.420031929389886e-147)"
      ]
     },
     "execution_count": 173,
     "metadata": {},
     "output_type": "execute_result"
    }
   ],
   "source": [
    "st.levene(diabetics, nondiabetics)"
   ]
  },
  {
   "cell_type": "markdown",
   "metadata": {},
   "source": [
    "Nakoľko p < 0.05, nulovú hypotézu zamietame.\n",
    "\n",
    "Keďže oba testy zlyhali, nesplnili sa predpoklady pre t-test a musíme použiť **Mann-Whitneyho U test**\n",
    "\n",
    "### Mann-Whitneyho U test:\n",
    "\n",
    "Nulová hypotéza: ľudia s cukrovkou majú rovnakú priemernú hladinu glukózy v krvi ako ľudia bez tohoto ochorenia."
   ]
  },
  {
   "cell_type": "code",
   "execution_count": 174,
   "metadata": {},
   "outputs": [
    {
     "data": {
      "text/plain": [
       "MannwhitneyuResult(statistic=144311.5, pvalue=0.0)"
      ]
     },
     "execution_count": 174,
     "metadata": {},
     "output_type": "execute_result"
    }
   ],
   "source": [
    "st.mannwhitneyu(diabetics, nondiabetics)"
   ]
  },
  {
   "cell_type": "markdown",
   "metadata": {},
   "source": [
    "Keďže p < 0.05, vieme povedať, že náhodne vybraná hodnota hladiny cukru v krvi človeka s cukrovkou je buď väčšia alebo menšia ako náhodne vybraná hodnota hladiny cukru v krvi človeka bez tohoto ochorenia. Nulovú hypotézu teda zamietame, čím potvrdzujeme našu hypotézu."
   ]
  },
  {
   "cell_type": "markdown",
   "metadata": {},
   "source": [
    "## 3.2 Overenie druhej hypotézy\n",
    "\n",
    "### Shapiro-Wilkov test normálnosti:"
   ]
  },
  {
   "cell_type": "code",
   "execution_count": 175,
   "metadata": {},
   "outputs": [
    {
     "data": {
      "text/plain": [
       "(0.8756073713302612, 1.202241160333327e-27)"
      ]
     },
     "execution_count": 175,
     "metadata": {},
     "output_type": "execute_result"
    }
   ],
   "source": [
    "diabetics = other[(other['class'] == 1) & (other['mean_oxygen'].notnull())]['mean_oxygen']\n",
    "st.shapiro(pd.Series(diabetics).values)"
   ]
  },
  {
   "cell_type": "code",
   "execution_count": 176,
   "metadata": {},
   "outputs": [
    {
     "data": {
      "text/plain": [
       "(0.3006325960159302, 0.0)"
      ]
     },
     "execution_count": 176,
     "metadata": {},
     "output_type": "execute_result"
    }
   ],
   "source": [
    "nondiabetics = other[(other['class'] == 0) & (other['mean_oxygen'].notnull())]['mean_oxygen']\n",
    "st.shapiro(pd.Series(nondiabetics).values)"
   ]
  },
  {
   "cell_type": "markdown",
   "metadata": {},
   "source": [
    "p < 0.05 v oboch prípadoch, takže nulovú hypotézu zamietame.\n",
    "\n",
    "### Levenov test:"
   ]
  },
  {
   "cell_type": "code",
   "execution_count": 177,
   "metadata": {},
   "outputs": [
    {
     "data": {
      "text/plain": [
       "LeveneResult(statistic=1055.732021554439, pvalue=1.6640861541989152e-205)"
      ]
     },
     "execution_count": 177,
     "metadata": {},
     "output_type": "execute_result"
    }
   ],
   "source": [
    "st.levene(diabetics, nondiabetics)"
   ]
  },
  {
   "cell_type": "markdown",
   "metadata": {},
   "source": [
    "Nakoľko nie sú splnené podmienky pre t-test, pretože p < 0.05, nulovú hypotézu zamietame a dáta otestujeme pomocou **Mann-Whitneyho U testu**\n",
    "\n",
    "### Mann-Whitneyho U test:\n",
    "\n",
    "Nulová hypotéza: ľudia s cukrovkou majú rovnakú priemernú hladinu kyslíku v krvi ako ľudia bez cukrovky"
   ]
  },
  {
   "cell_type": "code",
   "execution_count": 178,
   "metadata": {},
   "outputs": [
    {
     "data": {
      "text/plain": [
       "MannwhitneyuResult(statistic=310650.5, pvalue=4.7242842290638e-310)"
      ]
     },
     "execution_count": 178,
     "metadata": {},
     "output_type": "execute_result"
    }
   ],
   "source": [
    "st.mannwhitneyu(diabetics, nondiabetics)"
   ]
  },
  {
   "cell_type": "markdown",
   "metadata": {},
   "source": [
    "Keďže p < 0.05, nulovú hypotézu zamietame, čím potvrdzujeme našu hypotézu."
   ]
  },
  {
   "cell_type": "markdown",
   "metadata": {},
   "source": [
    "# 4. Identifikácia problémov a návrh ich riešenia"
   ]
  },
  {
   "cell_type": "markdown",
   "metadata": {},
   "source": [
    "## 4.1 Chýbajúce hodnoty"
   ]
  },
  {
   "cell_type": "code",
   "execution_count": 179,
   "metadata": {
    "scrolled": false
   },
   "outputs": [
    {
     "name": "stdout",
     "output_type": "stream",
     "text": [
      "<class 'pandas.core.frame.DataFrame'>\n",
      "RangeIndex: 3983 entries, 0 to 3982\n",
      "Data columns (total 25 columns):\n",
      "name                3983 non-null object\n",
      "address             3983 non-null object\n",
      "kurtosis_oxygen     3969 non-null float64\n",
      "occupation          3970 non-null object\n",
      "marital-status      3967 non-null object\n",
      "pregnant            3968 non-null object\n",
      "education-num       3572 non-null float64\n",
      "relationship        3969 non-null object\n",
      "std_oxygen          3968 non-null float64\n",
      "capital-gain        3969 non-null float64\n",
      "skewness_oxygen     3964 non-null float64\n",
      "education           3971 non-null object\n",
      "fnlwgt              3974 non-null float64\n",
      "class               3972 non-null float64\n",
      "income              3971 non-null object\n",
      "native-country      3966 non-null object\n",
      "capital-loss        3966 non-null float64\n",
      "mean_oxygen         3972 non-null float64\n",
      "hours-per-week      3967 non-null float64\n",
      "race                3970 non-null object\n",
      "workclass           3739 non-null object\n",
      "mean_glucose        3966 non-null float64\n",
      "std_glucose         3966 non-null float64\n",
      "kurtosis_glucose    3966 non-null float64\n",
      "skewness_glucose    3966 non-null float64\n",
      "dtypes: float64(14), object(11)\n",
      "memory usage: 778.1+ KB\n"
     ]
    }
   ],
   "source": [
    "other.info()"
   ]
  },
  {
   "cell_type": "markdown",
   "metadata": {},
   "source": [
    "Môžeme vidieť, že celkový počet záznamov je 3983. Z toho vyplýva, že všetky atribúty, ktoré majú menej záznamov, obsahujú aspoň jednu null hodnotu. V takomto prípade je potrebné hodnoty doplniť. Hodnoty však treba doplniť tak, aby neboli príliš vychýlené. V prípade číselných hodnôt môžeme doplniť medián, ale napríklad pri atribúte 'pregnant' treba rozlíšiť pohlavie a sa jedná o ženu, až potom sa pridelí hodnota na základe priemeru. \n",
    "\n",
    "Veľký problém môžu spôsobovať null hodnoty v predikovanej premennej, pretože na základe tejto hodnoty určujeme či má daný človek cukrovku alebo nie. Keďže hlavným cieľom projektu je vytvoriť model, ktorý sa naučí predikovať cukrovku na našom datasete, záznamy ktoré nemajú určenú triedu class nám nie sú k takmer žiadnemu užitku. Určite sa teda budú odstraňovať, no zatiaľ si ich môžme ponechať na presnejší výpočet mediánov alebo priemerov."
   ]
  },
  {
   "cell_type": "markdown",
   "metadata": {},
   "source": [
    "## 4.2 Nejednotné formáty dát\n",
    "\n",
    "Ako sme už spomínali v časti 1.3.3, dátum narodenia má niekoľko formátov zápisu, ktoré bude treba upraviť na jednotný zápis. Podobne bude potrebné skontrolovať a prípadne upraviť formát zápisu adresy, nakoľko na základe adresy a mena budeme spájať dataframy."
   ]
  },
  {
   "cell_type": "code",
   "execution_count": 180,
   "metadata": {},
   "outputs": [
    {
     "data": {
      "text/plain": [
       "0     17/06/1965\n",
       "1     1967-12-19\n",
       "2     1954-06-27\n",
       "3     1983-03-29\n",
       "4     1988-11-29\n",
       "5     1960-03-11\n",
       "6     74-08-11  \n",
       "7     1957-12-17\n",
       "8     1945-05-02\n",
       "9     1962-05-03\n",
       "10    1962-07-30\n",
       "11    1954-10-11\n",
       "12    1948-12-06\n",
       "13    1974-03-17\n",
       "14    73-04-28  \n",
       "Name: date_of_birth, dtype: object"
      ]
     },
     "execution_count": 180,
     "metadata": {},
     "output_type": "execute_result"
    }
   ],
   "source": [
    "personal['date_of_birth'].head(15)"
   ]
  },
  {
   "cell_type": "markdown",
   "metadata": {},
   "source": []
  },
  {
   "cell_type": "code",
   "execution_count": 181,
   "metadata": {},
   "outputs": [
    {
     "data": {
      "text/plain": [
       "array(['f', 'TRUE', 'FALSE', 'F', 't', nan, 'T'], dtype=object)"
      ]
     },
     "execution_count": 181,
     "metadata": {},
     "output_type": "execute_result"
    }
   ],
   "source": [
    "other[\"pregnant\"].unique()"
   ]
  },
  {
   "cell_type": "markdown",
   "metadata": {},
   "source": [
    "Atribút pregnant nadobúda množstvo rôznych hodnôt(6 + NaN), pričom reprezentuje len 2 stavy - človek je alebo nie je tehotný. Počet nadobúdaných hodnôt bude preto potrebné redukovať."
   ]
  },
  {
   "cell_type": "code",
   "execution_count": 182,
   "metadata": {},
   "outputs": [
    {
     "data": {
      "text/plain": [
       "array([' Other-service', ' Transport-moving', ' Prof-specialty',\n",
       "       ' Craft-repair', ' Exec-managerial', ' Machine-op-inspct',\n",
       "       ' Adm-clerical', ' Tech-support', ' Sales', ' Prof_specialty',\n",
       "       ' Farming-fishing', ' Machine_op_inspct', ' Tech_support',\n",
       "       ' Handlers-cleaners', ' ?', ' Craft_repair', ' Adm_clerical',\n",
       "       ' Protective-serv', ' Exec_managerial', ' Transport_moving',\n",
       "       ' Other_service', ' Farming_fishing', nan, ' Priv-house-serv',\n",
       "       ' Protective_serv', ' Armed-Forces', ' Priv_house_serv',\n",
       "       ' Handlers_cleaners'], dtype=object)"
      ]
     },
     "execution_count": 182,
     "metadata": {},
     "output_type": "execute_result"
    }
   ],
   "source": [
    "other[\"occupation\"].unique()"
   ]
  },
  {
   "cell_type": "code",
   "execution_count": 183,
   "metadata": {},
   "outputs": [
    {
     "data": {
      "text/plain": [
       "count     3970            \n",
       "unique    27              \n",
       "top        Exec-managerial\n",
       "freq      456             \n",
       "Name: occupation, dtype: object"
      ]
     },
     "execution_count": 183,
     "metadata": {},
     "output_type": "execute_result"
    }
   ],
   "source": [
    "other[\"occupation\"].describe()"
   ]
  },
  {
   "cell_type": "markdown",
   "metadata": {},
   "source": [
    "V atribúte \"occupation\" sa nachádza NaN a ?. Obe hodnoty by bolo potrebné nahradiť - napríklad hodnotou Exec-managerial, keďže sa jedná o najčastejšie sa vyskytujúcu hodnotu. V podstate pri všetkých záznamoch, v ktorých sa vyskytuje NaN budeme túto chýbajúcu hodnotu nahradzovať najčastejšie sa vyskytujúcou hodnotou."
   ]
  },
  {
   "cell_type": "code",
   "execution_count": 184,
   "metadata": {},
   "outputs": [
    {
     "data": {
      "text/plain": [
       "array([' United-States', ' Iran', ' Mexico', ' ?', ' Puerto-Rico',\n",
       "       ' Canada', ' Hong', ' Japan', ' Ecuador', ' Philippines',\n",
       "       ' Jamaica', ' Hungary', ' Vietnam', ' Poland', ' Nicaragua',\n",
       "       ' Guatemala', ' Columbia', ' Cuba', ' India', nan, ' Germany',\n",
       "       ' South', ' Haiti', ' Yugoslavia', ' Italy', ' China', ' Laos',\n",
       "       ' France', ' Peru', ' El-Salvador', ' England', ' Greece',\n",
       "       ' Portugal', ' Thailand', ' Trinadad&Tobago', ' Taiwan',\n",
       "       ' Dominican-Republic', ' Scotland', ' Ireland', ' Honduras'],\n",
       "      dtype=object)"
      ]
     },
     "execution_count": 184,
     "metadata": {},
     "output_type": "execute_result"
    }
   ],
   "source": [
    "other[\"native-country\"].unique()"
   ]
  },
  {
   "cell_type": "markdown",
   "metadata": {},
   "source": [
    "Hodnota \"?\" sa môže taktiež nahradiť najčastejšie sa vyskytujúcou hodnotou v danom atribúte."
   ]
  },
  {
   "cell_type": "markdown",
   "metadata": {},
   "source": [
    "## 4.3 Vychýlené hodnoty"
   ]
  },
  {
   "cell_type": "code",
   "execution_count": 185,
   "metadata": {},
   "outputs": [
    {
     "data": {
      "text/plain": [
       "count    3966.000000\n",
       "mean     101.214367 \n",
       "std      33.597457  \n",
       "min      6.187500   \n",
       "25%      87.736328  \n",
       "50%      110.613281 \n",
       "75%      124.115234 \n",
       "max      189.734375 \n",
       "Name: mean_glucose, dtype: float64"
      ]
     },
     "execution_count": 185,
     "metadata": {},
     "output_type": "execute_result"
    }
   ],
   "source": [
    "other.describe()[\"mean_glucose\"]"
   ]
  },
  {
   "cell_type": "code",
   "execution_count": 186,
   "metadata": {},
   "outputs": [
    {
     "data": {
      "text/plain": [
       "<matplotlib.axes._subplots.AxesSubplot at 0x23464fdb080>"
      ]
     },
     "execution_count": 186,
     "metadata": {},
     "output_type": "execute_result"
    },
    {
     "data": {
      "image/png": "[encoded data removed]",
      "text/plain": [
       "<Figure size 432x288 with 1 Axes>"
      ]
     },
     "metadata": {},
     "output_type": "display_data"
    }
   ],
   "source": [
    "other['mean_glucose'].plot(kind='box')"
   ]
  },
  {
   "cell_type": "code",
   "execution_count": 187,
   "metadata": {},
   "outputs": [
    {
     "data": {
      "text/plain": [
       "count    3972.000000\n",
       "mean     18.504313  \n",
       "std      34.837091  \n",
       "min      0.213211   \n",
       "25%      2.069189   \n",
       "50%      3.234532   \n",
       "75%      12.619983  \n",
       "max      217.371238 \n",
       "Name: mean_oxygen, dtype: float64"
      ]
     },
     "execution_count": 187,
     "metadata": {},
     "output_type": "execute_result"
    }
   ],
   "source": [
    "other.describe()[\"mean_oxygen\"]"
   ]
  },
  {
   "cell_type": "code",
   "execution_count": 188,
   "metadata": {},
   "outputs": [
    {
     "data": {
      "text/plain": [
       "<matplotlib.axes._subplots.AxesSubplot at 0x23465021ef0>"
      ]
     },
     "execution_count": 188,
     "metadata": {},
     "output_type": "execute_result"
    },
    {
     "data": {
      "image/png": "[encoded data removed]",
      "text/plain": [
       "<Figure size 432x288 with 1 Axes>"
      ]
     },
     "metadata": {},
     "output_type": "display_data"
    }
   ],
   "source": [
    "other['mean_oxygen'].plot(kind='box')"
   ]
  },
  {
   "cell_type": "code",
   "execution_count": 189,
   "metadata": {},
   "outputs": [
    {
     "data": {
      "text/plain": [
       "count    3966.000000\n",
       "mean     45.169444  \n",
       "std      7.629204   \n",
       "min      25.695250  \n",
       "25%      40.128532  \n",
       "50%      45.878359  \n",
       "75%      50.369118  \n",
       "max      91.206475  \n",
       "Name: std_glucose, dtype: float64"
      ]
     },
     "execution_count": 189,
     "metadata": {},
     "output_type": "execute_result"
    }
   ],
   "source": [
    "other.describe()['std_glucose']"
   ]
  },
  {
   "cell_type": "code",
   "execution_count": 190,
   "metadata": {},
   "outputs": [
    {
     "data": {
      "text/plain": [
       "<matplotlib.axes._subplots.AxesSubplot at 0x234650888d0>"
      ]
     },
     "execution_count": 190,
     "metadata": {},
     "output_type": "execute_result"
    },
    {
     "data": {
      "image/png": "[encoded data removed]",
      "text/plain": [
       "<Figure size 432x288 with 1 Axes>"
      ]
     },
     "metadata": {},
     "output_type": "display_data"
    }
   ],
   "source": [
    "other['std_glucose'].plot(kind='box')"
   ]
  },
  {
   "cell_type": "code",
   "execution_count": 191,
   "metadata": {},
   "outputs": [
    {
     "data": {
      "text/plain": [
       "count    3968.000000\n",
       "mean     31.158976  \n",
       "std      22.265708  \n",
       "min      7.370432   \n",
       "25%      15.064858  \n",
       "50%      20.579902  \n",
       "75%      43.229414  \n",
       "max      110.642211 \n",
       "Name: std_oxygen, dtype: float64"
      ]
     },
     "execution_count": 191,
     "metadata": {},
     "output_type": "execute_result"
    }
   ],
   "source": [
    "other.describe()['std_oxygen']"
   ]
  },
  {
   "cell_type": "code",
   "execution_count": 192,
   "metadata": {},
   "outputs": [
    {
     "data": {
      "text/plain": [
       "<matplotlib.axes._subplots.AxesSubplot at 0x234650900f0>"
      ]
     },
     "execution_count": 192,
     "metadata": {},
     "output_type": "execute_result"
    },
    {
     "data": {
      "image/png": "[encoded data removed]",
      "text/plain": [
       "<Figure size 432x288 with 1 Axes>"
      ]
     },
     "metadata": {},
     "output_type": "display_data"
    }
   ],
   "source": [
    "other['std_oxygen'].plot(kind='box')"
   ]
  },
  {
   "cell_type": "code",
   "execution_count": 193,
   "metadata": {},
   "outputs": [
    {
     "data": {
      "text/plain": [
       "count    3966.000000\n",
       "mean     1.012966   \n",
       "std      1.580512   \n",
       "min      0.000154   \n",
       "25%      0.141444   \n",
       "50%      0.331311   \n",
       "75%      0.811816   \n",
       "max      8.069522   \n",
       "Name: kurtosis_glucose, dtype: float64"
      ]
     },
     "execution_count": 193,
     "metadata": {},
     "output_type": "execute_result"
    }
   ],
   "source": [
    "other.describe()['kurtosis_glucose']"
   ]
  },
  {
   "cell_type": "code",
   "execution_count": 194,
   "metadata": {},
   "outputs": [
    {
     "data": {
      "text/plain": [
       "<matplotlib.axes._subplots.AxesSubplot at 0x2346513edd8>"
      ]
     },
     "execution_count": 194,
     "metadata": {},
     "output_type": "execute_result"
    },
    {
     "data": {
      "image/png": "[encoded data removed]",
      "text/plain": [
       "<Figure size 432x288 with 1 Axes>"
      ]
     },
     "metadata": {},
     "output_type": "display_data"
    }
   ],
   "source": [
    "other['kurtosis_glucose'].plot(kind='box')"
   ]
  },
  {
   "cell_type": "code",
   "execution_count": 195,
   "metadata": {},
   "outputs": [
    {
     "data": {
      "text/plain": [
       "count    3969.000000\n",
       "mean     7.423042   \n",
       "std      4.846216   \n",
       "min     -2.597872   \n",
       "25%      3.637833   \n",
       "50%      7.781618   \n",
       "75%      10.259075  \n",
       "max      34.539844  \n",
       "Name: kurtosis_oxygen, dtype: float64"
      ]
     },
     "execution_count": 195,
     "metadata": {},
     "output_type": "execute_result"
    }
   ],
   "source": [
    "other.describe()['kurtosis_oxygen']"
   ]
  },
  {
   "cell_type": "code",
   "execution_count": 196,
   "metadata": {},
   "outputs": [
    {
     "data": {
      "text/plain": [
       "<matplotlib.axes._subplots.AxesSubplot at 0x234651ae710>"
      ]
     },
     "execution_count": 196,
     "metadata": {},
     "output_type": "execute_result"
    },
    {
     "data": {
      "image/png": "[encoded data removed]",
      "text/plain": [
       "<Figure size 432x288 with 1 Axes>"
      ]
     },
     "metadata": {},
     "output_type": "display_data"
    }
   ],
   "source": [
    "other['kurtosis_oxygen'].plot(kind='box')"
   ]
  },
  {
   "cell_type": "code",
   "execution_count": 197,
   "metadata": {},
   "outputs": [
    {
     "data": {
      "text/plain": [
       "count    3966.000000\n",
       "mean     4.440400   \n",
       "std      9.647700   \n",
       "min      0.000108   \n",
       "25%      0.229751   \n",
       "50%      0.526528   \n",
       "75%      2.088449   \n",
       "max      68.101622  \n",
       "Name: skewness_glucose, dtype: float64"
      ]
     },
     "execution_count": 197,
     "metadata": {},
     "output_type": "execute_result"
    }
   ],
   "source": [
    "other.describe()['skewness_glucose']"
   ]
  },
  {
   "cell_type": "code",
   "execution_count": 198,
   "metadata": {},
   "outputs": [
    {
     "data": {
      "text/plain": [
       "<matplotlib.axes._subplots.AxesSubplot at 0x23465205b70>"
      ]
     },
     "execution_count": 198,
     "metadata": {},
     "output_type": "execute_result"
    },
    {
     "data": {
      "image/png": "[encoded data removed]",
      "text/plain": [
       "<Figure size 432x288 with 1 Axes>"
      ]
     },
     "metadata": {},
     "output_type": "display_data"
    }
   ],
   "source": [
    "other['skewness_glucose'].plot(kind='box')"
   ]
  },
  {
   "cell_type": "code",
   "execution_count": 199,
   "metadata": {},
   "outputs": [
    {
     "data": {
      "text/plain": [
       "count    3964.000000\n",
       "mean     91.795908  \n",
       "std      110.770563 \n",
       "min     -1.976976   \n",
       "25%      12.966818  \n",
       "50%      68.623477  \n",
       "75%      126.894595 \n",
       "max      1191.000837\n",
       "Name: skewness_oxygen, dtype: float64"
      ]
     },
     "execution_count": 199,
     "metadata": {},
     "output_type": "execute_result"
    }
   ],
   "source": [
    "other.describe()['skewness_oxygen']"
   ]
  },
  {
   "cell_type": "code",
   "execution_count": 200,
   "metadata": {},
   "outputs": [
    {
     "data": {
      "text/plain": [
       "<matplotlib.axes._subplots.AxesSubplot at 0x23465270cf8>"
      ]
     },
     "execution_count": 200,
     "metadata": {},
     "output_type": "execute_result"
    },
    {
     "data": {
      "image/png": "[encoded data removed]",
      "text/plain": [
       "<Figure size 432x288 with 1 Axes>"
      ]
     },
     "metadata": {},
     "output_type": "display_data"
    }
   ],
   "source": [
    "other['skewness_oxygen'].plot(kind='box')"
   ]
  },
  {
   "cell_type": "markdown",
   "metadata": {},
   "source": [
    "Taktiež sa nám v niekoľkých atribútoch líšia mierky, v ktorých je zapísaná daná hodnota. Napríklad v atribúte mean_glucose() sa nám nachádzajú hodnoty v rozpatí od 6 do 189. Pritom priemerná glukóza v krvi zdravého človeka máva hodnotu okolo 5. Prvá hranica je teda v rámci tejto normy, no druhá už musí byť zapísana v inom formáte a bude ju treba konvertovať. Podobná sitúacia nastáva aj v atribúte mean_oxygen (0.2 do 217)."
   ]
  },
  {
   "cell_type": "markdown",
   "metadata": {},
   "source": [
    "## 4.4 Nejednoznačné mapovanie"
   ]
  },
  {
   "cell_type": "code",
   "execution_count": 201,
   "metadata": {},
   "outputs": [
    {
     "data": {
      "text/plain": [
       "3983"
      ]
     },
     "execution_count": 201,
     "metadata": {},
     "output_type": "execute_result"
    }
   ],
   "source": [
    "len(other)"
   ]
  },
  {
   "cell_type": "code",
   "execution_count": 202,
   "metadata": {},
   "outputs": [
    {
     "data": {
      "text/plain": [
       "3933"
      ]
     },
     "execution_count": 202,
     "metadata": {},
     "output_type": "execute_result"
    }
   ],
   "source": [
    "len(personal)"
   ]
  },
  {
   "cell_type": "markdown",
   "metadata": {},
   "source": [
    "Vidíme, že sa nám nezhoduje počet záznamov medzi oboma datasetmi. Znamená to, že ich nemôžme na seba priamo namapovať pokiaľ tento problém nevyriešime. Spôsobený môže byť napríklad duplicitnými alebo úplne chýbajúcimi záznamami."
   ]
  },
  {
   "cell_type": "markdown",
   "metadata": {},
   "source": [
    "## 4.5 Nevhodná štruktúra dát\n",
    "Pri prvotnom načítaní datasetu other_train.csv sme mali v jednom atribúte medical info uložené 4 numerické hodnoty - mean_glucose, std_glucose, kurtosis_glucose a skewness_glucose. Už sme ich však rozdelili na 4 nové atribúty, čiže tento problém by už mal byť vyriešený."
   ]
  },
  {
   "cell_type": "markdown",
   "metadata": {},
   "source": [
    "# 5. Predspracovanie"
   ]
  },
  {
   "cell_type": "markdown",
   "metadata": {},
   "source": [
    "## 5.1 Integrácia dát a deduplikácia záznamov\n",
    "Keďže sme po porovnaní dĺžky záznamov v oboch datasetoch videli, že sa ich dĺžky odlišujú, je pravdepobodné, že v datasete other(keďže mal viac záznamov) sa budú nachádzať nejaké duplikáty. Preto si vypíšeme všetky duplikáty. Vo výpise môžeme vidieť, že máme 99 duplikátov."
   ]
  },
  {
   "cell_type": "code",
   "execution_count": 237,
   "metadata": {},
   "outputs": [
    {
     "data": {
      "text/html": [
       "<div>\n",
       "<style scoped>\n",
       "    .dataframe tbody tr th:only-of-type {\n",
       "        vertical-align: middle;\n",
       "    }\n",
       "\n",
       "    .dataframe tbody tr th {\n",
       "        vertical-align: top;\n",
       "    }\n",
       "\n",
       "    .dataframe thead th {\n",
       "        text-align: right;\n",
       "    }\n",
       "</style>\n",
       "<table border=\"1\" class=\"dataframe\">\n",
       "  <thead>\n",
       "    <tr style=\"text-align: right;\">\n",
       "      <th></th>\n",
       "      <th>name</th>\n",
       "      <th>address</th>\n",
       "      <th>kurtosis_oxygen</th>\n",
       "      <th>occupation</th>\n",
       "      <th>marital-status</th>\n",
       "      <th>pregnant</th>\n",
       "      <th>education-num</th>\n",
       "      <th>relationship</th>\n",
       "      <th>std_oxygen</th>\n",
       "      <th>capital-gain</th>\n",
       "      <th>...</th>\n",
       "      <th>native-country</th>\n",
       "      <th>capital-loss</th>\n",
       "      <th>mean_oxygen</th>\n",
       "      <th>hours-per-week</th>\n",
       "      <th>race</th>\n",
       "      <th>workclass</th>\n",
       "      <th>mean_glucose</th>\n",
       "      <th>std_glucose</th>\n",
       "      <th>kurtosis_glucose</th>\n",
       "      <th>skewness_glucose</th>\n",
       "    </tr>\n",
       "  </thead>\n",
       "  <tbody>\n",
       "    <tr>\n",
       "      <td>2056</td>\n",
       "      <td>Aaron Noman</td>\n",
       "      <td>PSC 0351, Box 8841\\r\\nAPO AA 86063</td>\n",
       "      <td>7.439684</td>\n",
       "      <td>NaN</td>\n",
       "      <td>NaN</td>\n",
       "      <td>f</td>\n",
       "      <td>NaN</td>\n",
       "      <td>Husband</td>\n",
       "      <td>20.851866</td>\n",
       "      <td>0.0</td>\n",
       "      <td>...</td>\n",
       "      <td>United-States</td>\n",
       "      <td>0.0</td>\n",
       "      <td>3.191472</td>\n",
       "      <td>40.0</td>\n",
       "      <td>White</td>\n",
       "      <td>?</td>\n",
       "      <td>101.132812</td>\n",
       "      <td>37.641062</td>\n",
       "      <td>0.477774</td>\n",
       "      <td>1.535555</td>\n",
       "    </tr>\n",
       "    <tr>\n",
       "      <td>2230</td>\n",
       "      <td>Aaron Noman</td>\n",
       "      <td>PSC 0351, Box 8841\\r\\nAPO AA 86063</td>\n",
       "      <td>NaN</td>\n",
       "      <td>?</td>\n",
       "      <td>Married-civ-spouse</td>\n",
       "      <td>f</td>\n",
       "      <td>900.0</td>\n",
       "      <td>Husband</td>\n",
       "      <td>20.851866</td>\n",
       "      <td>NaN</td>\n",
       "      <td>...</td>\n",
       "      <td>United-States</td>\n",
       "      <td>0.0</td>\n",
       "      <td>3.191472</td>\n",
       "      <td>40.0</td>\n",
       "      <td>White</td>\n",
       "      <td>?</td>\n",
       "      <td>101.132812</td>\n",
       "      <td>37.641062</td>\n",
       "      <td>0.477774</td>\n",
       "      <td>1.535555</td>\n",
       "    </tr>\n",
       "    <tr>\n",
       "      <td>1006</td>\n",
       "      <td>Alexander Mohammad</td>\n",
       "      <td>PSC 9812, Box 2337\\r\\nAPO AA 80493</td>\n",
       "      <td>8.283575</td>\n",
       "      <td>NaN</td>\n",
       "      <td>Never-married</td>\n",
       "      <td>f</td>\n",
       "      <td>14.0</td>\n",
       "      <td>Not-in-family</td>\n",
       "      <td>22.148724</td>\n",
       "      <td>NaN</td>\n",
       "      <td>...</td>\n",
       "      <td>NaN</td>\n",
       "      <td>0.0</td>\n",
       "      <td>2.923077</td>\n",
       "      <td>NaN</td>\n",
       "      <td>White</td>\n",
       "      <td>State-gov</td>\n",
       "      <td>NaN</td>\n",
       "      <td>NaN</td>\n",
       "      <td>NaN</td>\n",
       "      <td>NaN</td>\n",
       "    </tr>\n",
       "    <tr>\n",
       "      <td>468</td>\n",
       "      <td>Alexander Mohammad</td>\n",
       "      <td>PSC 9812, Box 2337\\r\\nAPO AA 80493</td>\n",
       "      <td>8.283575</td>\n",
       "      <td>Prof-specialty</td>\n",
       "      <td>Never-married</td>\n",
       "      <td>f</td>\n",
       "      <td>14.0</td>\n",
       "      <td>Not-in-family</td>\n",
       "      <td>22.148724</td>\n",
       "      <td>0.0</td>\n",
       "      <td>...</td>\n",
       "      <td>United-States</td>\n",
       "      <td>0.0</td>\n",
       "      <td>2.923077</td>\n",
       "      <td>40.0</td>\n",
       "      <td>White</td>\n",
       "      <td>State-gov</td>\n",
       "      <td>119.523438</td>\n",
       "      <td>56.555002</td>\n",
       "      <td>0.057768</td>\n",
       "      <td>0.736245</td>\n",
       "    </tr>\n",
       "    <tr>\n",
       "      <td>3102</td>\n",
       "      <td>Alfred Hall</td>\n",
       "      <td>71320 John Forks\\r\\nWest Ashley, NH 21322</td>\n",
       "      <td>6.716207</td>\n",
       "      <td>Adm-clerical</td>\n",
       "      <td>Widowed</td>\n",
       "      <td>f</td>\n",
       "      <td>900.0</td>\n",
       "      <td>Unmarried</td>\n",
       "      <td>19.496749</td>\n",
       "      <td>0.0</td>\n",
       "      <td>...</td>\n",
       "      <td>NaN</td>\n",
       "      <td>0.0</td>\n",
       "      <td>3.723244</td>\n",
       "      <td>40.0</td>\n",
       "      <td>NaN</td>\n",
       "      <td>NaN</td>\n",
       "      <td>108.273438</td>\n",
       "      <td>34.664624</td>\n",
       "      <td>0.503002</td>\n",
       "      <td>2.078418</td>\n",
       "    </tr>\n",
       "    <tr>\n",
       "      <td>...</td>\n",
       "      <td>...</td>\n",
       "      <td>...</td>\n",
       "      <td>...</td>\n",
       "      <td>...</td>\n",
       "      <td>...</td>\n",
       "      <td>...</td>\n",
       "      <td>...</td>\n",
       "      <td>...</td>\n",
       "      <td>...</td>\n",
       "      <td>...</td>\n",
       "      <td>...</td>\n",
       "      <td>...</td>\n",
       "      <td>...</td>\n",
       "      <td>...</td>\n",
       "      <td>...</td>\n",
       "      <td>...</td>\n",
       "      <td>...</td>\n",
       "      <td>...</td>\n",
       "      <td>...</td>\n",
       "      <td>...</td>\n",
       "      <td>...</td>\n",
       "    </tr>\n",
       "    <tr>\n",
       "      <td>1216</td>\n",
       "      <td>Thomas Taylor</td>\n",
       "      <td>78667 Hernandez Mount\\r\\nClarkborough, WA 22409</td>\n",
       "      <td>-1.785377</td>\n",
       "      <td>NaN</td>\n",
       "      <td>Divorced</td>\n",
       "      <td>f</td>\n",
       "      <td>12.0</td>\n",
       "      <td>NaN</td>\n",
       "      <td>59.737720</td>\n",
       "      <td>4101.0</td>\n",
       "      <td>...</td>\n",
       "      <td>United-States</td>\n",
       "      <td>NaN</td>\n",
       "      <td>176.119565</td>\n",
       "      <td>40.0</td>\n",
       "      <td>White</td>\n",
       "      <td>Private</td>\n",
       "      <td>44.867188</td>\n",
       "      <td>45.693334</td>\n",
       "      <td>2.888739</td>\n",
       "      <td>8.810673</td>\n",
       "    </tr>\n",
       "    <tr>\n",
       "      <td>3526</td>\n",
       "      <td>Walter Smith</td>\n",
       "      <td>00546 Stephanie Course\\r\\nEast Bryanhaven, KS 26304</td>\n",
       "      <td>7.337484</td>\n",
       "      <td>Prof-specialty</td>\n",
       "      <td>NaN</td>\n",
       "      <td>f</td>\n",
       "      <td>13.0</td>\n",
       "      <td>Unmarried</td>\n",
       "      <td>21.531941</td>\n",
       "      <td>0.0</td>\n",
       "      <td>...</td>\n",
       "      <td>United-States</td>\n",
       "      <td>0.0</td>\n",
       "      <td>3.510033</td>\n",
       "      <td>40.0</td>\n",
       "      <td>White</td>\n",
       "      <td>private</td>\n",
       "      <td>106.945312</td>\n",
       "      <td>47.051220</td>\n",
       "      <td>0.153808</td>\n",
       "      <td>0.336252</td>\n",
       "    </tr>\n",
       "    <tr>\n",
       "      <td>3688</td>\n",
       "      <td>Walter Smith</td>\n",
       "      <td>00546 Stephanie Course\\r\\nEast Bryanhaven, KS 26304</td>\n",
       "      <td>7.337484</td>\n",
       "      <td>Prof-specialty</td>\n",
       "      <td>Never-married</td>\n",
       "      <td>f</td>\n",
       "      <td>13.0</td>\n",
       "      <td>Unmarried</td>\n",
       "      <td>NaN</td>\n",
       "      <td>NaN</td>\n",
       "      <td>...</td>\n",
       "      <td>United-States</td>\n",
       "      <td>0.0</td>\n",
       "      <td>3.510033</td>\n",
       "      <td>NaN</td>\n",
       "      <td>White</td>\n",
       "      <td>private</td>\n",
       "      <td>106.945312</td>\n",
       "      <td>47.051220</td>\n",
       "      <td>0.153808</td>\n",
       "      <td>0.336252</td>\n",
       "    </tr>\n",
       "    <tr>\n",
       "      <td>694</td>\n",
       "      <td>Willie Newsome</td>\n",
       "      <td>59886 Green Cape\\r\\nEast Patricia, AR 93136</td>\n",
       "      <td>0.993161</td>\n",
       "      <td>NaN</td>\n",
       "      <td>NaN</td>\n",
       "      <td>NaN</td>\n",
       "      <td>-900.0</td>\n",
       "      <td>Not-in-family</td>\n",
       "      <td>82.875369</td>\n",
       "      <td>0.0</td>\n",
       "      <td>...</td>\n",
       "      <td>United-States</td>\n",
       "      <td>0.0</td>\n",
       "      <td>59.987458</td>\n",
       "      <td>45.0</td>\n",
       "      <td>White</td>\n",
       "      <td>Private</td>\n",
       "      <td>108.632812</td>\n",
       "      <td>51.133537</td>\n",
       "      <td>0.743157</td>\n",
       "      <td>0.647276</td>\n",
       "    </tr>\n",
       "    <tr>\n",
       "      <td>2666</td>\n",
       "      <td>Willie Newsome</td>\n",
       "      <td>59886 Green Cape\\r\\nEast Patricia, AR 93136</td>\n",
       "      <td>0.993161</td>\n",
       "      <td>Transport-moving</td>\n",
       "      <td>Never-married</td>\n",
       "      <td>NaN</td>\n",
       "      <td>-900.0</td>\n",
       "      <td>Not-in-family</td>\n",
       "      <td>82.875369</td>\n",
       "      <td>0.0</td>\n",
       "      <td>...</td>\n",
       "      <td>United-States</td>\n",
       "      <td>0.0</td>\n",
       "      <td>59.987458</td>\n",
       "      <td>45.0</td>\n",
       "      <td>White</td>\n",
       "      <td>Private</td>\n",
       "      <td>108.632812</td>\n",
       "      <td>51.133537</td>\n",
       "      <td>0.743157</td>\n",
       "      <td>0.647276</td>\n",
       "    </tr>\n",
       "  </tbody>\n",
       "</table>\n",
       "<p>99 rows × 25 columns</p>\n",
       "</div>"
      ],
      "text/plain": [
       "                    name                                              address  \\\n",
       "2056  Aaron Noman         PSC 0351, Box 8841\\r\\nAPO AA 86063                    \n",
       "2230  Aaron Noman         PSC 0351, Box 8841\\r\\nAPO AA 86063                    \n",
       "1006  Alexander Mohammad  PSC 9812, Box 2337\\r\\nAPO AA 80493                    \n",
       "468   Alexander Mohammad  PSC 9812, Box 2337\\r\\nAPO AA 80493                    \n",
       "3102  Alfred Hall         71320 John Forks\\r\\nWest Ashley, NH 21322             \n",
       "...           ...                                               ...             \n",
       "1216  Thomas Taylor       78667 Hernandez Mount\\r\\nClarkborough, WA 22409       \n",
       "3526  Walter Smith        00546 Stephanie Course\\r\\nEast Bryanhaven, KS 26304   \n",
       "3688  Walter Smith        00546 Stephanie Course\\r\\nEast Bryanhaven, KS 26304   \n",
       "694   Willie Newsome      59886 Green Cape\\r\\nEast Patricia, AR 93136           \n",
       "2666  Willie Newsome      59886 Green Cape\\r\\nEast Patricia, AR 93136           \n",
       "\n",
       "      kurtosis_oxygen         occupation       marital-status pregnant  \\\n",
       "2056  7.439684         NaN                NaN                  f         \n",
       "2230 NaN                ?                  Married-civ-spouse  f         \n",
       "1006  8.283575         NaN                 Never-married       f         \n",
       "468   8.283575          Prof-specialty     Never-married       f         \n",
       "3102  6.716207          Adm-clerical       Widowed             f         \n",
       "...        ...                   ...           ...            ..         \n",
       "1216 -1.785377         NaN                 Divorced            f         \n",
       "3526  7.337484          Prof-specialty    NaN                  f         \n",
       "3688  7.337484          Prof-specialty     Never-married       f         \n",
       "694   0.993161         NaN                NaN                  NaN       \n",
       "2666  0.993161          Transport-moving   Never-married       NaN       \n",
       "\n",
       "      education-num    relationship  std_oxygen  capital-gain  ...  \\\n",
       "2056 NaN              Husband        20.851866   0.0           ...   \n",
       "2230  900.0           Husband        20.851866  NaN            ...   \n",
       "1006  14.0            Not-in-family  22.148724  NaN            ...   \n",
       "468   14.0            Not-in-family  22.148724   0.0           ...   \n",
       "3102  900.0           Unmarried      19.496749   0.0           ...   \n",
       "...     ...                 ...            ...   ...           ...   \n",
       "1216  12.0           NaN             59.737720   4101.0        ...   \n",
       "3526  13.0            Unmarried      21.531941   0.0           ...   \n",
       "3688  13.0            Unmarried     NaN         NaN            ...   \n",
       "694  -900.0           Not-in-family  82.875369   0.0           ...   \n",
       "2666 -900.0           Not-in-family  82.875369   0.0           ...   \n",
       "\n",
       "      native-country capital-loss  mean_oxygen  hours-per-week    race  \\\n",
       "2056   United-States  0.0          3.191472     40.0             White   \n",
       "2230   United-States  0.0          3.191472     40.0             White   \n",
       "1006  NaN             0.0          2.923077    NaN               White   \n",
       "468    United-States  0.0          2.923077     40.0             White   \n",
       "3102  NaN             0.0          3.723244     40.0            NaN      \n",
       "...   ...             ...               ...      ...            ...      \n",
       "1216   United-States NaN           176.119565   40.0             White   \n",
       "3526   United-States  0.0          3.510033     40.0             White   \n",
       "3688   United-States  0.0          3.510033    NaN               White   \n",
       "694    United-States  0.0          59.987458    45.0             White   \n",
       "2666   United-States  0.0          59.987458    45.0             White   \n",
       "\n",
       "       workclass  mean_glucose  std_glucose  kurtosis_glucose skewness_glucose  \n",
       "2056   ?          101.132812    37.641062    0.477774          1.535555         \n",
       "2230   ?          101.132812    37.641062    0.477774          1.535555         \n",
       "1006   State-gov NaN           NaN          NaN               NaN               \n",
       "468    State-gov  119.523438    56.555002    0.057768          0.736245         \n",
       "3102  NaN         108.273438    34.664624    0.503002          2.078418         \n",
       "...   ...                ...          ...         ...               ...         \n",
       "1216   Private    44.867188     45.693334    2.888739          8.810673         \n",
       "3526  private     106.945312    47.051220    0.153808          0.336252         \n",
       "3688  private     106.945312    47.051220    0.153808          0.336252         \n",
       "694    Private    108.632812    51.133537    0.743157          0.647276         \n",
       "2666   Private    108.632812    51.133537    0.743157          0.647276         \n",
       "\n",
       "[99 rows x 25 columns]"
      ]
     },
     "execution_count": 237,
     "metadata": {},
     "output_type": "execute_result"
    }
   ],
   "source": [
    "other[other[['name', 'address']].duplicated(keep=False)].sort_values(\"name\")"
   ]
  },
  {
   "cell_type": "code",
   "execution_count": 238,
   "metadata": {},
   "outputs": [
    {
     "data": {
      "text/plain": [
       "3933"
      ]
     },
     "execution_count": 238,
     "metadata": {},
     "output_type": "execute_result"
    }
   ],
   "source": [
    "final = other.groupby([\"name\", \"address\"]).first().reset_index()\n",
    "len(final)"
   ]
  },
  {
   "cell_type": "code",
   "execution_count": 239,
   "metadata": {},
   "outputs": [
    {
     "data": {
      "text/plain": [
       "3933"
      ]
     },
     "execution_count": 239,
     "metadata": {},
     "output_type": "execute_result"
    }
   ],
   "source": [
    "len(personal)"
   ]
  },
  {
   "cell_type": "markdown",
   "metadata": {},
   "source": [
    "Vidíme, že po odstránení duplikátov sa nám zhodujú dĺžky datasetov. Prišiel teda čas ich spojiť do jedného datasetu, ktorý nazveme train. Taktiež si môžeme všimnúť, že po odstránení duplikátov sa nám pomerne výrazne znížil počet null hodnôt v jednotlivých atribútoch datasetu. Napríklad pri hodnotách hovoriacich o hladine glukózy a kyslíka v krvi nám už chýba iba 1 hodnota - konkrétne pri atribúte skewness_glucose. Na porovnanie v datasete other (teda pôvodný dataset pred vykonaním deduplikácie) nám chýbalo cca 10-20 hodnôt pri každom z týchto atribútov."
   ]
  },
  {
   "cell_type": "code",
   "execution_count": 240,
   "metadata": {},
   "outputs": [
    {
     "name": "stdout",
     "output_type": "stream",
     "text": [
      "<class 'pandas.core.frame.DataFrame'>\n",
      "RangeIndex: 3933 entries, 0 to 3932\n",
      "Data columns (total 25 columns):\n",
      "name                3933 non-null object\n",
      "address             3933 non-null object\n",
      "kurtosis_oxygen     3933 non-null float64\n",
      "occupation          3933 non-null object\n",
      "marital-status      3933 non-null object\n",
      "pregnant            3931 non-null object\n",
      "education-num       3539 non-null float64\n",
      "relationship        3933 non-null object\n",
      "std_oxygen          3933 non-null float64\n",
      "capital-gain        3933 non-null float64\n",
      "skewness_oxygen     3932 non-null float64\n",
      "education           3933 non-null object\n",
      "fnlwgt              3933 non-null float64\n",
      "class               3933 non-null float64\n",
      "income              3933 non-null object\n",
      "native-country      3931 non-null object\n",
      "capital-loss        3932 non-null float64\n",
      "mean_oxygen         3933 non-null float64\n",
      "hours-per-week      3932 non-null float64\n",
      "race                3933 non-null object\n",
      "workclass           3700 non-null object\n",
      "mean_glucose        3933 non-null float64\n",
      "std_glucose         3933 non-null float64\n",
      "kurtosis_glucose    3933 non-null float64\n",
      "skewness_glucose    3933 non-null float64\n",
      "dtypes: float64(14), object(11)\n",
      "memory usage: 768.3+ KB\n"
     ]
    }
   ],
   "source": [
    "final.info()"
   ]
  },
  {
   "cell_type": "code",
   "execution_count": 241,
   "metadata": {},
   "outputs": [
    {
     "data": {
      "text/html": [
       "<div>\n",
       "<style scoped>\n",
       "    .dataframe tbody tr th:only-of-type {\n",
       "        vertical-align: middle;\n",
       "    }\n",
       "\n",
       "    .dataframe tbody tr th {\n",
       "        vertical-align: top;\n",
       "    }\n",
       "\n",
       "    .dataframe thead th {\n",
       "        text-align: right;\n",
       "    }\n",
       "</style>\n",
       "<table border=\"1\" class=\"dataframe\">\n",
       "  <thead>\n",
       "    <tr style=\"text-align: right;\">\n",
       "      <th></th>\n",
       "      <th>age</th>\n",
       "      <th>kurtosis_oxygen</th>\n",
       "      <th>education-num</th>\n",
       "      <th>std_oxygen</th>\n",
       "      <th>capital-gain</th>\n",
       "      <th>skewness_oxygen</th>\n",
       "      <th>fnlwgt</th>\n",
       "      <th>class</th>\n",
       "      <th>capital-loss</th>\n",
       "      <th>mean_oxygen</th>\n",
       "      <th>hours-per-week</th>\n",
       "      <th>mean_glucose</th>\n",
       "      <th>std_glucose</th>\n",
       "      <th>kurtosis_glucose</th>\n",
       "      <th>skewness_glucose</th>\n",
       "    </tr>\n",
       "  </thead>\n",
       "  <tbody>\n",
       "    <tr>\n",
       "      <td>count</td>\n",
       "      <td>3933.000000</td>\n",
       "      <td>3933.000000</td>\n",
       "      <td>3539.000000</td>\n",
       "      <td>3933.000000</td>\n",
       "      <td>3933.000000</td>\n",
       "      <td>3932.000000</td>\n",
       "      <td>3933.000000</td>\n",
       "      <td>3933.000000</td>\n",
       "      <td>3932.000000</td>\n",
       "      <td>3933.000000</td>\n",
       "      <td>3932.000000</td>\n",
       "      <td>3933.000000</td>\n",
       "      <td>3933.000000</td>\n",
       "      <td>3933.000000</td>\n",
       "      <td>3933.000000</td>\n",
       "    </tr>\n",
       "    <tr>\n",
       "      <td>mean</td>\n",
       "      <td>51.830409</td>\n",
       "      <td>7.413506</td>\n",
       "      <td>12.735801</td>\n",
       "      <td>31.153471</td>\n",
       "      <td>1122.053649</td>\n",
       "      <td>91.321898</td>\n",
       "      <td>190983.830664</td>\n",
       "      <td>0.255276</td>\n",
       "      <td>88.158952</td>\n",
       "      <td>18.476772</td>\n",
       "      <td>40.731180</td>\n",
       "      <td>101.277271</td>\n",
       "      <td>45.174684</td>\n",
       "      <td>1.009346</td>\n",
       "      <td>4.416022</td>\n",
       "    </tr>\n",
       "    <tr>\n",
       "      <td>std</td>\n",
       "      <td>11.784733</td>\n",
       "      <td>4.812170</td>\n",
       "      <td>331.392504</td>\n",
       "      <td>22.267181</td>\n",
       "      <td>7552.465655</td>\n",
       "      <td>108.556015</td>\n",
       "      <td>104075.857757</td>\n",
       "      <td>0.436072</td>\n",
       "      <td>402.222704</td>\n",
       "      <td>34.789202</td>\n",
       "      <td>12.385737</td>\n",
       "      <td>33.560209</td>\n",
       "      <td>7.607881</td>\n",
       "      <td>1.575232</td>\n",
       "      <td>9.589714</td>\n",
       "    </tr>\n",
       "    <tr>\n",
       "      <td>min</td>\n",
       "      <td>3.000000</td>\n",
       "      <td>-2.597872</td>\n",
       "      <td>-1600.000000</td>\n",
       "      <td>7.370432</td>\n",
       "      <td>0.000000</td>\n",
       "      <td>-1.976976</td>\n",
       "      <td>14878.000000</td>\n",
       "      <td>0.000000</td>\n",
       "      <td>0.000000</td>\n",
       "      <td>0.213211</td>\n",
       "      <td>1.000000</td>\n",
       "      <td>6.187500</td>\n",
       "      <td>25.695250</td>\n",
       "      <td>0.000154</td>\n",
       "      <td>0.000108</td>\n",
       "    </tr>\n",
       "    <tr>\n",
       "      <td>25%</td>\n",
       "      <td>44.000000</td>\n",
       "      <td>3.637833</td>\n",
       "      <td>9.000000</td>\n",
       "      <td>15.040684</td>\n",
       "      <td>0.000000</td>\n",
       "      <td>12.868466</td>\n",
       "      <td>119359.000000</td>\n",
       "      <td>0.000000</td>\n",
       "      <td>0.000000</td>\n",
       "      <td>2.065217</td>\n",
       "      <td>40.000000</td>\n",
       "      <td>87.742188</td>\n",
       "      <td>40.165726</td>\n",
       "      <td>0.141069</td>\n",
       "      <td>0.229741</td>\n",
       "    </tr>\n",
       "    <tr>\n",
       "      <td>50%</td>\n",
       "      <td>52.000000</td>\n",
       "      <td>7.782188</td>\n",
       "      <td>10.000000</td>\n",
       "      <td>20.567593</td>\n",
       "      <td>0.000000</td>\n",
       "      <td>68.505049</td>\n",
       "      <td>179423.000000</td>\n",
       "      <td>0.000000</td>\n",
       "      <td>0.000000</td>\n",
       "      <td>3.236622</td>\n",
       "      <td>40.000000</td>\n",
       "      <td>110.664062</td>\n",
       "      <td>45.887420</td>\n",
       "      <td>0.330427</td>\n",
       "      <td>0.524947</td>\n",
       "    </tr>\n",
       "    <tr>\n",
       "      <td>75%</td>\n",
       "      <td>60.000000</td>\n",
       "      <td>10.261581</td>\n",
       "      <td>13.000000</td>\n",
       "      <td>43.221350</td>\n",
       "      <td>0.000000</td>\n",
       "      <td>127.017151</td>\n",
       "      <td>238008.000000</td>\n",
       "      <td>1.000000</td>\n",
       "      <td>0.000000</td>\n",
       "      <td>12.631271</td>\n",
       "      <td>45.000000</td>\n",
       "      <td>124.132812</td>\n",
       "      <td>50.369068</td>\n",
       "      <td>0.811356</td>\n",
       "      <td>2.081514</td>\n",
       "    </tr>\n",
       "    <tr>\n",
       "      <td>max</td>\n",
       "      <td>113.000000</td>\n",
       "      <td>34.539844</td>\n",
       "      <td>1600.000000</td>\n",
       "      <td>110.642211</td>\n",
       "      <td>99999.000000</td>\n",
       "      <td>1191.000837</td>\n",
       "      <td>972354.000000</td>\n",
       "      <td>1.000000</td>\n",
       "      <td>3900.000000</td>\n",
       "      <td>217.371238</td>\n",
       "      <td>99.000000</td>\n",
       "      <td>189.734375</td>\n",
       "      <td>91.206475</td>\n",
       "      <td>8.069522</td>\n",
       "      <td>68.101622</td>\n",
       "    </tr>\n",
       "  </tbody>\n",
       "</table>\n",
       "</div>"
      ],
      "text/plain": [
       "               age  kurtosis_oxygen  education-num   std_oxygen  capital-gain  \\\n",
       "count  3933.000000  3933.000000      3539.000000    3933.000000  3933.000000    \n",
       "mean   51.830409    7.413506         12.735801      31.153471    1122.053649    \n",
       "std    11.784733    4.812170         331.392504     22.267181    7552.465655    \n",
       "min    3.000000    -2.597872        -1600.000000    7.370432     0.000000       \n",
       "25%    44.000000    3.637833         9.000000       15.040684    0.000000       \n",
       "50%    52.000000    7.782188         10.000000      20.567593    0.000000       \n",
       "75%    60.000000    10.261581        13.000000      43.221350    0.000000       \n",
       "max    113.000000   34.539844        1600.000000    110.642211   99999.000000   \n",
       "\n",
       "       skewness_oxygen         fnlwgt        class  capital-loss  mean_oxygen  \\\n",
       "count  3932.000000      3933.000000    3933.000000  3932.000000   3933.000000   \n",
       "mean   91.321898        190983.830664  0.255276     88.158952     18.476772     \n",
       "std    108.556015       104075.857757  0.436072     402.222704    34.789202     \n",
       "min   -1.976976         14878.000000   0.000000     0.000000      0.213211      \n",
       "25%    12.868466        119359.000000  0.000000     0.000000      2.065217      \n",
       "50%    68.505049        179423.000000  0.000000     0.000000      3.236622      \n",
       "75%    127.017151       238008.000000  1.000000     0.000000      12.631271     \n",
       "max    1191.000837      972354.000000  1.000000     3900.000000   217.371238    \n",
       "\n",
       "       hours-per-week  mean_glucose  std_glucose  kurtosis_glucose  \\\n",
       "count  3932.000000     3933.000000   3933.000000  3933.000000        \n",
       "mean   40.731180       101.277271    45.174684    1.009346           \n",
       "std    12.385737       33.560209     7.607881     1.575232           \n",
       "min    1.000000        6.187500      25.695250    0.000154           \n",
       "25%    40.000000       87.742188     40.165726    0.141069           \n",
       "50%    40.000000       110.664062    45.887420    0.330427           \n",
       "75%    45.000000       124.132812    50.369068    0.811356           \n",
       "max    99.000000       189.734375    91.206475    8.069522           \n",
       "\n",
       "       skewness_glucose  \n",
       "count  3933.000000       \n",
       "mean   4.416022          \n",
       "std    9.589714          \n",
       "min    0.000108          \n",
       "25%    0.229741          \n",
       "50%    0.524947          \n",
       "75%    2.081514          \n",
       "max    68.101622         "
      ]
     },
     "execution_count": 241,
     "metadata": {},
     "output_type": "execute_result"
    }
   ],
   "source": [
    "train = pd.DataFrame.merge(personal, final, on=['name', 'address'], how='left')\n",
    "train.describe()"
   ]
  },
  {
   "cell_type": "markdown",
   "metadata": {},
   "source": [
    "## 5.2 Popis krokov predspracovania\n",
    "V tejto sekcií sa nachádza popis predspracovania jednotlivých atribútov v našom spojenom datasete nazvanom train."
   ]
  },
  {
   "cell_type": "markdown",
   "metadata": {},
   "source": [
    "### 5.2.1 name\n",
    "Mená subjektov nebude potrebné už nijako spracúvať - všetky mena sú unikátne a pre náš model už nemajú prakticky žiaden význam, slúžili nám teda vlastne iba na spojenie datasetov personal a other."
   ]
  },
  {
   "cell_type": "code",
   "execution_count": 242,
   "metadata": {},
   "outputs": [
    {
     "data": {
      "text/plain": [
       "0       False\n",
       "1       False\n",
       "2       False\n",
       "3       False\n",
       "4       False\n",
       "        ...  \n",
       "3928    False\n",
       "3929    False\n",
       "3930    False\n",
       "3931    False\n",
       "3932    False\n",
       "Name: name, Length: 3933, dtype: bool"
      ]
     },
     "execution_count": 242,
     "metadata": {},
     "output_type": "execute_result"
    }
   ],
   "source": [
    "train.name.duplicated(keep = False)"
   ]
  },
  {
   "cell_type": "markdown",
   "metadata": {},
   "source": [
    "### 5.2.2 address\n",
    "AE fakt neni stat......"
   ]
  },
  {
   "cell_type": "code",
   "execution_count": 243,
   "metadata": {},
   "outputs": [
    {
     "data": {
      "text/plain": [
       "0       7183 Osborne Ways Apt. 651\\r\\nEast Andrew, OH 53211       \n",
       "1       391 Ball Road Suite 961\\r\\nFlowersborough, IN 57550       \n",
       "2       8702 Vincent Square\\r\\nNew Jerryfurt, CO 30614            \n",
       "3       2751 Harris Crossroad\\r\\nWest Ashley, CA 30311            \n",
       "4       904 Robert Cliffs Suite 186\\r\\nWest Kyle, CO 77139        \n",
       "                               ...                                \n",
       "3928    8582 Lee Roads\\r\\nCostaburgh, SC 21897                    \n",
       "3929    68430 Erik Terrace Suite 279\\r\\nPort Adamborough, WV 73101\n",
       "3930    Unit 8416 Box 3801\\r\\nDPO AE 31166                        \n",
       "3931    34420 Brian Stream\\r\\nLake Michaeltown, MS 01832          \n",
       "3932    Unit 7931 Box 0601\\r\\nDPO AE 50505                        \n",
       "Name: address, Length: 3933, dtype: object"
      ]
     },
     "execution_count": 243,
     "metadata": {},
     "output_type": "execute_result"
    }
   ],
   "source": [
    "train.address"
   ]
  },
  {
   "cell_type": "markdown",
   "metadata": {},
   "source": [
    "### 5.2.3 age a date_of_birth"
   ]
  },
  {
   "cell_type": "code",
   "execution_count": null,
   "metadata": {},
   "outputs": [],
   "source": []
  },
  {
   "cell_type": "markdown",
   "metadata": {},
   "source": [
    "### 5.2.4 sex\n",
    "Pohlavie konvertujeme na numerickú hodnotu, keďže môže hrať rolu pri diagnostikovaní cukrovky. Môžeme ho teda konvertovať na stĺpec s názvom isMale. V ňom bude hodnota 0 zodpovedať ženám, 1 zas mužom. Keďže vidíme, že tento atribút nenadobúda žiadne nezmyselné hodnoty a taktiež nikdy nie je nulový, nič iné ošetrovať potrebné nebude."
   ]
  },
  {
   "cell_type": "code",
   "execution_count": 244,
   "metadata": {},
   "outputs": [
    {
     "data": {
      "text/plain": [
       "array(['Male', 'Female'], dtype=object)"
      ]
     },
     "execution_count": 244,
     "metadata": {},
     "output_type": "execute_result"
    }
   ],
   "source": [
    "train.sex.unique()"
   ]
  },
  {
   "cell_type": "code",
   "execution_count": 245,
   "metadata": {},
   "outputs": [],
   "source": [
    "#Funkcia ktora premenuje stlpec a konvertuje hodnoty z Male na 1 a Female na 0"
   ]
  },
  {
   "cell_type": "markdown",
   "metadata": {},
   "source": [
    "### 5.2.5 date_of_birth\n",
    "!!!!"
   ]
  },
  {
   "cell_type": "code",
   "execution_count": null,
   "metadata": {},
   "outputs": [],
   "source": []
  },
  {
   "cell_type": "markdown",
   "metadata": {},
   "source": [
    "### 5.2.6  kurtosis_oxygen"
   ]
  },
  {
   "cell_type": "code",
   "execution_count": null,
   "metadata": {},
   "outputs": [],
   "source": []
  },
  {
   "cell_type": "markdown",
   "metadata": {},
   "source": [
    "### 5.2.7 occupation\n",
    "Atribut reprezentujúci povolanie subjektu nikdy nenadobudne nulovú hodnotu. Nadobúda však hodnotu \"?\", ktorá ma pre nás rovnakú výpovednú hodnotu. Túto hodnotu nadobúda 233 záznamov - nahradíme ich hodnotou NaN. Taktiež sú vždy na začiatku stringov medzery - odstránime ich. Všetky tieto úpravy smerujú k vytvoreniu N nových stĺpcov."
   ]
  },
  {
   "cell_type": "code",
   "execution_count": 246,
   "metadata": {},
   "outputs": [],
   "source": [
    "#odstránenie medzier\n",
    "train.occupation = train.occupation.str.strip()"
   ]
  },
  {
   "cell_type": "code",
   "execution_count": 247,
   "metadata": {},
   "outputs": [
    {
     "data": {
      "text/plain": [
       "array([False])"
      ]
     },
     "execution_count": 247,
     "metadata": {},
     "output_type": "execute_result"
    }
   ],
   "source": [
    "train.occupation.isnull().unique()"
   ]
  },
  {
   "cell_type": "code",
   "execution_count": 248,
   "metadata": {},
   "outputs": [
    {
     "data": {
      "text/plain": [
       "233"
      ]
     },
     "execution_count": 248,
     "metadata": {},
     "output_type": "execute_result"
    }
   ],
   "source": [
    "len(train[train[\"occupation\"] == \"?\"])"
   ]
  },
  {
   "cell_type": "code",
   "execution_count": 249,
   "metadata": {},
   "outputs": [
    {
     "data": {
      "text/plain": [
       "array(['Exec_managerial', 'Adm-clerical', 'Prof-specialty',\n",
       "       'Farming-fishing', 'Other-service', 'Craft-repair',\n",
       "       'Prof_specialty', 'Sales', 'Exec-managerial', 'Tech-support', '?',\n",
       "       'Machine-op-inspct', 'Transport-moving', 'Craft_repair',\n",
       "       'Adm_clerical', 'Transport_moving', 'Handlers-cleaners',\n",
       "       'Other_service', 'Machine_op_inspct', 'Protective-serv',\n",
       "       'Handlers_cleaners', 'Tech_support', 'Farming_fishing',\n",
       "       'Priv-house-serv', 'Protective_serv', 'Armed-Forces',\n",
       "       'Priv_house_serv'], dtype=object)"
      ]
     },
     "execution_count": 249,
     "metadata": {},
     "output_type": "execute_result"
    }
   ],
   "source": [
    "train.occupation.unique()"
   ]
  },
  {
   "cell_type": "code",
   "execution_count": 319,
   "metadata": {},
   "outputs": [
    {
     "ename": "SyntaxError",
     "evalue": "invalid syntax (<ipython-input-319-f0cea6cd5504>, line 1)",
     "output_type": "error",
     "traceback": [
      "\u001b[1;36m  File \u001b[1;32m\"<ipython-input-319-f0cea6cd5504>\"\u001b[1;36m, line \u001b[1;32m1\u001b[0m\n\u001b[1;33m    count(DISTINCT train[\"occupation\"])\u001b[0m\n\u001b[1;37m                       ^\u001b[0m\n\u001b[1;31mSyntaxError\u001b[0m\u001b[1;31m:\u001b[0m invalid syntax\n"
     ]
    }
   ],
   "source": [
    "count(DISTINCT train[\"occupation\"])"
   ]
  },
  {
   "cell_type": "code",
   "execution_count": 250,
   "metadata": {},
   "outputs": [
    {
     "data": {
      "text/plain": [
       "count     3933           \n",
       "unique    27             \n",
       "top       Exec-managerial\n",
       "freq      449            \n",
       "Name: occupation, dtype: object"
      ]
     },
     "execution_count": 250,
     "metadata": {},
     "output_type": "execute_result"
    }
   ],
   "source": [
    "train.occupation.describe()"
   ]
  },
  {
   "cell_type": "markdown",
   "metadata": {},
   "source": [
    "### 5.2.8 marital-status\n",
    "Tiež odstránime zbytočné medzery na začiatku. Tento atribút taktiež nikdy nenadobúda nulovú hodnotu. Tiež by sme tento atribút mohli konvertovať na atribút s názvom isMarried, ktorý bude nadobúdať 0 ak sa jedná nevydaného človeka, 1 ak je aktuálne vydaný."
   ]
  },
  {
   "cell_type": "code",
   "execution_count": 251,
   "metadata": {},
   "outputs": [],
   "source": [
    "train[\"marital-status\"] = train[\"marital-status\"].str.strip()"
   ]
  },
  {
   "cell_type": "code",
   "execution_count": 252,
   "metadata": {},
   "outputs": [
    {
     "data": {
      "text/plain": [
       "array([False])"
      ]
     },
     "execution_count": 252,
     "metadata": {},
     "output_type": "execute_result"
    }
   ],
   "source": [
    "train[\"marital-status\"].isnull().unique()"
   ]
  },
  {
   "cell_type": "code",
   "execution_count": 253,
   "metadata": {},
   "outputs": [
    {
     "data": {
      "text/plain": [
       "array(['Married-civ-spouse', 'Divorced', 'Never-married', 'Separated',\n",
       "       'Widowed', 'Married-spouse-absent', 'Married-AF-spouse'],\n",
       "      dtype=object)"
      ]
     },
     "execution_count": 253,
     "metadata": {},
     "output_type": "execute_result"
    }
   ],
   "source": [
    "train[\"marital-status\"].unique()"
   ]
  },
  {
   "cell_type": "markdown",
   "metadata": {},
   "source": [
    "### 5.2.9 pregnant\n",
    "Vo výpise nižšie môžeme vidieť, že atribút pregnant nadobúda v našom datasete až 6 hodnôt (7 ak rátame NaN). Keďže tento atribút hovorí o tom, či je sledovaný človek tehotný alebo nie, vieme povedať, že sa jedná o boolean hodnotu - mal by teda nadobúdať len 2 hodnoty. Bude teda potrebné konvertovať 6 hodnôt na 2 - môžeme to rovno konvertovať na hodnoty numerické, aby ich mohol používať náš model. Taktiež musíme ošetriť všetky situácie, v ktorých sú muži tehotný, čo budeme považovať za nezmysel a hodnotu nastavíme na false. Všetky NaN hodnoty budeme nastavovať na false. Nakoniec konvertujeme tieto hodnoty na numerické, pričom vytvoríme nový stĺpec s názvom isPregnant - 0 znamená, že subjekt nie je tehotný, 1 že tehotný je."
   ]
  },
  {
   "cell_type": "code",
   "execution_count": 254,
   "metadata": {},
   "outputs": [
    {
     "data": {
      "text/plain": [
       "array(['f', 'FALSE', 'F', 't', 'TRUE', 'T', nan], dtype=object)"
      ]
     },
     "execution_count": 254,
     "metadata": {},
     "output_type": "execute_result"
    }
   ],
   "source": [
    "train.pregnant.unique()"
   ]
  },
  {
   "cell_type": "code",
   "execution_count": 255,
   "metadata": {},
   "outputs": [
    {
     "data": {
      "text/plain": [
       "count     1282\n",
       "unique    6   \n",
       "top       f   \n",
       "freq      1124\n",
       "Name: pregnant, dtype: object"
      ]
     },
     "execution_count": 255,
     "metadata": {},
     "output_type": "execute_result"
    }
   ],
   "source": [
    "train[(train[\"sex\"] == \"Female\")].pregnant.describe()\n"
   ]
  },
  {
   "cell_type": "code",
   "execution_count": 256,
   "metadata": {},
   "outputs": [],
   "source": [
    "def getPregnant(row):\n",
    "    \n",
    "    if str(row['sex']) == 'Male':\n",
    "        return 0\n",
    "    if str(row['pregnant']) in 'nan':\n",
    "        return 0\n",
    "    else:\n",
    "        return row['pregnant']\n",
    "    \n",
    "\n",
    "def fillPregnant(df):\n",
    "    \n",
    "    df['pregnant'] = df.apply(lambda row: getPregnant(row), axis=1)\n",
    "    return df\n",
    "\n",
    "\n",
    "train = fillPregnant(train)"
   ]
  },
  {
   "cell_type": "code",
   "execution_count": 257,
   "metadata": {},
   "outputs": [
    {
     "data": {
      "text/plain": [
       "array([0, 'f', 'FALSE', 'F', 't', 'TRUE', 'T'], dtype=object)"
      ]
     },
     "execution_count": 257,
     "metadata": {},
     "output_type": "execute_result"
    }
   ],
   "source": [
    "train.pregnant.unique()"
   ]
  },
  {
   "cell_type": "markdown",
   "metadata": {},
   "source": [
    "Predošlá funkcia nastaví všetkým záznamom, v ktorých je nastavené mužské pohlavie hodnotu pregnant na 0 - false. Taktiež nastaví všetkým záznamom, kde je NaN hodnotu pregnant 0. Teraz je potrebné zmeniť všetky možné tvary tohoto atribútu zmeniť na jednotný tvar - teda na 0 ako false a 1 ako true."
   ]
  },
  {
   "cell_type": "code",
   "execution_count": 274,
   "metadata": {},
   "outputs": [],
   "source": [
    "def changePregnant(row):    \n",
    "    \n",
    "    if str(row['pregnant']) in (\"f\", \"FALSE\", \"F\"):\n",
    "        return 0;\n",
    "    if str(row['pregnant']) in (\"t\", \"TRUE\", \"T\"):\n",
    "        return 1;\n",
    "    else:\n",
    "        return row['pregnant'];\n",
    "    \n",
    "    \n",
    "def fixPregnant(df):\n",
    "    \n",
    "    df['pregnant'] = df.apply(lambda row: changePregnant(row), axis=1)\n",
    "    df = df.rename(columns={'pregnant':'isPregnant'})\n",
    "    return df;\n",
    "\n",
    "\n",
    "train = fixPregnant(train)"
   ]
  },
  {
   "cell_type": "code",
   "execution_count": 322,
   "metadata": {},
   "outputs": [
    {
     "name": "stdout",
     "output_type": "stream",
     "text": [
      "<class 'pandas.core.frame.DataFrame'>\n",
      "Int64Index: 3933 entries, 0 to 3932\n",
      "Data columns (total 28 columns):\n",
      "name                3933 non-null object\n",
      "address             3933 non-null object\n",
      "age                 3933 non-null float64\n",
      "sex                 3933 non-null object\n",
      "date_of_birth       3933 non-null object\n",
      "kurtosis_oxygen     3933 non-null float64\n",
      "occupation          3933 non-null object\n",
      "marital-status      3933 non-null object\n",
      "isPregnant          3933 non-null int64\n",
      "education-num       3539 non-null float64\n",
      "relationship        3933 non-null object\n",
      "std_oxygen          3933 non-null float64\n",
      "capital-gain        3933 non-null float64\n",
      "skewness_oxygen     3932 non-null float64\n",
      "education           3933 non-null object\n",
      "fnlwgt              3933 non-null float64\n",
      "class               3933 non-null float64\n",
      "income              3933 non-null object\n",
      "native-country      3931 non-null object\n",
      "capital-loss        3932 non-null float64\n",
      "mean_oxygen         3933 non-null float64\n",
      "hours-per-week      3932 non-null float64\n",
      "race                3933 non-null object\n",
      "workclass           3700 non-null object\n",
      "mean_glucose        3933 non-null float64\n",
      "std_glucose         3933 non-null float64\n",
      "kurtosis_glucose    3933 non-null float64\n",
      "skewness_glucose    3933 non-null float64\n",
      "dtypes: float64(15), int64(1), object(12)\n",
      "memory usage: 891.1+ KB\n"
     ]
    }
   ],
   "source": [
    "train.info()"
   ]
  },
  {
   "cell_type": "markdown",
   "metadata": {},
   "source": [
    "V stĺpci pregnant máme teraz už iba hodnoty 0 a 1. Taktiež sme ho premenovali na isPregnant, aby lepšie reprezentoval hodnoty, ktoré sa v ňom nachádzajú. Už sa jedná o atribút spojitý, nie kategorický (keďže obsahuje integery) - automaticky sa konvertoval na numerickú hodnotu. "
   ]
  },
  {
   "cell_type": "markdown",
   "metadata": {},
   "source": [
    "### 5.2.10 education-num a education\n",
    "Atribúty education-num a education spolu súvisia. Education-num je numerickou formou atribútu education. Bude však potrebné riešiť vychýlené hodnoty a NaN."
   ]
  },
  {
   "cell_type": "code",
   "execution_count": null,
   "metadata": {},
   "outputs": [],
   "source": [
    "train[\"education-num\"]"
   ]
  },
  {
   "cell_type": "markdown",
   "metadata": {},
   "source": [
    "### 5.2.11 relationship"
   ]
  },
  {
   "cell_type": "code",
   "execution_count": 277,
   "metadata": {},
   "outputs": [
    {
     "data": {
      "text/plain": [
       "array([' Other-relative', ' Wife', ' Not-in-family', ' Husband',\n",
       "       ' Unmarried', ' Own-child'], dtype=object)"
      ]
     },
     "execution_count": 277,
     "metadata": {},
     "output_type": "execute_result"
    }
   ],
   "source": [
    "train.relationship.unique()"
   ]
  },
  {
   "cell_type": "markdown",
   "metadata": {},
   "source": [
    "### 5.2.12 std_oxygen"
   ]
  },
  {
   "cell_type": "code",
   "execution_count": 279,
   "metadata": {},
   "outputs": [
    {
     "data": {
      "text/plain": [
       "count    3933.000000\n",
       "mean     31.153471  \n",
       "std      22.267181  \n",
       "min      7.370432   \n",
       "25%      15.040684  \n",
       "50%      20.567593  \n",
       "75%      43.221350  \n",
       "max      110.642211 \n",
       "Name: std_oxygen, dtype: float64"
      ]
     },
     "execution_count": 279,
     "metadata": {},
     "output_type": "execute_result"
    }
   ],
   "source": [
    "train.std_oxygen.describe()"
   ]
  },
  {
   "cell_type": "markdown",
   "metadata": {},
   "source": [
    "### 5.2.13 capital-gain"
   ]
  },
  {
   "cell_type": "code",
   "execution_count": null,
   "metadata": {},
   "outputs": [],
   "source": []
  },
  {
   "cell_type": "markdown",
   "metadata": {},
   "source": [
    "### 5.2.14 skewness_oxygen"
   ]
  },
  {
   "cell_type": "code",
   "execution_count": null,
   "metadata": {},
   "outputs": [],
   "source": []
  },
  {
   "cell_type": "markdown",
   "metadata": {},
   "source": [
    "### 5.2.15 education\n",
    "!!!!"
   ]
  },
  {
   "cell_type": "code",
   "execution_count": null,
   "metadata": {},
   "outputs": [],
   "source": []
  },
  {
   "cell_type": "markdown",
   "metadata": {},
   "source": [
    "### 5.2.16 fnlwgt"
   ]
  },
  {
   "cell_type": "code",
   "execution_count": null,
   "metadata": {},
   "outputs": [],
   "source": []
  },
  {
   "cell_type": "markdown",
   "metadata": {},
   "source": [
    "### 5.2.17 class"
   ]
  },
  {
   "cell_type": "code",
   "execution_count": null,
   "metadata": {},
   "outputs": [],
   "source": []
  },
  {
   "cell_type": "markdown",
   "metadata": {},
   "source": [
    "### 5.2.18 income"
   ]
  },
  {
   "cell_type": "code",
   "execution_count": null,
   "metadata": {},
   "outputs": [],
   "source": []
  },
  {
   "cell_type": "markdown",
   "metadata": {},
   "source": [
    "### 5.2.19 native-country"
   ]
  },
  {
   "cell_type": "code",
   "execution_count": null,
   "metadata": {},
   "outputs": [],
   "source": []
  },
  {
   "cell_type": "markdown",
   "metadata": {},
   "source": [
    "### 5.2.20 capital-loss"
   ]
  },
  {
   "cell_type": "code",
   "execution_count": null,
   "metadata": {},
   "outputs": [],
   "source": []
  },
  {
   "cell_type": "markdown",
   "metadata": {},
   "source": [
    "### 5.2.21 mean_oxygen\n",
    "Mame veľký rozdiel medzi min a max hodnotami tohoto atribútu - pravdepodobne sa jedná o nejaké outliery. Vykreslíme si aj plotbox, aby sme sa uistili."
   ]
  },
  {
   "cell_type": "code",
   "execution_count": 288,
   "metadata": {},
   "outputs": [
    {
     "data": {
      "text/plain": [
       "count    3933.000000\n",
       "mean     18.476772  \n",
       "std      34.789202  \n",
       "min      0.213211   \n",
       "25%      2.065217   \n",
       "50%      3.236622   \n",
       "75%      12.631271  \n",
       "max      217.371238 \n",
       "Name: mean_oxygen, dtype: float64"
      ]
     },
     "execution_count": 288,
     "metadata": {},
     "output_type": "execute_result"
    }
   ],
   "source": [
    "train.mean_oxygen.describe()"
   ]
  },
  {
   "cell_type": "code",
   "execution_count": 314,
   "metadata": {},
   "outputs": [
    {
     "data": {
      "text/plain": [
       "107.68979933999981"
      ]
     },
     "execution_count": 314,
     "metadata": {},
     "output_type": "execute_result"
    }
   ],
   "source": [
    "np.percentile(train[\"mean_oxygen\"], 95)"
   ]
  },
  {
   "cell_type": "code",
   "execution_count": 318,
   "metadata": {},
   "outputs": [
    {
     "data": {
      "text/plain": [
       "<matplotlib.axes._subplots.AxesSubplot at 0x23466c1ed68>"
      ]
     },
     "execution_count": 318,
     "metadata": {},
     "output_type": "execute_result"
    },
    {
     "data": {
      "image/png": "[encoded data removed]",
      "text/plain": [
       "<Figure size 432x288 with 1 Axes>"
      ]
     },
     "metadata": {},
     "output_type": "display_data"
    }
   ],
   "source": [
    "train.mean_oxygen.plot(kind = 'box')"
   ]
  },
  {
   "cell_type": "markdown",
   "metadata": {},
   "source": [
    "Vidíme, že máme hodnoty z intervalu cca 0 = 200 = tak to je celé zle"
   ]
  },
  {
   "cell_type": "markdown",
   "metadata": {},
   "source": [
    "### 5.2.22 hours-per-week"
   ]
  },
  {
   "cell_type": "code",
   "execution_count": null,
   "metadata": {},
   "outputs": [],
   "source": []
  },
  {
   "cell_type": "markdown",
   "metadata": {},
   "source": [
    "### 5.2.23 race"
   ]
  },
  {
   "cell_type": "code",
   "execution_count": null,
   "metadata": {},
   "outputs": [],
   "source": []
  },
  {
   "cell_type": "markdown",
   "metadata": {},
   "source": [
    "### 5.2.24 workclass"
   ]
  },
  {
   "cell_type": "code",
   "execution_count": null,
   "metadata": {},
   "outputs": [],
   "source": []
  },
  {
   "cell_type": "markdown",
   "metadata": {},
   "source": [
    "### 5.2.25 mean_glucose"
   ]
  },
  {
   "cell_type": "code",
   "execution_count": null,
   "metadata": {},
   "outputs": [],
   "source": []
  },
  {
   "cell_type": "markdown",
   "metadata": {},
   "source": [
    "### 5.2.26 std_glucose"
   ]
  },
  {
   "cell_type": "code",
   "execution_count": null,
   "metadata": {},
   "outputs": [],
   "source": []
  },
  {
   "cell_type": "markdown",
   "metadata": {},
   "source": [
    "### 5.2.27 kurtosis_glucose"
   ]
  },
  {
   "cell_type": "code",
   "execution_count": null,
   "metadata": {},
   "outputs": [],
   "source": []
  },
  {
   "cell_type": "markdown",
   "metadata": {},
   "source": [
    "### 5.2.28 skewness_glucose"
   ]
  },
  {
   "cell_type": "code",
   "execution_count": null,
   "metadata": {},
   "outputs": [],
   "source": []
  },
  {
   "cell_type": "markdown",
   "metadata": {},
   "source": [
    "## 5.3 Znovupoužiteľnosť predspracovania"
   ]
  },
  {
   "cell_type": "markdown",
   "metadata": {},
   "source": [
    "## 5.4 Opätovná realizácia prieskumnej analýzy"
   ]
  },
  {
   "cell_type": "code",
   "execution_count": null,
   "metadata": {},
   "outputs": [],
   "source": []
  },
  {
   "cell_type": "code",
   "execution_count": null,
   "metadata": {},
   "outputs": [],
   "source": []
  },
  {
   "cell_type": "code",
   "execution_count": null,
   "metadata": {},
   "outputs": [],
   "source": []
  },
  {
   "cell_type": "code",
   "execution_count": null,
   "metadata": {},
   "outputs": [],
   "source": []
  },
  {
   "cell_type": "code",
   "execution_count": null,
   "metadata": {},
   "outputs": [],
   "source": []
  },
  {
   "cell_type": "code",
   "execution_count": null,
   "metadata": {},
   "outputs": [],
   "source": []
  },
  {
   "cell_type": "code",
   "execution_count": null,
   "metadata": {},
   "outputs": [],
   "source": []
  },
  {
   "cell_type": "code",
   "execution_count": null,
   "metadata": {},
   "outputs": [],
   "source": []
  },
  {
   "cell_type": "markdown",
   "metadata": {},
   "source": []
  },
  {
   "cell_type": "code",
   "execution_count": null,
   "metadata": {},
   "outputs": [],
   "source": []
  },
  {
   "cell_type": "code",
   "execution_count": null,
   "metadata": {
    "scrolled": false
   },
   "outputs": [],
   "source": []
  },
  {
   "cell_type": "code",
   "execution_count": null,
   "metadata": {
    "scrolled": true
   },
   "outputs": [],
   "source": []
  },
  {
   "cell_type": "code",
   "execution_count": null,
   "metadata": {},
   "outputs": [],
   "source": []
  }
 ],
 "metadata": {
  "kernelspec": {
   "display_name": "Python 3",
   "language": "python",
   "name": "python3"
  },
  "language_info": {
   "codemirror_mode": {
    "name": "ipython",
    "version": 3
   },
   "file_extension": ".py",
   "mimetype": "text/x-python",
   "name": "python",
   "nbconvert_exporter": "python",
   "pygments_lexer": "ipython3",
   "version": "3.7.3"
  }
 },
 "nbformat": 4,
 "nbformat_minor": 2
}
